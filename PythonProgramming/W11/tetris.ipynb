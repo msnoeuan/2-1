{
 "cells": [
  {
   "cell_type": "markdown",
   "id": "7fc27b14-365a-4aff-a097-8dae08e52785",
   "metadata": {},
   "source": [
    "### mac에서 pygame 실행\n",
    "1. py 파일 생성\n",
    "- File -> Save and Export Notebook As -> Executable Script -> py파일 원하는 폴더로 이동\n",
    "\n",
    "2. 실행\n",
    "- 터미널 -> 현재 위치를 파일이 있는 위치로 이동 -> python3 tetris.py"
   ]
  },
  {
   "cell_type": "code",
   "execution_count": 1,
   "id": "4aad8c15-33df-417b-84fb-15066377bc56",
   "metadata": {
    "ExecuteTime": {
     "end_time": "2025-05-13T01:43:00.843853Z",
     "start_time": "2025-05-13T01:42:49.019033Z"
    }
   },
   "outputs": [
    {
     "name": "stdout",
     "output_type": "stream",
     "text": [
      "pygame 2.6.1 (SDL 2.28.4, Python 3.12.7)\n",
      "Hello from the pygame community. https://www.pygame.org/contribute.html\n"
     ]
    },
    {
     "ename": "SystemExit",
     "evalue": "",
     "output_type": "error",
     "traceback": [
      "An exception has occurred, use %tb to see the full traceback.\n",
      "\u001b[0;31mSystemExit\u001b[0m\n"
     ]
    },
    {
     "name": "stderr",
     "output_type": "stream",
     "text": [
      "/opt/anaconda3/lib/python3.12/site-packages/IPython/core/interactiveshell.py:3585: UserWarning: To exit: use 'exit', 'quit', or Ctrl-D.\n",
      "  warn(\"To exit: use 'exit', 'quit', or Ctrl-D.\", stacklevel=1)\n"
     ]
    }
   ],
   "source": [
    "import sys\n",
    "import pygame\n",
    "import random  # 무작위로 블록을 뽑기 위해 사용\n",
    "# Pygame 초기화\n",
    "pygame.init()\n",
    "\n",
    "# 화면 크기 설정\n",
    "WIDTH, HEIGHT = 300, 600  # 너비, 높이 - 픽셀\n",
    "ROWS, COLS = 20, 10  # 행, 열 - 칸\n",
    "BLOCK_SIZE = WIDTH // COLS  # 한 칸(한 블록)의 가로 크기 : 300 // 10 = 30\n",
    "\n",
    "# 색상 정의\n",
    "WHITE = (255, 255, 255)\n",
    "BLACK = (255, 192, 203)  # 배경색\n",
    "BLUE = (0, 0, 255)  # 블록색\n",
    "\n",
    "# 블록 모양 정의(I, O, T, S, Z, L, J)\n",
    "SHAPES = [\n",
    "    [[1, 1, 1, 1]],  # I\n",
    "    [[1, 1], [1, 1]],  # O\n",
    "    [[0, 1, 0], [1, 1, 1]],  # T\n",
    "    [[0, 1, 1], [1, 1, 0]],  # S\n",
    "    [[1, 1, 0], [0, 1, 1]],  # Z\n",
    "    [[1, 0, 0], [1, 1, 1]],  # L\n",
    "    [[0, 0, 1], [1, 1, 1]]  # J\n",
    "]\n",
    "\n",
    "# 게임 보드 초기화\n",
    "# 0으로 채워진 2차원 리스트(20행 X 10열) 생성\n",
    "# 블록이 내려오면 0 -> 1로 변경\n",
    "def create_board() :\n",
    "    return [[0 for _ in range(COLS)] for _ in range(ROWS)]  # 중첩 for문과 비슷한 구조?\n",
    "    \n",
    "# 블록 그리기 함수\n",
    "def draw_block(screen, shape, x, y) :\n",
    "    # enumerate(list) : 리스트를 반복하면서 현재 인덱스와 값 둘 다 반환해주는 함수\n",
    "    for row_idx, row in enumerate(shape) :\n",
    "        for col_idx, cell in enumerate(row) :\n",
    "            if cell :  # if cell == 1\n",
    "                pygame.draw.rect(  # pygame.draw.rect(화면, 색상, (x좌표, y좌표, 너비, 높이))\n",
    "                    screen,  # 화면에\n",
    "                    BLUE,  # BLUE(rgb 저장값) 색상으로\n",
    "                    (\n",
    "                        x + col_idx * BLOCK_SIZE,  # x좌표\n",
    "                        y + row_idx * BLOCK_SIZE,  # y좌표\n",
    "                        BLOCK_SIZE,  # 너비\n",
    "                        BLOCK_SIZE  # 높이\n",
    "                    )  # ,(콤마) 생략 가능\n",
    "                )\n",
    "\n",
    "def main() :\n",
    "    screen = pygame.display.set_mode((WIDTH, HEIGHT))  # 게임 화면 열기\n",
    "    pygame.display.set_caption(\"Tetris\")  # 제목 설정\n",
    "\n",
    "    clock = pygame.time.Clock()  # 타이머 생성\n",
    "    board = create_board() \n",
    "    running = True  # 게임 루프를 돌릴지 여부(False면 실행되지 않음)\n",
    "\n",
    "    current_block = random.choice(SHAPES)  # random 라이브러리\n",
    "    block_x, block_y = 4 * BLOCK_SIZE, 0  # 블록이 떨어지기 시작할 위치 설정\n",
    "\n",
    "    while running :\n",
    "        screen.fill(BLACK)\n",
    "\n",
    "        for event in pygame.event.get() :\n",
    "            if event.type == pygame.QUIT :  # 이벤트 중에서 창 닫기 버튼(X)을 눌렀는지 확인\n",
    "                running = False\n",
    "\n",
    "        # 블록 이동 로직\n",
    "        keys = pygame.key.get_pressed()  # 키보드에서 어떤 키가 눌렸는지 확인\n",
    "\n",
    "        # -는 왼쪽 이동 +는 오른쪽 이동\n",
    "        if keys[pygame.K_LEFT] :\n",
    "            block_x -= BLOCK_SIZE  # block_x = block_x(시작 위치) - BLOCK_SIZE(한 칸)\n",
    "        if keys[pygame.K_RIGHT] :\n",
    "            block_x += BLOCK_SIZE\n",
    "        if keys[pygame.K_DOWN] :\n",
    "            block_y += BLOCK_SIZE\n",
    "\n",
    "        # 게임 보드와 블록 그리기\n",
    "        draw_block(screen, current_block, block_x, block_y)\n",
    "\n",
    "        pygame.display.flip()  # 실제 화면에 그린 결과를 보여줌\n",
    "        clock.tick(10)  # 초당 최대 10프레임으로 속도 제한\n",
    "\n",
    "    pygame.quit()\n",
    "\n",
    "# 파일을 실행했을 때만 main() 함수 실행\n",
    "if __name__ == \"__main__\" :\n",
    "    main()"
   ]
  },
  {
   "cell_type": "code",
   "execution_count": 3,
   "id": "edda7d09-2918-45a6-8e47-5d8c180a9760",
   "metadata": {},
   "outputs": [
    {
     "data": {
      "text/plain": [
       "0.7550374884582733"
      ]
     },
     "execution_count": 3,
     "metadata": {},
     "output_type": "execute_result"
    }
   ],
   "source": [
    "random.random()"
   ]
  },
  {
   "cell_type": "code",
   "execution_count": null,
   "id": "2b5c2e63-3c89-459d-8ca8-b80da16675cc",
   "metadata": {},
   "outputs": [],
   "source": []
  }
 ],
 "metadata": {
  "kernelspec": {
   "display_name": "Python [conda env:base] *",
   "language": "python",
   "name": "conda-base-py"
  },
  "language_info": {
   "codemirror_mode": {
    "name": "ipython",
    "version": 3
   },
   "file_extension": ".py",
   "mimetype": "text/x-python",
   "name": "python",
   "nbconvert_exporter": "python",
   "pygments_lexer": "ipython3",
   "version": "3.12.7"
  }
 },
 "nbformat": 4,
 "nbformat_minor": 5
}
