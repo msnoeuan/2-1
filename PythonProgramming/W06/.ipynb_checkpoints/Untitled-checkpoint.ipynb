{
 "cells": [
  {
   "cell_type": "markdown",
   "id": "48d669c3-4981-4b9f-bd4e-db0716c20d84",
   "metadata": {},
   "source": [
    "## Lecture 1 : 함수 정의와 활용\n",
    "### 1. 함수 개요\n",
    "- 파이썬 함수는 내장함수(built-in function)과 사용자 정의 함수(user-defined function)으로 나눌 수 있음\n",
    "- 내장함수(built-in function) : 파이썬 설치와 함께 이미 설치된 함수\n",
    "> len([1, 2, 3])\n",
    "- 사용자 정의 함수(user-defined function) : 사용자가 직접 만들어 활용하는 함수\n",
    "> def add(x, y) :  \n",
    "> &nbsp;&nbsp;&nbsp;&nbsp; s = x + y  \n",
    "> &nbsp;&nbsp;&nbsp;&nbsp; return s  \n",
    "> add(3, 5)  \n",
    "### 2. 내장함수(built-in function)\n",
    "- 내장함수(built-in function) : 파이썬 설치와 함께 이미 설치된 함수\n",
    "> len([1, 2, 3])"
   ]
  },
  {
   "cell_type": "code",
   "execution_count": null,
   "id": "69aeaa2e-a647-4134-bfbc-7070b70c2af1",
   "metadata": {},
   "outputs": [],
   "source": []
  }
 ],
 "metadata": {
  "kernelspec": {
   "display_name": "Python [conda env:base] *",
   "language": "python",
   "name": "conda-base-py"
  },
  "language_info": {
   "codemirror_mode": {
    "name": "ipython",
    "version": 3
   },
   "file_extension": ".py",
   "mimetype": "text/x-python",
   "name": "python",
   "nbconvert_exporter": "python",
   "pygments_lexer": "ipython3",
   "version": "3.12.7"
  }
 },
 "nbformat": 4,
 "nbformat_minor": 5
}
