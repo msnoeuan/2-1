{
 "cells": [
  {
   "cell_type": "markdown",
   "id": "bd727d09-a8b2-4267-90d2-08162713dd76",
   "metadata": {},
   "source": [
    "## Lecture 1 :중복과 순서가 없는 집합\n",
    "### 1. 집합(set)의 이해\n",
    "- 원소는 유일하고 순서는 의미 없는 집합\n",
    "- 집합의 원소는 정수, 실수, 문자열, 튜플 등 수정 불가능한(immutable) 것이어야 함\n",
    "> { element-0, element-1, ... , element-n}"
   ]
  },
  {
   "cell_type": "markdown",
   "id": "a347b1c4-72db-4e98-93f2-67bf4e4f9faf",
   "metadata": {},
   "source": [
    "### LAB-1 집합 생성과 참조"
   ]
  },
  {
   "cell_type": "code",
   "execution_count": 4,
   "id": "cd37849e-ca9f-49cf-b2f8-0220d273f0a3",
   "metadata": {},
   "outputs": [
    {
     "name": "stdout",
     "output_type": "stream",
     "text": [
      "{1, 2, 3, 4, 5}\n"
     ]
    }
   ],
   "source": [
    "num_set = {1, 1, 2, 2, 3, 4, 4, 5}\n",
    "print(num_set)"
   ]
  },
  {
   "cell_type": "code",
   "execution_count": 6,
   "id": "12e09983-cf93-4cf0-a72c-7b44ebfa65db",
   "metadata": {},
   "outputs": [
    {
     "name": "stdout",
     "output_type": "stream",
     "text": [
      "{(1, 1), (3, 9), (2, 4)}\n"
     ]
    }
   ],
   "source": [
    "tpl_set = {(1, 1), (2, 4), (3, 9)}\n",
    "print(tpl_set)"
   ]
  },
  {
   "cell_type": "code",
   "execution_count": 8,
   "id": "978e7e8e-566b-4359-9c39-376a9c420489",
   "metadata": {},
   "outputs": [
    {
     "ename": "TypeError",
     "evalue": "unhashable type: 'list'",
     "output_type": "error",
     "traceback": [
      "\u001b[0;31m---------------------------------------------------------------------------\u001b[0m",
      "\u001b[0;31mTypeError\u001b[0m                                 Traceback (most recent call last)",
      "Cell \u001b[0;32mIn[8], line 1\u001b[0m\n\u001b[0;32m----> 1\u001b[0m s1 \u001b[38;5;241m=\u001b[39m {[\u001b[38;5;241m1\u001b[39m, \u001b[38;5;241m1\u001b[39m], [\u001b[38;5;241m2\u001b[39m, \u001b[38;5;241m4\u001b[39m], [\u001b[38;5;241m3\u001b[39m, \u001b[38;5;241m9\u001b[39m]}\n\u001b[1;32m      2\u001b[0m \u001b[38;5;28mprint\u001b[39m(s1)\n",
      "\u001b[0;31mTypeError\u001b[0m: unhashable type: 'list'"
     ]
    }
   ],
   "source": [
    "# 오류 - 수정 불가능한(immutable) 객체만 원소로 가능\n",
    "s1 = {[1, 1], [2, 4], [3, 9]}\n",
    "print(s1)"
   ]
  },
  {
   "cell_type": "code",
   "execution_count": 10,
   "id": "a9adf91c-fc5c-4c3a-bc3c-2aa5d689007d",
   "metadata": {},
   "outputs": [
    {
     "name": "stdout",
     "output_type": "stream",
     "text": [
      "set()\n"
     ]
    }
   ],
   "source": [
    "s = set()\n",
    "print(s)"
   ]
  },
  {
   "cell_type": "code",
   "execution_count": 14,
   "id": "770b0955-261f-4020-a418-1521b639be3d",
   "metadata": {},
   "outputs": [
    {
     "name": "stdout",
     "output_type": "stream",
     "text": [
      "{1, 2, 3}\n"
     ]
    }
   ],
   "source": [
    "# 리스트로 집합 만들기\n",
    "s = set([1, 2, 3])\n",
    "print(s)"
   ]
  },
  {
   "cell_type": "code",
   "execution_count": 16,
   "id": "8074b5de-2522-4217-84c2-c9dae4fb15c8",
   "metadata": {},
   "outputs": [
    {
     "name": "stdout",
     "output_type": "stream",
     "text": [
      "{'a', 'v', 'j'}\n"
     ]
    }
   ],
   "source": [
    "s = set('java')\n",
    "print(s)"
   ]
  },
  {
   "cell_type": "code",
   "execution_count": 18,
   "id": "d3775f32-18f7-46ab-baf7-0d53f375df4b",
   "metadata": {},
   "outputs": [
    {
     "name": "stdout",
     "output_type": "stream",
     "text": [
      "{0, 1, 2, 3, 4}\n"
     ]
    }
   ],
   "source": [
    "s = set(range(5))\n",
    "print(s)"
   ]
  },
  {
   "cell_type": "code",
   "execution_count": 20,
   "id": "71802365-fd16-481f-98dd-5a412a04c707",
   "metadata": {},
   "outputs": [
    {
     "name": "stdout",
     "output_type": "stream",
     "text": [
      "a v j "
     ]
    }
   ],
   "source": [
    "for c in set('java') :\n",
    "    print(c, end = ' ')"
   ]
  },
  {
   "cell_type": "markdown",
   "id": "91ab1515-0f64-4079-a8be-d593d11d27a6",
   "metadata": {},
   "source": [
    "### LAB-2 집합(set) 관련 메서드"
   ]
  },
  {
   "cell_type": "code",
   "execution_count": 27,
   "id": "70ddb12d-c870-4056-8e15-233fdc5bdee6",
   "metadata": {},
   "outputs": [
    {
     "data": {
      "text/plain": [
       "2"
      ]
     },
     "execution_count": 27,
     "metadata": {},
     "output_type": "execute_result"
    }
   ],
   "source": [
    "p1 = {'python', 'kotlin'}\n",
    "len(p1)  # 집합 p1의 원소 개수"
   ]
  },
  {
   "cell_type": "code",
   "execution_count": 29,
   "id": "13148e65-9926-490c-af8a-0aced15a6787",
   "metadata": {},
   "outputs": [
    {
     "data": {
      "text/plain": [
       "True"
      ]
     },
     "execution_count": 29,
     "metadata": {},
     "output_type": "execute_result"
    }
   ],
   "source": [
    "p1 = {'python', 'kotlin'}\n",
    "'python' in p1"
   ]
  },
  {
   "cell_type": "code",
   "execution_count": 31,
   "id": "42f67095-2d0d-41cc-af1d-58c32244e540",
   "metadata": {},
   "outputs": [
    {
     "name": "stdout",
     "output_type": "stream",
     "text": [
      "{1, 3, 5, 7}\n"
     ]
    }
   ],
   "source": [
    "odd = {1, 3, 5}\n",
    "odd.add(7)\n",
    "print(odd)"
   ]
  },
  {
   "cell_type": "code",
   "execution_count": 33,
   "id": "b6b64ef5-d189-42ca-890e-84ef12a9e369",
   "metadata": {},
   "outputs": [
    {
     "name": "stdout",
     "output_type": "stream",
     "text": [
      "{1, 5}\n"
     ]
    }
   ],
   "source": [
    "odd = {1, 3, 5}\n",
    "odd.remove(3)\n",
    "print(odd)"
   ]
  },
  {
   "cell_type": "code",
   "execution_count": 37,
   "id": "a29df8be-a760-4ea0-8e3f-5bd3476e3d60",
   "metadata": {},
   "outputs": [
    {
     "name": "stdout",
     "output_type": "stream",
     "text": [
      "{3, 5}\n"
     ]
    }
   ],
   "source": [
    "# pop() : 집합 odd에 임의의 원소 제거\n",
    "odd = {1, 3, 5}\n",
    "odd.pop()\n",
    "print(odd)"
   ]
  },
  {
   "cell_type": "code",
   "execution_count": 43,
   "id": "706b5b05-ee46-4b76-8f7b-8e147635123a",
   "metadata": {},
   "outputs": [
    {
     "name": "stdout",
     "output_type": "stream",
     "text": [
      "5114824736 5114824736\n"
     ]
    }
   ],
   "source": [
    "# 동일 객체 공유\n",
    "s1 = {1, 2, 3}\n",
    "s2 = s1\n",
    "print(id(s1), id(s2))"
   ]
  },
  {
   "cell_type": "code",
   "execution_count": 45,
   "id": "ea0adf99-4e15-4fd5-95d2-75a02ab48b14",
   "metadata": {},
   "outputs": [
    {
     "name": "stdout",
     "output_type": "stream",
     "text": [
      "5114827200 5114826752\n"
     ]
    }
   ],
   "source": [
    "# 객체 복사본 생성\n",
    "s1 = {1, 2, 3}\n",
    "s2 = s1.copy()\n",
    "print(id(s1), id(s2))"
   ]
  },
  {
   "cell_type": "code",
   "execution_count": 49,
   "id": "f1132805-8688-4759-b108-039ba0c61b82",
   "metadata": {},
   "outputs": [
    {
     "name": "stdout",
     "output_type": "stream",
     "text": [
      "{1, 2, 3, 4}\n",
      "{1, 2, 3, 4}\n"
     ]
    }
   ],
   "source": [
    "a = {1, 2, 3}\n",
    "b = {2, 3, 4}\n",
    "print(a | b)  # 집합 a와 집합 b의 합집합\n",
    "print(a.union(b))  # 집합 a와 집합 b의 합집합"
   ]
  },
  {
   "cell_type": "code",
   "execution_count": 53,
   "id": "939b01cf-f161-47ba-9ba8-c7ff224908fa",
   "metadata": {},
   "outputs": [
    {
     "name": "stdout",
     "output_type": "stream",
     "text": [
      "{1}\n",
      "{1}\n"
     ]
    }
   ],
   "source": [
    "a = {1, 2, 3}\n",
    "b = {2, 3, 4}\n",
    "print(a - b)  # 집합 a와 집합 b의 차집합\n",
    "print(a.difference(b))  # 집합 a와 집합 b의 차집합"
   ]
  },
  {
   "cell_type": "code",
   "execution_count": 57,
   "id": "cd210de3-4ce1-46e0-a833-7c691e676051",
   "metadata": {},
   "outputs": [
    {
     "name": "stdout",
     "output_type": "stream",
     "text": [
      "{2, 3}\n",
      "{2, 3}\n"
     ]
    }
   ],
   "source": [
    "a = {1, 2, 3}\n",
    "b = {2, 3, 4}\n",
    "print(a & b)  # 집합 a와 집합 b의 교집합\n",
    "print(a.intersection(b))  # 집합 a와 집합 b의 교집합"
   ]
  },
  {
   "cell_type": "markdown",
   "id": "abf07919-627a-4ba3-8152-10cd8b3afb92",
   "metadata": {},
   "source": [
    "### LAB-3 집합(set)을 활용한 수행과제\n",
    "1. 문제 : 고객 이메일 중복 제거\n",
    "- 다음과 같은 이메일 리스트가 주어졌을 때, 중복을 제거하고 정렬된 리스트를 반환하는 프로그램을 작성하세요.\n",
    "  \n",
    "      emails = [\n",
    "          \"alice@example.com\", \"bob@example.com\", \"alice@example.com\",\n",
    "          \"charlie@example.com\", \"dave@example.com\", \"bob@example.com\",\n",
    "          \"eve@example.com\", \"frank@example.com\"\n",
    "      ]\n",
    "      \n",
    "2. 요구사항:\n",
    "- 중복을 제거하세요.\n",
    "- 이메일을 알파벳 순서로 정렬하여 리스트로 반환하세요."
   ]
  },
  {
   "cell_type": "code",
   "execution_count": null,
   "id": "79a80c31-244f-46d5-95fd-378fbe2b79e3",
   "metadata": {},
   "outputs": [],
   "source": [
    "emails = [\n",
    "\"alice@example.com\", \"bob@example.com\", \"alice@example.com\",\n",
    "\"charlie@example.com\", \"dave@example.com\", \"bob@example.com\",\n",
    "\"eve@example.com\", \"frank@example.com\"\n",
    "]\n",
    "\n",
    "# 코딩하세요\n",
    "#\n",
    "#\n",
    "print(unique_emails)"
   ]
  },
  {
   "cell_type": "markdown",
   "id": "67c3abf2-cf4d-407a-9fe0-cba53f73f68e",
   "metadata": {},
   "source": [
    "### LAB-4 집합(set)을 활용한 수행과제\n",
    "1. 문제 : 보안 시스템 - 허용된 IP vs 차단된 IP\n",
    "- 한 회사의 네트워크 보안 시스템에서 특정 IP 주소 목록을 허용하고, 특정 IP는 차단해야 합니다.\n",
    "- 다음과 같은 IP 주소 목록이 있습니다.\n",
    "\n",
    "      allowed_ips = {\"192.168.1.1\", \"192.168.1.2\", \"192.168.1.3\", \"192.168.1.4\"}\n",
    "      blocked_ips = {\"192.168.1.3\", \"192.168.1.5\"}\n",
    "  \n",
    "- 현재 접속을 시도하는 IP 리스트\n",
    "\n",
    "      current_access_ips = {\"192.168.1.1\", \"192.168.1.3\", \"192.168.1.5\", \"192.168.1.6\"}\n",
    "2. 요구사항:\n",
    "- 허용된 IP 중에서 실제 접속 가능한 IP 목록을 출력하세요.\n",
    "- 차단된 IP 목록을 출력하세요.\n",
    "- 접속 시도했으나 목록에 없는 IP(미등록 IP)를 출력하세요."
   ]
  },
  {
   "cell_type": "code",
   "execution_count": null,
   "id": "9c9dc691-85a7-408c-ae48-84b51b998ab3",
   "metadata": {},
   "outputs": [],
   "source": [
    "allowed_ips = {\"192.168.1.1\", \"192.168.1.2\", \"192.168.1.3\", \"192.168.1.4\"}\n",
    "blocked_ips = {\"192.168.1.3\", \"192.168.1.5\"}\n",
    "current_access_ips = {\"192.168.1.1\", \"192.168.1.3\", \"192.168.1.5\", \"192.168.1.6\"}\n",
    "\n",
    "# 코딩하세요\n",
    "#\n",
    "#\n",
    "#\n",
    "\n",
    "print(\"✅ 접속 허용된 IP:\")\n",
    "print(accessible_ips)\n",
    "\n",
    "print(\"\\n⛔ 차단된 IP:\")\n",
    "print(denied_ips)\n",
    "\n",
    "print(\"\\n⚠ 미등록 IP:\")\n",
    "print(unregistered_ips)"
   ]
  }
 ],
 "metadata": {
  "kernelspec": {
   "display_name": "Python [conda env:base] *",
   "language": "python",
   "name": "conda-base-py"
  },
  "language_info": {
   "codemirror_mode": {
    "name": "ipython",
    "version": 3
   },
   "file_extension": ".py",
   "mimetype": "text/x-python",
   "name": "python",
   "nbconvert_exporter": "python",
   "pygments_lexer": "ipython3",
   "version": "3.12.7"
  }
 },
 "nbformat": 4,
 "nbformat_minor": 5
}
