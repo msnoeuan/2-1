{
 "cells": [
  {
   "cell_type": "markdown",
   "id": "fd0d3811-1e75-441c-9e40-9d2fbb6cd90d",
   "metadata": {},
   "source": [
    "## Lecture 1 : 함수의 인자\n",
    "### 1. 인자의 기본값 사용\n",
    "- 함수의 인자 값이 지정되지 않을 경우, 기본값으로 지정하여 사용 가능\n",
    "- 인자의 기본값이 지정되는 매개 변수는 뒤에 위치해야 함"
   ]
  },
  {
   "cell_type": "code",
   "execution_count": 4,
   "id": "60d20cef-9e8e-49f7-9980-e84582be7bc3",
   "metadata": {},
   "outputs": [
    {
     "name": "stdout",
     "output_type": "stream",
     "text": [
      "철수 잘 있지~~\n",
      "영희 안녕\n"
     ]
    }
   ],
   "source": [
    "def greet(name, message = '안녕') :  # 두 번째 인자 값이 지정되 않을 경우는 기본 값\n",
    "    print(name, message)\n",
    "\n",
    "greet('철수', '잘 있지~~')  # 첫 번째 인자, 두 번째 인자 값을 지정하여 함수 호출\n",
    "greet('영희')  # 첫 번째 인 값만 지정하여 함수 호출"
   ]
  },
  {
   "cell_type": "code",
   "execution_count": 8,
   "id": "1cbc3fab-c9a6-412c-815a-4fe2a1e5f874",
   "metadata": {},
   "outputs": [
    {
     "ename": "SyntaxError",
     "evalue": "parameter without a default follows parameter with a default (2945891905.py, line 1)",
     "output_type": "error",
     "traceback": [
      "\u001b[0;36m  Cell \u001b[0;32mIn[8], line 1\u001b[0;36m\u001b[0m\n\u001b[0;31m    def greet(name = '동양', message) :  # (오류) 인자의 기본 값이 지정되는 매개 변수는 마지막에 위치시켜야 함\u001b[0m\n\u001b[0m                           ^\u001b[0m\n\u001b[0;31mSyntaxError\u001b[0m\u001b[0;31m:\u001b[0m parameter without a default follows parameter with a default\n"
     ]
    }
   ],
   "source": [
    "def greet(name = '동양', message) :  # (오류) 인자의 기본 값이 지정되는 매개 변수는 마지막에 위치시켜야 함\n",
    "    print(name, message)\n",
    "\n",
    "greet('잘 있지~~')"
   ]
  },
  {
   "cell_type": "markdown",
   "id": "9b042c95-2c7b-4931-a65f-424a5f13dd64",
   "metadata": {},
   "source": [
    "### 2. 인자의 기본값은 오직 한 번만 사용\n",
    "- 인자의 기본값은 첫 함수 호출 시 오직 한 번만 지정됨"
   ]
  },
  {
   "cell_type": "code",
   "execution_count": 13,
   "id": "3a779bb3-92b7-41e2-aee3-2945ffd9e34c",
   "metadata": {},
   "outputs": [
    {
     "name": "stdout",
     "output_type": "stream",
     "text": [
      "[1]\n",
      "[1, 2]\n",
      "[1, 2, 3]\n"
     ]
    }
   ],
   "source": [
    "# 리스트 obj = []는 첫 번째 함수 호출 한 번만 지정됨\n",
    "# 연속된 호출 간에 기본 값이 공유됨\n",
    "def default_arg(a, obj = []) :\n",
    "    obj.append(a)\n",
    "    return obj\n",
    "\n",
    "print(default_arg(1))\n",
    "print(default_arg(2))\n",
    "print(default_arg(3))"
   ]
  },
  {
   "cell_type": "code",
   "execution_count": 19,
   "id": "11fa038b-158d-4b52-a4ea-55579ce19bdb",
   "metadata": {},
   "outputs": [
    {
     "name": "stdout",
     "output_type": "stream",
     "text": [
      "[1]\n",
      "[2]\n",
      "[3]\n"
     ]
    }
   ],
   "source": [
    "# 연속된 호출 간에 기본값을 공유하지 않으려면\n",
    "# (1) 함수 헤더에 obj = None을 지정\n",
    "# (2) 함수 호출시마다 매번 새로운 목록 생성\n",
    "\n",
    "def default_arg(a, obj = None) :\n",
    "    if obj is None :\n",
    "        obj = []\n",
    "    obj.append(a)\n",
    "    return obj\n",
    "\n",
    "print(default_arg(1))\n",
    "print(default_arg(2))\n",
    "print(default_arg(3))"
   ]
  },
  {
   "cell_type": "markdown",
   "id": "0feff8a1-1bde-4eb5-8c6e-f55b420d37a8",
   "metadata": {},
   "source": [
    "### 3. 함수 값의 반환\n",
    "- 파이썬 함수는 여러개의 값을 반환 가능 (튜플 값으로 묶어 반환)"
   ]
  },
  {
   "cell_type": "code",
   "execution_count": 24,
   "id": "e5b44590-7113-42f9-8e33-604bdd9fcdf4",
   "metadata": {},
   "outputs": [
    {
     "name": "stdout",
     "output_type": "stream",
     "text": [
      "2 3 5 7\n"
     ]
    }
   ],
   "source": [
    "def getprime() :\n",
    "    return 2, 3, 5, 7  # 4개 값을 튜플로 묶어 반환함\n",
    "\n",
    "a, b, c, d = getprime()  # 4개의 값을 변수 a, b, c, d로 받음\n",
    "print(a, b, c, d)"
   ]
  },
  {
   "cell_type": "code",
   "execution_count": 28,
   "id": "fc229b74-cb4a-4740-97a1-ab89bbda17ba",
   "metadata": {},
   "outputs": [
    {
     "name": "stdout",
     "output_type": "stream",
     "text": [
      "(2, 3, 5, 7)\n",
      "2 3 5 7\n"
     ]
    }
   ],
   "source": [
    "def getprime() :\n",
    "    return 2, 3, 5, 7\n",
    "\n",
    "prime = getprime()  # 4개의 값을 튜플로 받음\n",
    "print(prime)\n",
    "print(prime[0], prime[1], prime[2], prime[3])"
   ]
  },
  {
   "cell_type": "markdown",
   "id": "71f4a248-b150-4fdd-a21d-5ed75eefbc88",
   "metadata": {},
   "source": [
    "### 4. 매개변수로 함수 사용\n",
    "- 파이썬 함수는 매개 변수로 함수 사용 가능"
   ]
  },
  {
   "cell_type": "code",
   "execution_count": 1,
   "id": "b63237f1-f266-410f-8b35-0e59b0bbeac4",
   "metadata": {},
   "outputs": [
    {
     "data": {
      "text/plain": [
       "15"
      ]
     },
     "execution_count": 1,
     "metadata": {},
     "output_type": "execute_result"
    }
   ],
   "source": [
    "def my_apply(func, x, y) :\n",
    "    return func(x, y)\n",
    "\n",
    "def my_add(a, b) :\n",
    "    return a + b\n",
    "\n",
    "def my_mult(a, b) :\n",
    "    return a * b\n",
    "\n",
    "my_apply(my_add, 3, 5)\n",
    "my_apply(my_mult, 3, 5)"
   ]
  },
  {
   "cell_type": "code",
   "execution_count": 31,
   "id": "ae6f4543-a999-4b35-941f-f7abd1453bcd",
   "metadata": {},
   "outputs": [
    {
     "name": "stdout",
     "output_type": "stream",
     "text": [
      "8\n",
      "15\n"
     ]
    }
   ],
   "source": [
    "def my_apply(func, x, y) :\n",
    "    return func(x, y)\n",
    "\n",
    "def my_add(a, b) :\n",
    "    return a + b\n",
    "\n",
    "def my_mult(a, b) :\n",
    "    return a * b\n",
    "\n",
    "print(my_apply(my_add, 3, 5))\n",
    "print(my_apply(my_mult, 3, 5))"
   ]
  },
  {
   "cell_type": "code",
   "execution_count": null,
   "id": "fc685eb1-5c5c-40be-855d-ca38acf5c142",
   "metadata": {},
   "outputs": [],
   "source": []
  }
 ],
 "metadata": {
  "kernelspec": {
   "display_name": "Python [conda env:base] *",
   "language": "python",
   "name": "conda-base-py"
  },
  "language_info": {
   "codemirror_mode": {
    "name": "ipython",
    "version": 3
   },
   "file_extension": ".py",
   "mimetype": "text/x-python",
   "name": "python",
   "nbconvert_exporter": "python",
   "pygments_lexer": "ipython3",
   "version": "3.12.7"
  }
 },
 "nbformat": 4,
 "nbformat_minor": 5
}
