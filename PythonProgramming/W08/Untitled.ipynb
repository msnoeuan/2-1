{
 "cells": [
  {
   "cell_type": "code",
   "execution_count": null,
   "id": "b9a04635-ab51-4581-9786-f94bfe35c24a",
   "metadata": {},
   "outputs": [],
   "source": [
    "#은행 시스템 메인 프로그램\n",
    "\n",
    "# 입금 함수 : 잔액에 금액을 추가\n",
    "\n",
    "# 출금 함수 : 잔액에서 금액을 차감\n",
    "\n",
    "# 잔액 조회 함수\n",
    "\n",
    "# 메인 함수 : 은행 시스템 실행\n",
    "\n",
    "# 프로그램 실행"
   ]
  }
 ],
 "metadata": {
  "kernelspec": {
   "display_name": "Python [conda env:base] *",
   "language": "python",
   "name": "conda-base-py"
  },
  "language_info": {
   "codemirror_mode": {
    "name": "ipython",
    "version": 3
   },
   "file_extension": ".py",
   "mimetype": "text/x-python",
   "name": "python",
   "nbconvert_exporter": "python",
   "pygments_lexer": "ipython3",
   "version": "3.12.7"
  }
 },
 "nbformat": 4,
 "nbformat_minor": 5
}
