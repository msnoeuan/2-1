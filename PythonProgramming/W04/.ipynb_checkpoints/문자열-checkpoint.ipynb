{
 "cells": [
  {
   "cell_type": "markdown",
   "id": "f883e139-3a0f-4f4a-8f63-4813c20f76f5",
   "metadata": {},
   "source": [
    "## Lecture 1 : 문자열\n",
    "### 1. 문자열에 사용할 수 있는 내장 함수\n",
    "- 내장 함수 : 파이썬에서 미리 작성해 두어 바로 사용할 수 있는 함수\n",
    "- 독립적으로 함수에 문자열을 인자로 전달하여 사용 가능\n",
    "> len('python')"
   ]
  },
  {
   "cell_type": "markdown",
   "id": "496ec9a9-56af-4c07-a541-fc04f782f34c",
   "metadata": {},
   "source": [
    "### LAB-1 : 문자열 내장 함수 알아보기"
   ]
  },
  {
   "cell_type": "code",
   "execution_count": 5,
   "id": "099a2903-2b8d-4def-9a92-2f99712d7de2",
   "metadata": {},
   "outputs": [
    {
     "data": {
      "text/plain": [
       "'3.14'"
      ]
     },
     "execution_count": 5,
     "metadata": {},
     "output_type": "execute_result"
    }
   ],
   "source": [
    "str(3.14)"
   ]
  },
  {
   "cell_type": "code",
   "execution_count": 7,
   "id": "09df13fe-427b-48d5-b06a-fde1c45a351b",
   "metadata": {},
   "outputs": [
    {
     "data": {
      "text/plain": [
       "6"
      ]
     },
     "execution_count": 7,
     "metadata": {},
     "output_type": "execute_result"
    }
   ],
   "source": [
    "len('python')"
   ]
  },
  {
   "cell_type": "code",
   "execution_count": 13,
   "id": "184f1043-9ccf-4380-8c0e-ea67a7432d98",
   "metadata": {},
   "outputs": [
    {
     "data": {
      "text/plain": [
       "('y', 'h')"
      ]
     },
     "execution_count": 13,
     "metadata": {},
     "output_type": "execute_result"
    }
   ],
   "source": [
    "max('python'), min('python')\n",
    "# max() : 문자열 s에서 코드 값 기준으로 최대인 문자 반환 \n",
    "# min() : 문자열 s에서 코드 값 기준으로 최소인 문자 반환"
   ]
  },
  {
   "cell_type": "code",
   "execution_count": 19,
   "id": "d77dc1da-3c08-4793-9e56-a550b489b638",
   "metadata": {},
   "outputs": [
    {
     "data": {
      "text/plain": [
       "('q', 1)"
      ]
     },
     "execution_count": 19,
     "metadata": {},
     "output_type": "execute_result"
    }
   ],
   "source": [
    "max('q', 'python'), min(2, 9.7, 1)\n",
    "# max('q', 'python') : 첫 번째 글자인 'q'가 'p'보 크기 때문에 'q'가 반환됨"
   ]
  },
  {
   "cell_type": "code",
   "execution_count": 21,
   "id": "4a0991c5-84ab-4ffb-8896-ce202beab51f",
   "metadata": {},
   "outputs": [
    {
     "data": {
      "text/plain": [
       "(65, '가')"
      ]
     },
     "execution_count": 21,
     "metadata": {},
     "output_type": "execute_result"
    }
   ],
   "source": [
    "ord('A'), chr(44032)"
   ]
  },
  {
   "cell_type": "markdown",
   "id": "33310426-0e90-47de-93df-0f159fa2758f",
   "metadata": {},
   "source": [
    "### 문자열 메서드\n",
    "- 메서드 : 클래스에 포함되어 있는 함수\n",
    "- 문자열 메서드 : 문자열 객체(인스턴스)를 통해서만 메서드 호출 가능\n",
    "> 'python'.capitalize()\n",
    "- 문자열에 사용 가능한 메서드 목록 확인하기\n",
    "> dir(str)"
   ]
  },
  {
   "cell_type": "markdown",
   "id": "92bb0554-f8ec-4d6d-9510-e46925fbfee2",
   "metadata": {},
   "source": [
    "### LAB-2 : 문자열 메서드 알아보기"
   ]
  },
  {
   "cell_type": "code",
   "execution_count": 27,
   "id": "f8fdc644-6d06-49af-bd13-fa3c90fce37b",
   "metadata": {},
   "outputs": [
    {
     "data": {
      "text/plain": [
       "['aa', 'bb', 'cc', 'dd', 'kk']"
      ]
     },
     "execution_count": 27,
     "metadata": {},
     "output_type": "execute_result"
    }
   ],
   "source": [
    "# 문자열 s를 (\\n, \\t, \\r, ' ') 기준으로 분리하여 리스트로 반환\n",
    "'aa bb \\n cc \\t dd kk'.split()"
   ]
  },
  {
   "cell_type": "code",
   "execution_count": 31,
   "id": "2d1b83da-fa62-46d7-a360-658397059dff",
   "metadata": {},
   "outputs": [
    {
     "data": {
      "text/plain": [
       "['aa bb', ' cc dd', ' kk']"
      ]
     },
     "execution_count": 31,
     "metadata": {},
     "output_type": "execute_result"
    }
   ],
   "source": [
    "# 구분자를 지정하면, 구분자로 분리하여 리스트로 반환\n",
    "'aa bb, cc dd, kk'.split(',')"
   ]
  },
  {
   "cell_type": "code",
   "execution_count": 7,
   "id": "764f3350-5ef6-47d4-99f0-9d3aa9446641",
   "metadata": {},
   "outputs": [
    {
     "data": {
      "text/plain": [
       "['aa b', ' cc dd, kk']"
      ]
     },
     "execution_count": 7,
     "metadata": {},
     "output_type": "execute_result"
    }
   ],
   "source": [
    "'aa bb* cc dd, kk'.split('b*')"
   ]
  },
  {
   "cell_type": "code",
   "execution_count": 9,
   "id": "94da3639-8494-4400-8395-c3d129e044c4",
   "metadata": {},
   "outputs": [
    {
     "data": {
      "text/plain": [
       "['aa', 'bb*', 'cc dd, kk']"
      ]
     },
     "execution_count": 9,
     "metadata": {},
     "output_type": "execute_result"
    }
   ],
   "source": [
    "# 2개 까지만 문자열을 구분하고, 나머지는 한 항목으로 반환\n",
    "'aa bb* cc dd, kk'.split(maxsplit = 2)"
   ]
  },
  {
   "cell_type": "code",
   "execution_count": 11,
   "id": "9a1186c5-4804-4fe2-8eb8-b35beddc1b5e",
   "metadata": {},
   "outputs": [
    {
     "data": {
      "text/plain": [
       "'1::2::3::4'"
      ]
     },
     "execution_count": 11,
     "metadata": {},
     "output_type": "execute_result"
    }
   ],
   "source": [
    "'::'.join('1234')"
   ]
  },
  {
   "cell_type": "code",
   "execution_count": 13,
   "id": "697e4291-bf45-4736-9872-919f69b9ba31",
   "metadata": {},
   "outputs": [
    {
     "data": {
      "text/plain": [
       "'ab::cd::ef'"
      ]
     },
     "execution_count": 13,
     "metadata": {},
     "output_type": "execute_result"
    }
   ],
   "source": [
    "'::'.join(['ab', 'cd', 'ef'])"
   ]
  },
  {
   "cell_type": "code",
   "execution_count": 15,
   "id": "b770144d-4887-431f-b1e9-3d8f2b26709b",
   "metadata": {},
   "outputs": [
    {
     "data": {
      "text/plain": [
       "'aBCdaBCd'"
      ]
     },
     "execution_count": 15,
     "metadata": {},
     "output_type": "execute_result"
    }
   ],
   "source": [
    "'abcdabcd'.replace('bc', 'BC')"
   ]
  },
  {
   "cell_type": "code",
   "execution_count": 17,
   "id": "55687904-7552-432e-bad4-2e1b3d1ee719",
   "metadata": {},
   "outputs": [
    {
     "data": {
      "text/plain": [
       "'1234'"
      ]
     },
     "execution_count": 17,
     "metadata": {},
     "output_type": "execute_result"
    }
   ],
   "source": [
    "'1 2 3 4'.replace(' ', '')"
   ]
  },
  {
   "cell_type": "code",
   "execution_count": 21,
   "id": "573b39a9-a7e9-48e3-8dd4-6639e0d0f6bc",
   "metadata": {},
   "outputs": [
    {
     "data": {
      "text/plain": [
       "'00123'"
      ]
     },
     "execution_count": 21,
     "metadata": {},
     "output_type": "execute_result"
    }
   ],
   "source": [
    "# 문자열을 s에서 n개 폭 만큼의 앞 부분에 0을 채움\n",
    "'123'.zfill(5)"
   ]
  },
  {
   "cell_type": "code",
   "execution_count": 23,
   "id": "2bce38f8-8d87-4f44-b64a-6e12fb35c311",
   "metadata": {},
   "outputs": [
    {
     "data": {
      "text/plain": [
       "'-0123'"
      ]
     },
     "execution_count": 23,
     "metadata": {},
     "output_type": "execute_result"
    }
   ],
   "source": [
    "'-123'.zfill(5)"
   ]
  },
  {
   "cell_type": "code",
   "execution_count": 25,
   "id": "8fb66a06-0045-4351-a822-ec3a6d053bae",
   "metadata": {},
   "outputs": [
    {
     "data": {
      "text/plain": [
       "2"
      ]
     },
     "execution_count": 25,
     "metadata": {},
     "output_type": "execute_result"
    }
   ],
   "source": [
    "'abcdabcd'.count('bc')"
   ]
  },
  {
   "cell_type": "code",
   "execution_count": 100,
   "id": "ef8028f3-7cca-4610-9184-536a7e48ab73",
   "metadata": {},
   "outputs": [
    {
     "data": {
      "text/plain": [
       "2"
      ]
     },
     "execution_count": 100,
     "metadata": {},
     "output_type": "execute_result"
    }
   ],
   "source": [
    "'간장 공장 공장장'.count('공장')"
   ]
  },
  {
   "cell_type": "code",
   "execution_count": 39,
   "id": "2e225957-35b9-4823-b316-740486dcb8d6",
   "metadata": {},
   "outputs": [
    {
     "data": {
      "text/plain": [
       "3"
      ]
     },
     "execution_count": 39,
     "metadata": {},
     "output_type": "execute_result"
    }
   ],
   "source": [
    "# 문자열을 s에서 문자열 p가나타난 위치 인덱스(0부터 시작) - 시작 인덱스만 반환\n",
    "# 찾지 못 했을 때 : -1 반환\n",
    "'간장 공장 공장장'.find('공장')"
   ]
  },
  {
   "cell_type": "code",
   "execution_count": 41,
   "id": "a7af085f-1b82-4b29-a820-47643b0f2f69",
   "metadata": {},
   "outputs": [
    {
     "data": {
      "text/plain": [
       "3"
      ]
     },
     "execution_count": 41,
     "metadata": {},
     "output_type": "execute_result"
    }
   ],
   "source": [
    "# 문자열을 s에서 문자열 p가나타난 위치 인덱스(0부터 시작) - 시작 인덱스만 반환 \n",
    "# 찾지 못 했을 때 : ValueError 발생\n",
    "'간장 공장 공장장'.index('공장')"
   ]
  },
  {
   "cell_type": "code",
   "execution_count": 43,
   "id": "961db7e6-ae48-4323-934f-b4e609ba72f7",
   "metadata": {},
   "outputs": [
    {
     "data": {
      "text/plain": [
       "-1"
      ]
     },
     "execution_count": 43,
     "metadata": {},
     "output_type": "execute_result"
    }
   ],
   "source": [
    "'간장 공장 공장장'.find('된장')"
   ]
  },
  {
   "cell_type": "code",
   "execution_count": 45,
   "id": "78f35e93-57a1-47d5-a8f9-eeaff3e1c5c7",
   "metadata": {},
   "outputs": [
    {
     "ename": "ValueError",
     "evalue": "substring not found",
     "output_type": "error",
     "traceback": [
      "\u001b[0;31m---------------------------------------------------------------------------\u001b[0m",
      "\u001b[0;31mValueError\u001b[0m                                Traceback (most recent call last)",
      "Cell \u001b[0;32mIn[45], line 1\u001b[0m\n\u001b[0;32m----> 1\u001b[0m \u001b[38;5;124m'\u001b[39m\u001b[38;5;124m간장 공장 공장장\u001b[39m\u001b[38;5;124m'\u001b[39m\u001b[38;5;241m.\u001b[39mindex(\u001b[38;5;124m'\u001b[39m\u001b[38;5;124m된장\u001b[39m\u001b[38;5;124m'\u001b[39m)\n",
      "\u001b[0;31mValueError\u001b[0m: substring not found"
     ]
    }
   ],
   "source": [
    "'간장 공장 공장장'.index('된장')"
   ]
  },
  {
   "cell_type": "code",
   "execution_count": 51,
   "id": "01d341b8-4d19-4ed1-a629-ff38e1544e6d",
   "metadata": {},
   "outputs": [
    {
     "data": {
      "text/plain": [
       "6"
      ]
     },
     "execution_count": 51,
     "metadata": {},
     "output_type": "execute_result"
    }
   ],
   "source": [
    "# 문자열을 s를 뒤에서부터 찾아 문자열 p가 나타난 위치 인덱스\n",
    "'간장 공장 공장장'.rfind('공장')"
   ]
  },
  {
   "cell_type": "code",
   "execution_count": 53,
   "id": "ccd626a1-583e-4770-926c-16565dd0402e",
   "metadata": {},
   "outputs": [
    {
     "data": {
      "text/plain": [
       "6"
      ]
     },
     "execution_count": 53,
     "metadata": {},
     "output_type": "execute_result"
    }
   ],
   "source": [
    "'간장 공장 공장장'.rindex('공장')"
   ]
  },
  {
   "cell_type": "code",
   "execution_count": 55,
   "id": "b995d201-53c2-4014-8991-b6c9fddd4ae4",
   "metadata": {},
   "outputs": [
    {
     "data": {
      "text/plain": [
       "'PYTHON'"
      ]
     },
     "execution_count": 55,
     "metadata": {},
     "output_type": "execute_result"
    }
   ],
   "source": [
    "'python'.upper()"
   ]
  },
  {
   "cell_type": "code",
   "execution_count": 57,
   "id": "1dd24bed-a8df-4e07-a7e6-857399e1d3f4",
   "metadata": {},
   "outputs": [
    {
     "data": {
      "text/plain": [
       "'dongyang'"
      ]
     },
     "execution_count": 57,
     "metadata": {},
     "output_type": "execute_result"
    }
   ],
   "source": [
    "'DONGYANG'.lower()"
   ]
  },
  {
   "cell_type": "code",
   "execution_count": 59,
   "id": "b05658d2-eb03-4917-8b87-729cb3b9d5c6",
   "metadata": {},
   "outputs": [
    {
     "data": {
      "text/plain": [
       "'CoMpUtEr'"
      ]
     },
     "execution_count": 59,
     "metadata": {},
     "output_type": "execute_result"
    }
   ],
   "source": [
    "'cOmPuTeR'.swapcase()"
   ]
  },
  {
   "cell_type": "code",
   "execution_count": 61,
   "id": "3f921d94-bded-4a96-a4db-8d8de0b556dc",
   "metadata": {},
   "outputs": [
    {
     "data": {
      "text/plain": [
       "'python'"
      ]
     },
     "execution_count": 61,
     "metadata": {},
     "output_type": "execute_result"
    }
   ],
   "source": [
    "'     python     '.strip()"
   ]
  },
  {
   "cell_type": "code",
   "execution_count": 63,
   "id": "c746b806-776d-443e-bbbc-246b37d907c7",
   "metadata": {},
   "outputs": [
    {
     "data": {
      "text/plain": [
       "'python     '"
      ]
     },
     "execution_count": 63,
     "metadata": {},
     "output_type": "execute_result"
    }
   ],
   "source": [
    "'     python     '.lstrip()"
   ]
  },
  {
   "cell_type": "code",
   "execution_count": 65,
   "id": "35c0764e-ff4e-406c-8c0c-a9304a2f92af",
   "metadata": {},
   "outputs": [
    {
     "data": {
      "text/plain": [
       "'     python'"
      ]
     },
     "execution_count": 65,
     "metadata": {},
     "output_type": "execute_result"
    }
   ],
   "source": [
    "'     python     '.rstrip()"
   ]
  },
  {
   "cell_type": "code",
   "execution_count": 75,
   "id": "c6c428f8-3bf9-4b07-b686-018de1d8bf41",
   "metadata": {},
   "outputs": [
    {
     "data": {
      "text/plain": [
       "'ab*cd-ef gh'"
      ]
     },
     "execution_count": 75,
     "metadata": {},
     "output_type": "execute_result"
    }
   ],
   "source": [
    "# 제거 문자 지정시 맨 앞 뒤의 해당 문자 제거(중간 문자는 제거 안함)\n",
    "'**ab*cd-ef gh---'.strip('-*')\n",
    "\n",
    "# '간장공장'.strip('간장') : '공' => '간장'에서 어느 것이든 앞뒤에 있으면 제거"
   ]
  },
  {
   "cell_type": "code",
   "execution_count": 81,
   "id": "6cbe32f3-981c-47d0-9bfe-ac50c5479fce",
   "metadata": {},
   "outputs": [
    {
     "data": {
      "text/plain": [
       "False"
      ]
     },
     "execution_count": 81,
     "metadata": {},
     "output_type": "execute_result"
    }
   ],
   "source": [
    "# 문자열이 \"숫자로만 이루어져 있는지\" 검사하는 함수\n",
    "# 숫자만 포함하면 True\n",
    "# 문자도 포함되어 있으면 False\n",
    "'1^2'.isdigit()"
   ]
  },
  {
   "cell_type": "markdown",
   "id": "61508b04-35ff-4fa2-8df4-090690ce5f29",
   "metadata": {},
   "source": [
    "### LAB 1(과제) : 이메일 유효성 검사 프로그램 만들기\n",
    "1. 문제 : 사용자로 부터 이메일 주소를 입력 받아 이메일 주소가 유효한지 확인하는\n",
    "프로그램을 작성하세요.\n",
    "2. 유효성 조건\n",
    "- '@'가 하나 포함되어 있어야 한다.\n",
    "- '.'이 '@' 뒤에 하나 이상 있어야 한다.\n",
    "3. 사용자로 부터 입력 받은 이메일 주소가 유효하면 '유효', 유효하지 않으면 '오류', 'quit'이면 종료한다.\n",
    "> str.count(), str.find(), str.rfind()"
   ]
  },
  {
   "cell_type": "code",
   "execution_count": 102,
   "id": "7490ba2b-663b-4e80-aefe-5389e9c9b461",
   "metadata": {},
   "outputs": [
    {
     "name": "stdin",
     "output_type": "stream",
     "text": [
      "이메일 주소를 입력하세요:  msnoeuan@gmail.com\n"
     ]
    },
    {
     "name": "stdout",
     "output_type": "stream",
     "text": [
      "유효\n"
     ]
    },
    {
     "name": "stdin",
     "output_type": "stream",
     "text": [
      "이메일 주소를 입력하세요:  msnoeuangmail.com\n"
     ]
    },
    {
     "name": "stdout",
     "output_type": "stream",
     "text": [
      "오류\n"
     ]
    },
    {
     "name": "stdin",
     "output_type": "stream",
     "text": [
      "이메일 주소를 입력하세요:  msnoeuan@@gmail.com\n"
     ]
    },
    {
     "name": "stdout",
     "output_type": "stream",
     "text": [
      "오류\n"
     ]
    },
    {
     "name": "stdin",
     "output_type": "stream",
     "text": [
      "이메일 주소를 입력하세요:  msnoeuan.@gmail.com\n"
     ]
    },
    {
     "name": "stdout",
     "output_type": "stream",
     "text": [
      "유효\n"
     ]
    },
    {
     "name": "stdin",
     "output_type": "stream",
     "text": [
      "이메일 주소를 입력하세요:  msnoeuan.@gmailcom\n"
     ]
    },
    {
     "name": "stdout",
     "output_type": "stream",
     "text": [
      "오류\n"
     ]
    },
    {
     "name": "stdin",
     "output_type": "stream",
     "text": [
      "이메일 주소를 입력하세요:  msnoeuan@gmailcom\n"
     ]
    },
    {
     "name": "stdout",
     "output_type": "stream",
     "text": [
      "오류\n"
     ]
    },
    {
     "name": "stdin",
     "output_type": "stream",
     "text": [
      "이메일 주소를 입력하세요:  quit\n"
     ]
    }
   ],
   "source": [
    "# 코드 예제\n",
    "while True :\n",
    "    email = input(\"이메일 주소를 입력하세요: \")\n",
    "    \n",
    "    if email == 'quit' :\n",
    "        break\n",
    "    else :\n",
    "        if (email.count('@') == 1) and (email.find('@') < email.rfind('.')) :\n",
    "            print('유효')\n",
    "        else :\n",
    "            print('오류')"
   ]
  },
  {
   "cell_type": "code",
   "execution_count": 104,
   "id": "37017f8c-3ea1-40a1-964f-af71f3887434",
   "metadata": {},
   "outputs": [
    {
     "name": "stdin",
     "output_type": "stream",
     "text": [
      "이메일 주소를 입력하세요:  msnoeuan@gmail.com\n"
     ]
    },
    {
     "name": "stdout",
     "output_type": "stream",
     "text": [
      "msnoeuan@gmail.com은 유효합니다.\n"
     ]
    },
    {
     "name": "stdin",
     "output_type": "stream",
     "text": [
      "이메일 주소를 입력하세요:  msnoeuangmail.com\n"
     ]
    },
    {
     "name": "stdout",
     "output_type": "stream",
     "text": [
      "msnoeuangmail.com은 유효하지 않습니다.\n"
     ]
    },
    {
     "name": "stdin",
     "output_type": "stream",
     "text": [
      "이메일 주소를 입력하세요:  msnoeaun@@gmail.com\n"
     ]
    },
    {
     "name": "stdout",
     "output_type": "stream",
     "text": [
      "msnoeaun@@gmail.com은 유효하지 않습니다.\n"
     ]
    },
    {
     "name": "stdin",
     "output_type": "stream",
     "text": [
      "이메일 주소를 입력하세요:  msnoeuan.@gmail.com\n"
     ]
    },
    {
     "name": "stdout",
     "output_type": "stream",
     "text": [
      "msnoeuan.@gmail.com은 유효하지 않습니다.\n"
     ]
    },
    {
     "name": "stdin",
     "output_type": "stream",
     "text": [
      "이메일 주소를 입력하세요:  msnoeuan@gmailcom\n"
     ]
    },
    {
     "name": "stdout",
     "output_type": "stream",
     "text": [
      "msnoeuan@gmailcom은 유효하지 않습니다.\n"
     ]
    },
    {
     "name": "stdin",
     "output_type": "stream",
     "text": [
      "이메일 주소를 입력하세요:  quit\n"
     ]
    }
   ],
   "source": [
    "# 교수님 코드\n",
    "\n",
    "# 코드 예제\n",
    "while True :\n",
    "    email = input(\"이메일 주소를 입력하세요: \")\n",
    "    \n",
    "    if email == 'quit' :\n",
    "        break\n",
    "    else :\n",
    "        if email.count('@') == 1 and email.find('.') > email.find('@') :\n",
    "            print(f'{email}은 유효합니다.')\n",
    "        else :\n",
    "            print(f'{email}은 유효하지 않습니다.')"
   ]
  },
  {
   "cell_type": "markdown",
   "id": "c6307c35-13f2-4a03-831b-7eb45e066a19",
   "metadata": {},
   "source": [
    "### LAB 2 : URL에서 도메인 이름 추출\n",
    "1. 문제 : 사용자로 부터 URL을 입력 받아 도메인 이름을 추출하는 프로그램을 작성하세요.\n",
    "2. 입출력\n",
    "- 입력(URL) : https://www.google.com, http://www.dongyang.ac.kr, http://www.dongyang.ac.kr/index.jsp\n",
    "- 출력 : google.com, dongyang.ac.kr\n",
    "> str.split(), str.replace()"
   ]
  },
  {
   "cell_type": "code",
   "execution_count": 3,
   "id": "0f81983c-14b8-47c2-b633-dec89ea912b7",
   "metadata": {},
   "outputs": [
    {
     "name": "stdin",
     "output_type": "stream",
     "text": [
      "URL을 입력하세요 (예: https://www.google.com):  https://www.google.com\n"
     ]
    },
    {
     "name": "stdout",
     "output_type": "stream",
     "text": [
      "google.com\n"
     ]
    },
    {
     "name": "stdin",
     "output_type": "stream",
     "text": [
      "URL을 입력하세요 (예: https://www.google.com):  http://www.dongyang.ac.kr\n"
     ]
    },
    {
     "name": "stdout",
     "output_type": "stream",
     "text": [
      "dongyang.ac.kr\n"
     ]
    },
    {
     "name": "stdin",
     "output_type": "stream",
     "text": [
      "URL을 입력하세요 (예: https://www.google.com):  http://www.dongyang.ac.kr/index.jsp\n"
     ]
    },
    {
     "name": "stdout",
     "output_type": "stream",
     "text": [
      "dongyang.ac.kr\n"
     ]
    },
    {
     "name": "stdin",
     "output_type": "stream",
     "text": [
      "URL을 입력하세요 (예: https://www.google.com):  quit\n"
     ]
    }
   ],
   "source": [
    "# 코드 예제\n",
    "while(True) :\n",
    "    url = input(\"URL을 입력하세요 (예: https://www.google.com): \")\n",
    "\n",
    "    if url == 'quit' :\n",
    "        break\n",
    "    else :\n",
    "        url = url.replace('http://', '')\n",
    "        url = url.replace('https://', '')\n",
    "        url = url.replace('www.', '')\n",
    "        domain = url.split('/')[0]\n",
    "        print(domain)"
   ]
  },
  {
   "cell_type": "code",
   "execution_count": 6,
   "id": "1edd5684-6a58-4645-aa8d-f2a04b8fa268",
   "metadata": {},
   "outputs": [
    {
     "name": "stdin",
     "output_type": "stream",
     "text": [
      "URL을 입력하세요 (예: https://www.google.com):  https://www.google.com\n"
     ]
    },
    {
     "name": "stdout",
     "output_type": "stream",
     "text": [
      "도메인 이름 : google.com\n"
     ]
    },
    {
     "name": "stdin",
     "output_type": "stream",
     "text": [
      "URL을 입력하세요 (예: https://www.google.com):  http://www.dongyang.ac.kr\n"
     ]
    },
    {
     "name": "stdout",
     "output_type": "stream",
     "text": [
      "도메인 이름 : dongyang.ac.kr\n"
     ]
    },
    {
     "name": "stdin",
     "output_type": "stream",
     "text": [
      "URL을 입력하세요 (예: https://www.google.com):  http://www.dongyang.ac.kr/index.jsp\n"
     ]
    },
    {
     "name": "stdout",
     "output_type": "stream",
     "text": [
      "도메인 이름 : dongyang.ac.kr\n"
     ]
    },
    {
     "name": "stdin",
     "output_type": "stream",
     "text": [
      "URL을 입력하세요 (예: https://www.google.com):  quit\n"
     ]
    }
   ],
   "source": [
    "# 교수님 코드\n",
    "\n",
    "# 코드 예제\n",
    "while(True) :\n",
    "    url = input(\"URL을 입력하세요 (예: https://www.google.com): \")\n",
    "\n",
    "    if url == 'quit' :\n",
    "        break\n",
    "    else :\n",
    "        url = url.replace('http://', '')\n",
    "        url = url.replace('https://', '')\n",
    "        url = url.replace('www.', '')\n",
    "        # url = url.replace('http://', '').replace('https://', '').replace('www.', '')\n",
    "        \n",
    "        domain = url.split('/')[0]\n",
    "        \n",
    "        print('도메인 이름 : ' + domain)"
   ]
  },
  {
   "cell_type": "markdown",
   "id": "0cb86e8a-bc7d-4139-a0c4-da85e427aa9f",
   "metadata": {},
   "source": [
    "### LAB 3 : 문자열 암호화\n",
    "1. 문제 : 사용자로 부터 문자을 입력 받아 다음의 규칙으로 암호화하세요\n",
    "- 각 문자의 ASCII 값을 2씩 증가시킨다.\n",
    "- 결과 문자열을 반환한다.\n",
    "2. 입출력\n",
    "- 입력) : \"abc\"\n",
    "- 출력 : \"cde\"\n",
    "> ord(), chr()"
   ]
  },
  {
   "cell_type": "code",
   "execution_count": 13,
   "id": "96dff7a0-b622-43f4-b0e6-4ff685c665fd",
   "metadata": {},
   "outputs": [
    {
     "name": "stdin",
     "output_type": "stream",
     "text": [
      "문자열을 입력하세요:  aaaaa\n"
     ]
    },
    {
     "name": "stdout",
     "output_type": "stream",
     "text": [
      "암호화된 문자열: ccccc\n"
     ]
    }
   ],
   "source": [
    "# 코드 예제\n",
    "text = input(\"문자열을 입력하세요: \")\n",
    "\n",
    "encrypted = []\n",
    "for char in text :\n",
    "    twoAscii = ord(char) + 2\n",
    "    encrypted.append(chr(twoAscii))\n",
    "''.join(encrypted)\n",
    "print(\"암호화된 문자열:\", ''.join(encrypted))"
   ]
  },
  {
   "cell_type": "code",
   "execution_count": 17,
   "id": "5bacd6ae-12f2-4256-a46c-df93ffe7ee0c",
   "metadata": {},
   "outputs": [
    {
     "name": "stdin",
     "output_type": "stream",
     "text": [
      "문자열을 입력하세요:  abcde\n"
     ]
    },
    {
     "name": "stdout",
     "output_type": "stream",
     "text": [
      "암호화된 문자열: cdefg\n"
     ]
    }
   ],
   "source": [
    "# 교수님 코드\n",
    "\n",
    "# 코드 예제\n",
    "text = input(\"문자열을 입력하세요: \")\n",
    "\n",
    "encrypted = []\n",
    "for char in text :\n",
    "    encrypted.append(chr(ord(char) + 2))\n",
    "    \n",
    "''.join(encrypted)\n",
    "print(\"암호화된 문자열:\", ''.join(encrypted))"
   ]
  },
  {
   "cell_type": "code",
   "execution_count": null,
   "id": "12f2c261-53b9-406b-b812-ff6b84d6cb73",
   "metadata": {},
   "outputs": [],
   "source": []
  }
 ],
 "metadata": {
  "kernelspec": {
   "display_name": "Python [conda env:base] *",
   "language": "python",
   "name": "conda-base-py"
  },
  "language_info": {
   "codemirror_mode": {
    "name": "ipython",
    "version": 3
   },
   "file_extension": ".py",
   "mimetype": "text/x-python",
   "name": "python",
   "nbconvert_exporter": "python",
   "pygments_lexer": "ipython3",
   "version": "3.12.7"
  }
 },
 "nbformat": 4,
 "nbformat_minor": 5
}
