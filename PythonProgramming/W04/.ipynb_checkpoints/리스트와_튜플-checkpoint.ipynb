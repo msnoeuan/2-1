{
 "cells": [
  {
   "cell_type": "markdown",
   "id": "8747b6a0-f04f-4bbf-9e66-bf4e792d824d",
   "metadata": {},
   "source": [
    "## Lecture 1 : 리스트와 튜플\n",
    "### 1. 리스트\n",
    "- 항목의 모임(collections of items)으로, 항목은 순서가 있는 시퀀스(sequence)\n",
    "- 항목은 원소(element) 또는 요소(item)이라고도 불림\n",
    "- 항목은 모든 유형의 객체(object) 가능\n",
    "- 리스트는 가변(mutable) 객체로 항목은 수정, 추가 또는 삭제 가능\n",
    "> [ item_1, item_2, ... , item_n]  \n",
    "> data_list = [1, 2.4, 'py', [1, 2, 3]]  "
   ]
  },
  {
   "cell_type": "markdown",
   "id": "7fa48121-d1fe-4af8-96e3-62e6e35c9388",
   "metadata": {},
   "source": [
    "### LAB-1 : 리스트 관련 내장 함수"
   ]
  },
  {
   "cell_type": "code",
   "execution_count": 5,
   "id": "98c1e838-8189-445b-bb94-71e64f42619b",
   "metadata": {},
   "outputs": [
    {
     "data": {
      "text/plain": [
       "[1, 2.4, 'py', [1, 2, 3]]"
      ]
     },
     "execution_count": 5,
     "metadata": {},
     "output_type": "execute_result"
    }
   ],
   "source": [
    "data_list = [1, 2.4, 'py', [1, 2, 3]]\n",
    "data_list"
   ]
  },
  {
   "cell_type": "code",
   "execution_count": 7,
   "id": "e1db84a9-56cc-47e9-978e-719ae562ba31",
   "metadata": {},
   "outputs": [
    {
     "data": {
      "text/plain": [
       "[]"
      ]
     },
     "execution_count": 7,
     "metadata": {},
     "output_type": "execute_result"
    }
   ],
   "source": [
    "list()"
   ]
  },
  {
   "cell_type": "code",
   "execution_count": 9,
   "id": "5bf26251-f956-4e46-bdaa-c2e7fe34503e",
   "metadata": {},
   "outputs": [
    {
     "data": {
      "text/plain": [
       "['p', 'y', 't', 'h', 'o', 'n']"
      ]
     },
     "execution_count": 9,
     "metadata": {},
     "output_type": "execute_result"
    }
   ],
   "source": [
    "list('python')"
   ]
  },
  {
   "cell_type": "code",
   "execution_count": 11,
   "id": "2e821490-6ef8-47e6-ba3c-57947f06a879",
   "metadata": {},
   "outputs": [
    {
     "data": {
      "text/plain": [
       "[0, 1, 2, 3, 4]"
      ]
     },
     "execution_count": 11,
     "metadata": {},
     "output_type": "execute_result"
    }
   ],
   "source": [
    "list((0, 1, 2, 3, 4))"
   ]
  },
  {
   "cell_type": "code",
   "execution_count": 15,
   "id": "9b69e2f4-686e-4252-b9ca-c7407d0f5404",
   "metadata": {},
   "outputs": [
    {
     "data": {
      "text/plain": [
       "['apple', 'graph', 'banana']"
      ]
     },
     "execution_count": 15,
     "metadata": {},
     "output_type": "execute_result"
    }
   ],
   "source": [
    "list({'banana', 'apple', 'graph'})"
   ]
  },
  {
   "cell_type": "code",
   "execution_count": 17,
   "id": "0d41a377-14b8-4e2a-913c-755e0d1497f2",
   "metadata": {},
   "outputs": [
    {
     "data": {
      "text/plain": [
       "['JAVA', 'C#']"
      ]
     },
     "execution_count": 17,
     "metadata": {},
     "output_type": "execute_result"
    }
   ],
   "source": [
    "list({'JAVA' : 10, 'C#' : 20})"
   ]
  },
  {
   "cell_type": "code",
   "execution_count": 19,
   "id": "b3fb0e81-352f-4765-b2e3-a1cb7f3e3200",
   "metadata": {},
   "outputs": [
    {
     "data": {
      "text/plain": [
       "[('JAVA', 10), ('C#', 20)]"
      ]
     },
     "execution_count": 19,
     "metadata": {},
     "output_type": "execute_result"
    }
   ],
   "source": [
    "list({'JAVA' : 10, 'C#' : 20}.items())"
   ]
  },
  {
   "cell_type": "code",
   "execution_count": 21,
   "id": "402ad594-0ef8-472c-bdd8-3371f05a7c81",
   "metadata": {},
   "outputs": [
    {
     "data": {
      "text/plain": [
       "[0, 1, 2, 3, 4, 5, 6, 7, 8, 9]"
      ]
     },
     "execution_count": 21,
     "metadata": {},
     "output_type": "execute_result"
    }
   ],
   "source": [
    "list(range(10))"
   ]
  },
  {
   "cell_type": "code",
   "execution_count": 23,
   "id": "af95b766-7ab3-410b-8228-67a38c3da126",
   "metadata": {},
   "outputs": [
    {
     "data": {
      "text/plain": [
       "15"
      ]
     },
     "execution_count": 23,
     "metadata": {},
     "output_type": "execute_result"
    }
   ],
   "source": [
    "sum([1, 3, 5, 6])"
   ]
  },
  {
   "cell_type": "code",
   "execution_count": 25,
   "id": "d477fac0-8f38-4241-9788-263bc6081b26",
   "metadata": {},
   "outputs": [
    {
     "data": {
      "text/plain": [
       "4"
      ]
     },
     "execution_count": 25,
     "metadata": {},
     "output_type": "execute_result"
    }
   ],
   "source": [
    "len([1, 3, 5, 6])"
   ]
  },
  {
   "cell_type": "code",
   "execution_count": 27,
   "id": "e6c625c7-449e-4a58-a4ab-4c93b0342538",
   "metadata": {},
   "outputs": [
    {
     "data": {
      "text/plain": [
       "6"
      ]
     },
     "execution_count": 27,
     "metadata": {},
     "output_type": "execute_result"
    }
   ],
   "source": [
    "max([1, 3, 5, 6])"
   ]
  },
  {
   "cell_type": "code",
   "execution_count": 29,
   "id": "66f6d6a3-db53-497c-803c-1437870cd872",
   "metadata": {},
   "outputs": [
    {
     "data": {
      "text/plain": [
       "1"
      ]
     },
     "execution_count": 29,
     "metadata": {},
     "output_type": "execute_result"
    }
   ],
   "source": [
    "min([1, 3, 5, 6])"
   ]
  },
  {
   "cell_type": "code",
   "execution_count": 45,
   "id": "c2a2c1d3-8987-4fc4-ab64-2b5066032205",
   "metadata": {},
   "outputs": [
    {
     "data": {
      "text/plain": [
       "['apple', 'banana', 'kiwi']"
      ]
     },
     "execution_count": 45,
     "metadata": {},
     "output_type": "execute_result"
    }
   ],
   "source": [
    "# 리스트 항목을 정렬\n",
    "sorted(['banana', 'apple', 'kiwi'])"
   ]
  },
  {
   "cell_type": "code",
   "execution_count": 47,
   "id": "60953550-f2a1-46b2-94ed-067f986de275",
   "metadata": {},
   "outputs": [
    {
     "data": {
      "text/plain": [
       "['kiwi', 'banana', 'apple']"
      ]
     },
     "execution_count": 47,
     "metadata": {},
     "output_type": "execute_result"
    }
   ],
   "source": [
    "# reverse = False : 오름차순 정렬 / reverse = True : 내림차순 정렬\n",
    "sorted(['banana', 'apple', 'kiwi'], reverse = 1)"
   ]
  },
  {
   "cell_type": "markdown",
   "id": "a3b6a0a2-16c1-4088-bdce-41780d8db48d",
   "metadata": {},
   "source": [
    "### LAB-2 : 리스트 메서드"
   ]
  },
  {
   "cell_type": "code",
   "execution_count": 60,
   "id": "b74d4220-2f99-4a5a-8cdb-cd457633b3b5",
   "metadata": {},
   "outputs": [
    {
     "data": {
      "text/plain": [
       "['apple', 'banana']"
      ]
     },
     "execution_count": 60,
     "metadata": {},
     "output_type": "execute_result"
    }
   ],
   "source": [
    "# 리스트 lst의 첨자 index 앞에 item 추가\n",
    "fruits = []\n",
    "fruits.insert(0, 'apple')\n",
    "fruits.insert(1, 'banana')\n",
    "fruits"
   ]
  },
  {
   "cell_type": "code",
   "execution_count": 52,
   "id": "e5dbf044-a5cc-46df-bd9e-1c2d93280410",
   "metadata": {},
   "outputs": [
    {
     "data": {
      "text/plain": [
       "['Python', 'Java', 'JavaScript', 'C++', 'GO']"
      ]
     },
     "execution_count": 52,
     "metadata": {},
     "output_type": "execute_result"
    }
   ],
   "source": [
    "language = ['Python', 'Java', 'C++', 'GO']\n",
    "language.insert(2, 'JavaScript')\n",
    "language"
   ]
  },
  {
   "cell_type": "code",
   "execution_count": 62,
   "id": "adf2e507-dfac-4819-b51d-511170aaa943",
   "metadata": {},
   "outputs": [
    {
     "data": {
      "text/plain": [
       "['Python', 'Java', 'C++', 'GO', 'Kotlin']"
      ]
     },
     "execution_count": 62,
     "metadata": {},
     "output_type": "execute_result"
    }
   ],
   "source": [
    "# 리스트 lst의 맨 뒤에 item 추가\n",
    "language = ['Python', 'Java', 'C++', 'GO']\n",
    "language.append('Kotlin')\n",
    "language"
   ]
  },
  {
   "cell_type": "code",
   "execution_count": null,
   "id": "8af5e672-227a-4feb-a9ee-4a711c766aa7",
   "metadata": {},
   "outputs": [],
   "source": []
  }
 ],
 "metadata": {
  "kernelspec": {
   "display_name": "Python [conda env:base] *",
   "language": "python",
   "name": "conda-base-py"
  },
  "language_info": {
   "codemirror_mode": {
    "name": "ipython",
    "version": 3
   },
   "file_extension": ".py",
   "mimetype": "text/x-python",
   "name": "python",
   "nbconvert_exporter": "python",
   "pygments_lexer": "ipython3",
   "version": "3.12.7"
  }
 },
 "nbformat": 4,
 "nbformat_minor": 5
}
