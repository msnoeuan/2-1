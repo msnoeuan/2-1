{
 "cells": [
  {
   "cell_type": "markdown",
   "id": "8747b6a0-f04f-4bbf-9e66-bf4e792d824d",
   "metadata": {},
   "source": [
    "## Lecture 1 : 리스트와 튜플\n",
    "### 1. 리스트\n",
    "- 항목의 모임(collections of items)으로, 항목은 순서가 있는 시퀀스(sequence)\n",
    "- 항목은 원소(element) 또는 요소(item)이라고도 불림\n",
    "- 항목은 모든 유형의 객체(object) 가능\n",
    "- 리스트는 가변(mutable) 객체로 항목은 수정, 추가 또는 삭제 가능\n",
    "> [ item_1, item_2, ... , item_n]  \n",
    "> data_list = [1, 2.4, 'py', [1, 2, 3]]  "
   ]
  },
  {
   "cell_type": "markdown",
   "id": "7fa48121-d1fe-4af8-96e3-62e6e35c9388",
   "metadata": {},
   "source": [
    "### LAB-1 : 리스트 관련 내장 함수"
   ]
  },
  {
   "cell_type": "code",
   "execution_count": 5,
   "id": "98c1e838-8189-445b-bb94-71e64f42619b",
   "metadata": {},
   "outputs": [
    {
     "data": {
      "text/plain": [
       "[1, 2.4, 'py', [1, 2, 3]]"
      ]
     },
     "execution_count": 5,
     "metadata": {},
     "output_type": "execute_result"
    }
   ],
   "source": [
    "data_list = [1, 2.4, 'py', [1, 2, 3]]\n",
    "data_list"
   ]
  },
  {
   "cell_type": "code",
   "execution_count": 7,
   "id": "e1db84a9-56cc-47e9-978e-719ae562ba31",
   "metadata": {},
   "outputs": [
    {
     "data": {
      "text/plain": [
       "[]"
      ]
     },
     "execution_count": 7,
     "metadata": {},
     "output_type": "execute_result"
    }
   ],
   "source": [
    "list()"
   ]
  },
  {
   "cell_type": "code",
   "execution_count": 9,
   "id": "5bf26251-f956-4e46-bdaa-c2e7fe34503e",
   "metadata": {},
   "outputs": [
    {
     "data": {
      "text/plain": [
       "['p', 'y', 't', 'h', 'o', 'n']"
      ]
     },
     "execution_count": 9,
     "metadata": {},
     "output_type": "execute_result"
    }
   ],
   "source": [
    "list('python')"
   ]
  },
  {
   "cell_type": "code",
   "execution_count": 11,
   "id": "2e821490-6ef8-47e6-ba3c-57947f06a879",
   "metadata": {},
   "outputs": [
    {
     "data": {
      "text/plain": [
       "[0, 1, 2, 3, 4]"
      ]
     },
     "execution_count": 11,
     "metadata": {},
     "output_type": "execute_result"
    }
   ],
   "source": [
    "list((0, 1, 2, 3, 4))"
   ]
  },
  {
   "cell_type": "code",
   "execution_count": 15,
   "id": "9b69e2f4-686e-4252-b9ca-c7407d0f5404",
   "metadata": {},
   "outputs": [
    {
     "data": {
      "text/plain": [
       "['apple', 'graph', 'banana']"
      ]
     },
     "execution_count": 15,
     "metadata": {},
     "output_type": "execute_result"
    }
   ],
   "source": [
    "list({'banana', 'apple', 'graph'})"
   ]
  },
  {
   "cell_type": "code",
   "execution_count": 17,
   "id": "0d41a377-14b8-4e2a-913c-755e0d1497f2",
   "metadata": {},
   "outputs": [
    {
     "data": {
      "text/plain": [
       "['JAVA', 'C#']"
      ]
     },
     "execution_count": 17,
     "metadata": {},
     "output_type": "execute_result"
    }
   ],
   "source": [
    "list({'JAVA' : 10, 'C#' : 20})"
   ]
  },
  {
   "cell_type": "code",
   "execution_count": 19,
   "id": "b3fb0e81-352f-4765-b2e3-a1cb7f3e3200",
   "metadata": {},
   "outputs": [
    {
     "data": {
      "text/plain": [
       "[('JAVA', 10), ('C#', 20)]"
      ]
     },
     "execution_count": 19,
     "metadata": {},
     "output_type": "execute_result"
    }
   ],
   "source": [
    "list({'JAVA' : 10, 'C#' : 20}.items())"
   ]
  },
  {
   "cell_type": "code",
   "execution_count": 21,
   "id": "402ad594-0ef8-472c-bdd8-3371f05a7c81",
   "metadata": {},
   "outputs": [
    {
     "data": {
      "text/plain": [
       "[0, 1, 2, 3, 4, 5, 6, 7, 8, 9]"
      ]
     },
     "execution_count": 21,
     "metadata": {},
     "output_type": "execute_result"
    }
   ],
   "source": [
    "list(range(10))"
   ]
  },
  {
   "cell_type": "code",
   "execution_count": 23,
   "id": "af95b766-7ab3-410b-8228-67a38c3da126",
   "metadata": {},
   "outputs": [
    {
     "data": {
      "text/plain": [
       "15"
      ]
     },
     "execution_count": 23,
     "metadata": {},
     "output_type": "execute_result"
    }
   ],
   "source": [
    "sum([1, 3, 5, 6])"
   ]
  },
  {
   "cell_type": "code",
   "execution_count": 25,
   "id": "d477fac0-8f38-4241-9788-263bc6081b26",
   "metadata": {},
   "outputs": [
    {
     "data": {
      "text/plain": [
       "4"
      ]
     },
     "execution_count": 25,
     "metadata": {},
     "output_type": "execute_result"
    }
   ],
   "source": [
    "len([1, 3, 5, 6])"
   ]
  },
  {
   "cell_type": "code",
   "execution_count": 27,
   "id": "e6c625c7-449e-4a58-a4ab-4c93b0342538",
   "metadata": {},
   "outputs": [
    {
     "data": {
      "text/plain": [
       "6"
      ]
     },
     "execution_count": 27,
     "metadata": {},
     "output_type": "execute_result"
    }
   ],
   "source": [
    "max([1, 3, 5, 6])"
   ]
  },
  {
   "cell_type": "code",
   "execution_count": 29,
   "id": "66f6d6a3-db53-497c-803c-1437870cd872",
   "metadata": {},
   "outputs": [
    {
     "data": {
      "text/plain": [
       "1"
      ]
     },
     "execution_count": 29,
     "metadata": {},
     "output_type": "execute_result"
    }
   ],
   "source": [
    "min([1, 3, 5, 6])"
   ]
  },
  {
   "cell_type": "code",
   "execution_count": 45,
   "id": "c2a2c1d3-8987-4fc4-ab64-2b5066032205",
   "metadata": {},
   "outputs": [
    {
     "data": {
      "text/plain": [
       "['apple', 'banana', 'kiwi']"
      ]
     },
     "execution_count": 45,
     "metadata": {},
     "output_type": "execute_result"
    }
   ],
   "source": [
    "# 리스트 항목을 정렬\n",
    "sorted(['banana', 'apple', 'kiwi'])"
   ]
  },
  {
   "cell_type": "code",
   "execution_count": 47,
   "id": "60953550-f2a1-46b2-94ed-067f986de275",
   "metadata": {},
   "outputs": [
    {
     "data": {
      "text/plain": [
       "['kiwi', 'banana', 'apple']"
      ]
     },
     "execution_count": 47,
     "metadata": {},
     "output_type": "execute_result"
    }
   ],
   "source": [
    "# reverse = False : 오름차순 정렬 / reverse = True : 내림차순 정렬\n",
    "sorted(['banana', 'apple', 'kiwi'], reverse = 1)"
   ]
  },
  {
   "cell_type": "markdown",
   "id": "a3b6a0a2-16c1-4088-bdce-41780d8db48d",
   "metadata": {},
   "source": [
    "### LAB-2 : 리스트 메서드"
   ]
  },
  {
   "cell_type": "code",
   "execution_count": 60,
   "id": "b74d4220-2f99-4a5a-8cdb-cd457633b3b5",
   "metadata": {},
   "outputs": [
    {
     "data": {
      "text/plain": [
       "['apple', 'banana']"
      ]
     },
     "execution_count": 60,
     "metadata": {},
     "output_type": "execute_result"
    }
   ],
   "source": [
    "# 리스트 lst의 첨자 index 앞에 item 추가\n",
    "fruits = []\n",
    "fruits.insert(0, 'apple')\n",
    "fruits.insert(1, 'banana')\n",
    "fruits"
   ]
  },
  {
   "cell_type": "code",
   "execution_count": 52,
   "id": "e5dbf044-a5cc-46df-bd9e-1c2d93280410",
   "metadata": {},
   "outputs": [
    {
     "data": {
      "text/plain": [
       "['Python', 'Java', 'JavaScript', 'C++', 'GO']"
      ]
     },
     "execution_count": 52,
     "metadata": {},
     "output_type": "execute_result"
    }
   ],
   "source": [
    "language = ['Python', 'Java', 'C++', 'GO']\n",
    "language.insert(2, 'JavaScript')\n",
    "language"
   ]
  },
  {
   "cell_type": "code",
   "execution_count": 62,
   "id": "adf2e507-dfac-4819-b51d-511170aaa943",
   "metadata": {},
   "outputs": [
    {
     "data": {
      "text/plain": [
       "['Python', 'Java', 'C++', 'GO', 'Kotlin']"
      ]
     },
     "execution_count": 62,
     "metadata": {},
     "output_type": "execute_result"
    }
   ],
   "source": [
    "# 리스트 lst의 맨 뒤에 item 추가\n",
    "language = ['Python', 'Java', 'C++', 'GO']\n",
    "language.append('Kotlin')\n",
    "language"
   ]
  },
  {
   "cell_type": "code",
   "execution_count": 64,
   "id": "8af5e672-227a-4feb-a9ee-4a711c766aa7",
   "metadata": {},
   "outputs": [
    {
     "data": {
      "text/plain": [
       "['apple', 'kiwi']"
      ]
     },
     "execution_count": 64,
     "metadata": {},
     "output_type": "execute_result"
    }
   ],
   "source": [
    "fruits = ['apple', 'banana', 'kiwi']\n",
    "fruits.remove('banana')\n",
    "fruits"
   ]
  },
  {
   "cell_type": "code",
   "execution_count": 72,
   "id": "61bf8ef2-ecf8-4b72-ab09-3fc96e2ddf6f",
   "metadata": {},
   "outputs": [
    {
     "name": "stdout",
     "output_type": "stream",
     "text": [
      "GO\n",
      "['Python', 'Java', 'C++']\n"
     ]
    }
   ],
   "source": [
    "# pop() : 리스트 lst에서 index번째 item 삭제후, item 값 반환\n",
    "language = ['Python', 'Java', 'C++', 'GO']\n",
    "print(language.pop())\n",
    "print(language)"
   ]
  },
  {
   "cell_type": "code",
   "execution_count": 1,
   "id": "04118517-1792-4048-b01d-ece059493950",
   "metadata": {},
   "outputs": [
    {
     "name": "stdout",
     "output_type": "stream",
     "text": [
      "Java\n",
      "['Python', 'C++', 'GO']\n"
     ]
    }
   ],
   "source": [
    "language = ['Python', 'Java', 'C++', 'GO']\n",
    "print(language.pop(1))\n",
    "print(language)"
   ]
  },
  {
   "cell_type": "code",
   "execution_count": 3,
   "id": "a2ba9c02-b1df-4e02-8836-c267a3b91c90",
   "metadata": {},
   "outputs": [
    {
     "data": {
      "text/plain": [
       "['C++', 'GO', 'Java', 'Python']"
      ]
     },
     "execution_count": 3,
     "metadata": {},
     "output_type": "execute_result"
    }
   ],
   "source": [
    "language = ['Python', 'Java', 'C++', 'GO']\n",
    "language.sort()\n",
    "language"
   ]
  },
  {
   "cell_type": "markdown",
   "id": "471078d3-972d-44cd-8960-a12b29e02017",
   "metadata": {},
   "source": [
    "### LAB 3 : 리스트에서 중복 제거\n",
    "1. 문제 : 다음 숫자 리스트에서 중복을 제거하고, 중복이 제거된 리스트를 오름차순으로 정렬하여 출력하세요.\n",
    "2. 조건 : 딕셔너리, 집합(set) 등 다른 자료형을 사용하지 말고 리스트만 사용\n",
    "3. 입출력\n",
    "- 입력 : numbers = [1, 3, 2, 3, 4, 1, 5]\n",
    "- 출력 : [1, 2, 3, 4, 5]\n",
    "> list.append(), list.sort()"
   ]
  },
  {
   "cell_type": "code",
   "execution_count": 12,
   "id": "3e7a8771-1ffe-4c3b-a89a-fe556f8028d0",
   "metadata": {},
   "outputs": [
    {
     "name": "stdout",
     "output_type": "stream",
     "text": [
      "중복 제거 및 정렬된 리스트 :  [1, 2, 3, 4, 5]\n"
     ]
    }
   ],
   "source": [
    "# 코드 예제\n",
    "numbers = [1, 3, 2, 3, 4, 1, 5]\n",
    "\n",
    "unique_numbers = []\n",
    "\n",
    "for num in numbers :\n",
    "    if num not in unique_numbers :  # 리스트에서 중복 확인\n",
    "        unique_numbers.append(num)\n",
    "\n",
    "\n",
    "unique_numbers.sort()  # 오름차순 정렬\n",
    "print('중복 제거 및 정렬된 리스트 : ', unique_numbers)"
   ]
  },
  {
   "cell_type": "markdown",
   "id": "ef4377db-2c00-4b82-b521-bda1b2e6bae4",
   "metadata": {},
   "source": [
    "### LAB 4 : 문자열 정렬 프로그램 (리스트 활용)\n",
    "1. 문제 : 사용자로부터 여러 문장을 입력받아, 각 문장의 단어를 알파벳 순서로 정렬\n",
    "- 사용자가 여러 문장을 입력합니다.\n",
    "- 각 문장의 단어를 알파벳순으로 정렬합니다.\n",
    "- 정렬된 문장을 출력합니다.\n",
    "2. 조건 : 문자열 메서드와 리스트 메서드를 함께 사용하세요\n",
    "3. 입출력\n",
    "- 입력 :\n",
    "    - 문장 입력: Python is great\n",
    "    - 문장 입력: I love programming\n",
    "    - 문장 입력: (빈 줄 입력 시 종료)\n",
    "- 출력 :\n",
    "    - 정렬된 문장:\n",
    "    - is great Python\n",
    "    - I love programming\n",
    "> str.split(), str.join(), list.sort()"
   ]
  },
  {
   "cell_type": "code",
   "execution_count": null,
   "id": "e2ee8459-6c99-47b6-a62a-597a6195bbd5",
   "metadata": {},
   "outputs": [],
   "source": []
  },
  {
   "cell_type": "code",
   "execution_count": 41,
   "id": "025d7583-0173-4460-9f28-a03c1e932910",
   "metadata": {},
   "outputs": [
    {
     "name": "stdout",
     "output_type": "stream",
     "text": [
      "여러 문장을 입력하세요. (빈 줄 입력 시 종료)\n"
     ]
    },
    {
     "name": "stdin",
     "output_type": "stream",
     "text": [
      "문장 입력:  I like programming\n",
      "문장 입력:  python is great\n",
      "문장 입력:  \n"
     ]
    },
    {
     "name": "stdout",
     "output_type": "stream",
     "text": [
      "\n",
      "정렬된 문장:\n",
      "I like programming\n",
      "great is python\n"
     ]
    }
   ],
   "source": [
    "# 코드\n",
    "sentences = []\n",
    "\n",
    "print(\"여러 문장을 입력하세요. (빈 줄 입력 시 종료)\")\n",
    "while True:\n",
    "    sentence = input(\"문장 입력: \")\n",
    "    if not sentence.strip():\n",
    "        break\n",
    "    sentences.append(sentence)\n",
    "    \n",
    "print(\"\\n정렬된 문장:\")\n",
    "for sentence in sentences:\n",
    "    words = sentence.split()\n",
    "    words.sort()\n",
    "    sorted_sentence = ' '.join(words)\n",
    "    print(sorted_sentence)"
   ]
  },
  {
   "cell_type": "code",
   "execution_count": null,
   "id": "c52ce2e4-e6f5-42c6-8893-79abbb43a2ad",
   "metadata": {},
   "outputs": [],
   "source": []
  },
  {
   "cell_type": "code",
   "execution_count": null,
   "id": "b564ee46-b08f-4604-820f-0578c908a0d3",
   "metadata": {},
   "outputs": [],
   "source": []
  },
  {
   "cell_type": "code",
   "execution_count": 8,
   "id": "99a069d7-aa0b-4f47-ac62-d76e885f217e",
   "metadata": {},
   "outputs": [
    {
     "name": "stdout",
     "output_type": "stream",
     "text": [
      "여러 문장을 입력하세요. (빈 줄 입력 시 종료)\n"
     ]
    },
    {
     "name": "stdin",
     "output_type": "stream",
     "text": [
      "문장 입력:  I love programming\n",
      "문장 입력:  Python is great\n",
      "문장 입력:  \n"
     ]
    },
    {
     "name": "stdout",
     "output_type": "stream",
     "text": [
      "\n",
      "정렬된 문장 : \n",
      "I love programming\n",
      "Python great is\n"
     ]
    }
   ],
   "source": [
    "# 코드\n",
    "sentences = []\n",
    "\n",
    "print(\"여러 문장을 입력하세요. (빈 줄 입력 시 종료)\")\n",
    "while True :\n",
    "    sentence = input(\"문장 입력: \")\n",
    "    if not sentence.strip():\n",
    "        break\n",
    "    sentences.append(sentence)\n",
    "\n",
    "try :\n",
    "    if not sentences :\n",
    "        raise Exception('입력이 비었음')\n",
    "\n",
    "    print(\"\\n정렬된 문장 : \")\n",
    "    for sentence in sentences :\n",
    "        words = sentence.split()\n",
    "        words.sort()\n",
    "        sorted_sentence = ' '.join(words)\n",
    "        print(sorted_sentence)\n",
    "\n",
    "except Exception as e :\n",
    "    print('오류', e)"
   ]
  },
  {
   "cell_type": "markdown",
   "id": "c6ae6522-3395-4bed-9bc3-3ea361a5b5ea",
   "metadata": {},
   "source": [
    "### 3. 튜플(tuple)\n",
    "- 항목의 모임(collections of items)으로, 항목은 순서가 있는 시퀀스(sequence)\n",
    "- 튜플은 항목의 순서나 항목 추가, 삭제가 불가능\n",
    "- 각 항목은 정수, 실수, 문자열, 리스트, 튜플 등 제한이 없음\n",
    "- list보다 빠르게 실행 가능\n",
    "> ( item_1, item_2, ... , item_n ) # 항목이 하나라도 콤마(,)가 필요  \n",
    "> item_1, item_2, ... , item_n # 괄호는 생략 가능하면, 항목이 하나라도 콤마(,)가 필요  "
   ]
  },
  {
   "cell_type": "markdown",
   "id": "f1ee208b-7f4d-4d54-8cea-4e73969499cf",
   "metadata": {},
   "source": [
    "### 튜플 패킹과 언패킹(Packing, Unpacking) / LAB-7"
   ]
  },
  {
   "cell_type": "code",
   "execution_count": 50,
   "id": "f14a569a-a6fa-4088-8bf3-fe521827143d",
   "metadata": {},
   "outputs": [
    {
     "name": "stdout",
     "output_type": "stream",
     "text": [
      "월 화 수\n"
     ]
    }
   ],
   "source": [
    "# 언패킹(unpacking, 압축해제)\n",
    "day = ('월', '화', '수')\n",
    "a, b, c = day\n",
    "print(a, b, c)"
   ]
  },
  {
   "cell_type": "markdown",
   "id": "0d1fdf00-08f1-4aaf-950d-b5e7b2b220ed",
   "metadata": {},
   "source": [
    "### LAB-5 튜플의 생성(선언)"
   ]
  },
  {
   "cell_type": "code",
   "execution_count": 54,
   "id": "0ab97644-c592-4808-8128-9505854da4a1",
   "metadata": {},
   "outputs": [
    {
     "name": "stdout",
     "output_type": "stream",
     "text": [
      "1 <class 'int'>\n"
     ]
    }
   ],
   "source": [
    "a = 1\n",
    "print(a, type(a))"
   ]
  },
  {
   "cell_type": "code",
   "execution_count": 56,
   "id": "013e39d4-422e-449c-a428-fb1afa61b60f",
   "metadata": {},
   "outputs": [
    {
     "name": "stdout",
     "output_type": "stream",
     "text": [
      "1 <class 'int'>\n"
     ]
    }
   ],
   "source": [
    "b = (1)\n",
    "print(b, type(b))"
   ]
  },
  {
   "cell_type": "code",
   "execution_count": 58,
   "id": "a87d1f6b-a36a-4b00-8a3c-b0aa3bfa4487",
   "metadata": {},
   "outputs": [
    {
     "name": "stdout",
     "output_type": "stream",
     "text": [
      "(1,) <class 'tuple'>\n"
     ]
    }
   ],
   "source": [
    "t1 = 1,\n",
    "print(t1, type(t1))"
   ]
  },
  {
   "cell_type": "code",
   "execution_count": 60,
   "id": "c18d2343-3378-4be7-85ee-cf4d87f1d5fd",
   "metadata": {},
   "outputs": [
    {
     "name": "stdout",
     "output_type": "stream",
     "text": [
      "(2,) <class 'tuple'>\n"
     ]
    }
   ],
   "source": [
    "t2 = (2,)\n",
    "print(t2, type(t2))"
   ]
  },
  {
   "cell_type": "code",
   "execution_count": 62,
   "id": "c7c52b23-5611-4e59-8790-8d413b568eb0",
   "metadata": {},
   "outputs": [
    {
     "name": "stdout",
     "output_type": "stream",
     "text": [
      "('월', '화', '수')\n"
     ]
    }
   ],
   "source": [
    "t3 = ('월', '화', '수')\n",
    "print(t3)"
   ]
  },
  {
   "cell_type": "code",
   "execution_count": 66,
   "id": "713f56b7-4b35-4f71-b550-137088e426c5",
   "metadata": {},
   "outputs": [
    {
     "name": "stdout",
     "output_type": "stream",
     "text": [
      "('월', '화', '수')\n"
     ]
    }
   ],
   "source": [
    "t4 = ('월', '화', '수',)\n",
    "print(t4)"
   ]
  },
  {
   "cell_type": "markdown",
   "id": "7fb84ed2-1a71-4da2-8e24-716248872a1f",
   "metadata": {},
   "source": [
    "### LAB-6 튜플 내장 함수"
   ]
  },
  {
   "cell_type": "code",
   "execution_count": 70,
   "id": "bafbf711-58c8-4ac8-83f8-be6fd2c895b9",
   "metadata": {},
   "outputs": [
    {
     "data": {
      "text/plain": [
       "()"
      ]
     },
     "execution_count": 70,
     "metadata": {},
     "output_type": "execute_result"
    }
   ],
   "source": [
    "tuple()"
   ]
  },
  {
   "cell_type": "code",
   "execution_count": 72,
   "id": "6da4baa7-3692-40c3-9cd2-2895f66612ff",
   "metadata": {},
   "outputs": [
    {
     "data": {
      "text/plain": [
       "(1, 2)"
      ]
     },
     "execution_count": 72,
     "metadata": {},
     "output_type": "execute_result"
    }
   ],
   "source": [
    "tuple((1, 2))"
   ]
  },
  {
   "cell_type": "code",
   "execution_count": 74,
   "id": "f5136a42-3196-4052-a6a0-128219d9f613",
   "metadata": {},
   "outputs": [
    {
     "data": {
      "text/plain": [
       "('p', 'y', 't', 'h', 'o', 'n')"
      ]
     },
     "execution_count": 74,
     "metadata": {},
     "output_type": "execute_result"
    }
   ],
   "source": [
    "tuple('python')"
   ]
  },
  {
   "cell_type": "code",
   "execution_count": 76,
   "id": "5a46ee98-796c-4a92-8964-19e98d0d2960",
   "metadata": {},
   "outputs": [
    {
     "data": {
      "text/plain": [
       "(0, 1, 2, 3, 4)"
      ]
     },
     "execution_count": 76,
     "metadata": {},
     "output_type": "execute_result"
    }
   ],
   "source": [
    "tuple(range(5))"
   ]
  },
  {
   "cell_type": "code",
   "execution_count": 80,
   "id": "f73d5ddf-6d5e-4f36-9981-d38441c3cc80",
   "metadata": {},
   "outputs": [
    {
     "data": {
      "text/plain": [
       "('graph', 'apple', 'banana')"
      ]
     },
     "execution_count": 80,
     "metadata": {},
     "output_type": "execute_result"
    }
   ],
   "source": [
    "tuple({'banana', 'apple', 'graph'})"
   ]
  },
  {
   "cell_type": "markdown",
   "id": "7a5db24e-2cc8-4769-9e65-536cd67a0aca",
   "metadata": {},
   "source": [
    "### LAB-7 패킹과 언패킹\n"
   ]
  },
  {
   "cell_type": "code",
   "execution_count": 83,
   "id": "1825c0d4-167d-4863-873e-41eb969ba978",
   "metadata": {},
   "outputs": [
    {
     "name": "stdout",
     "output_type": "stream",
     "text": [
      "월 화 수\n"
     ]
    }
   ],
   "source": [
    "day = ('월', '화', '수')\n",
    "a, b, c = day\n",
    "print(a, b, c)"
   ]
  },
  {
   "cell_type": "code",
   "execution_count": 87,
   "id": "a32b5a72-323e-47eb-8fc2-555ff29e8d3a",
   "metadata": {},
   "outputs": [
    {
     "name": "stdout",
     "output_type": "stream",
     "text": [
      "(10, 20) <class 'tuple'>\n",
      "10 20\n"
     ]
    }
   ],
   "source": [
    "def calc(a, b) :\n",
    "    s = a + b\n",
    "    m = a * b\n",
    "\n",
    "    return (a, b)\n",
    "\n",
    "x = calc(10, 20)\n",
    "print(x, type(x))\n",
    "\n",
    "x1, x2 = calc(10, 20)\n",
    "print(x1, x2)"
   ]
  }
 ],
 "metadata": {
  "kernelspec": {
   "display_name": "Python [conda env:base] *",
   "language": "python",
   "name": "conda-base-py"
  },
  "language_info": {
   "codemirror_mode": {
    "name": "ipython",
    "version": 3
   },
   "file_extension": ".py",
   "mimetype": "text/x-python",
   "name": "python",
   "nbconvert_exporter": "python",
   "pygments_lexer": "ipython3",
   "version": "3.12.7"
  }
 },
 "nbformat": 4,
 "nbformat_minor": 5
}
