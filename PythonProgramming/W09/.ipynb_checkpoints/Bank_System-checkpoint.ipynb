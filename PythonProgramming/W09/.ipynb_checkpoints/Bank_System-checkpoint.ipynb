{
 "cells": [
  {
   "cell_type": "code",
   "execution_count": 14,
   "id": "b9a04635-ab51-4581-9786-f94bfe35c24a",
   "metadata": {
    "ExecuteTime": {
     "end_time": "2025-05-12T15:56:50.695785Z",
     "start_time": "2025-05-12T15:56:50.686527Z"
    }
   },
   "outputs": [
    {
     "name": "stdout",
     "output_type": "stream",
     "text": [
      "===은행 시스템===\n",
      "사용 가능 명령어 : deposit, withdraw, check, exit\n"
     ]
    },
    {
     "name": "stdin",
     "output_type": "stream",
     "text": [
      "명령어를 입력하세요 :  deposit\n",
      "입금 금액을 입력하세요 :  1000\n"
     ]
    },
    {
     "name": "stdout",
     "output_type": "stream",
     "text": [
      "1000원이 입금되었습니다. 현재 잔액 : 1000\n"
     ]
    },
    {
     "name": "stdin",
     "output_type": "stream",
     "text": [
      "명령어를 입력하세요 :  withdraw\n",
      "출금 금액을 입력하세요 :  100\n"
     ]
    },
    {
     "name": "stdout",
     "output_type": "stream",
     "text": [
      "100원이 출금되었습니다. 현재 잔액 : 900원\n"
     ]
    },
    {
     "name": "stdin",
     "output_type": "stream",
     "text": [
      "명령어를 입력하세요 :  check\n"
     ]
    },
    {
     "name": "stdout",
     "output_type": "stream",
     "text": [
      "현재 잔액 : 900원\n"
     ]
    },
    {
     "name": "stdin",
     "output_type": "stream",
     "text": [
      "명령어를 입력하세요 :  exit\n"
     ]
    },
    {
     "name": "stdout",
     "output_type": "stream",
     "text": [
      "프로그램을 종료합니다.\n"
     ]
    }
   ],
   "source": [
    "# 은행 시스템 메인 프로그램\n",
    "\n",
    "# 입금 함수 : 잔액에 금액을 추가\n",
    "def deposit(balance, amount) :\n",
    "    if amount <= 0 :\n",
    "        print(\"입금 금액은 0보다 커야 합니다.\")\n",
    "        return balance\n",
    "    balance += amount\n",
    "    print(f\"{amount}원이 입금되었습니다. 현재 잔액 : {balance}\")\n",
    "\n",
    "    return balance\n",
    "\n",
    "# 출금 함수 : 잔액에서 금액을 차감\n",
    "def withdraw(balance, amount) :\n",
    "    if amount <= 0 :\n",
    "        print(\"출금 금액은 0보다 커야 합니다.\")\n",
    "        return balance\n",
    "    if amount > balance :\n",
    "        print(\"잔액이 부족합니다. 출금할 수 없습니다.\")\n",
    "        return balance\n",
    "    balance -= amount\n",
    "    print(f\"{amount}원이 출금되었습니다. 현재 잔액 : {balance}원\")\n",
    "\n",
    "    return balance\n",
    "\n",
    "# 잔액 조회 함수\n",
    "def check_balance(balance) :\n",
    "    print(f\"현재 잔액 : {balance}원\")\n",
    "\n",
    "# 메인 함수 : 은행 시스템 실행\n",
    "def main() :\n",
    "    print(\"===은행 시스템===\")\n",
    "    print(\"사용 가능 명령어 : deposit, withdraw, check, exit\")\n",
    "    \n",
    "    balance = 0  # 초기 잔액 설정\n",
    "    \n",
    "    while True :\n",
    "        user_input = input(\"명령어를 입력하세요 : \").strip().lower()\n",
    "    \n",
    "        if user_input == \"exit\" :\n",
    "            print(\"프로그램을 종료합니다.\")\n",
    "            break\n",
    "        elif user_input == \"deposit\" :\n",
    "            try :\n",
    "                amount = int(input(\"입금 금액을 입력하세요 : \"))\n",
    "                balance = deposit(balance, amount)\n",
    "            except ValueError :\n",
    "                print(\"유효한 숫자를 입력해주세요.\")\n",
    "        elif user_input == \"withdraw\" :\n",
    "            try :\n",
    "                amount = int(input(\"출금 금액을 입력하세요 : \"))\n",
    "                balance = withdraw(balance, amount)\n",
    "            except ValueError :\n",
    "                print(\"유효한 숫자를 입력해주세요\")\n",
    "        elif user_input == \"check\" :\n",
    "            check_balance(balance)\n",
    "        else :\n",
    "            print(\"유효하지 않은 명령어입니다. 다시 입력해주세요.\")\n",
    "    \n",
    "# 프로그램 실행\n",
    "if __name__ == \"__main__\" :\n",
    "    main()"
   ]
  },
  {
   "cell_type": "code",
   "execution_count": null,
   "id": "26b0300b73e5c8ce",
   "metadata": {},
   "outputs": [],
   "source": []
  }
 ],
 "metadata": {
  "kernelspec": {
   "display_name": "Python [conda env:base] *",
   "language": "python",
   "name": "conda-base-py"
  },
  "language_info": {
   "codemirror_mode": {
    "name": "ipython",
    "version": 3
   },
   "file_extension": ".py",
   "mimetype": "text/x-python",
   "name": "python",
   "nbconvert_exporter": "python",
   "pygments_lexer": "ipython3",
   "version": "3.12.7"
  }
 },
 "nbformat": 4,
 "nbformat_minor": 5
}
