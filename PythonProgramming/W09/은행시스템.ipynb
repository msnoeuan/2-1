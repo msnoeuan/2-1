{
 "cells": [
  {
   "cell_type": "code",
   "execution_count": 10,
   "id": "bb713b11-9b77-49ff-ae47-1b46dbd7dc4c",
   "metadata": {},
   "outputs": [
    {
     "name": "stdout",
     "output_type": "stream",
     "text": [
      "===은행 시스템===\n",
      "사용 가능 명령어 : deposit, withdraw, check, exit, history\n"
     ]
    },
    {
     "name": "stdin",
     "output_type": "stream",
     "text": [
      "비밀번호를 입력하세요 :  1234\n",
      "명령어를 입력하세요 :  deposit\n",
      "입금 금액을 입력하세요 :  500000\n"
     ]
    },
    {
     "name": "stdout",
     "output_type": "stream",
     "text": [
      "500000원이 입금되었습니다. 현재 잔액 : 500000원\n"
     ]
    },
    {
     "name": "stdin",
     "output_type": "stream",
     "text": [
      "명령어를 입력하세요 :  deposit\n",
      "입금 금액을 입력하세요 :  400000\n"
     ]
    },
    {
     "name": "stdout",
     "output_type": "stream",
     "text": [
      "400000원이 입금되었습니다. 현재 잔액 : 900000원\n"
     ]
    },
    {
     "name": "stdin",
     "output_type": "stream",
     "text": [
      "명령어를 입력하세요 :  deposit\n",
      "입금 금액을 입력하세요 :  100000\n"
     ]
    },
    {
     "name": "stdout",
     "output_type": "stream",
     "text": [
      "100000원이 입금되었습니다. 현재 잔액 : 1000000원\n"
     ]
    },
    {
     "name": "stdin",
     "output_type": "stream",
     "text": [
      "명령어를 입력하세요 :  deposit\n",
      "입금 금액을 입력하세요 :  1000\n"
     ]
    },
    {
     "name": "stdout",
     "output_type": "stream",
     "text": [
      "입금 한도를 초과하였습니다.\n"
     ]
    },
    {
     "name": "stdin",
     "output_type": "stream",
     "text": [
      "명령어를 입력하세요 :  exit\n"
     ]
    },
    {
     "name": "stdout",
     "output_type": "stream",
     "text": [
      "프로그램을 종료합니다.\n"
     ]
    }
   ],
   "source": [
    "# 은행 시스템 메인 프로그램\n",
    "import sys\n",
    "\n",
    "# 입금 함수 : 잔액에 금액을 추가\n",
    "def deposit(balance, amount, history, daily_deposit) : \n",
    "    if amount <= 0 :\n",
    "        print(\"입금 금액은 0보다 커야 합니다.\");\n",
    "        return balance\n",
    "\n",
    "    daily_deposit += amount\n",
    "    if daily_deposit > 1000000 :\n",
    "        print('입금 한도를 초과하였습니다.')\n",
    "        return balance, daily_deposit\n",
    "    \n",
    "    balance += amount\n",
    "    print(f'{amount}원이 입금되었습니다. 현재 잔액 : {balance}원')\n",
    "    history.append(f'입금 : {amount}원')\n",
    "    \n",
    "    return balance, daily_deposit\n",
    "\n",
    "# 출금 함수 : 잔액에서 금액을 차감\n",
    "def withdraw(balance, amount, history, daily_withdraw) :    \n",
    "    if amount <= 0 :\n",
    "        print(\"출금 금액은 0보다 커야 합니다.\")\n",
    "        return balance, daily_withdraw\n",
    "        \n",
    "    if amount > balance : \n",
    "        print(\"잔액이 부족합니다. 출금할 수 없습니다.\")\n",
    "        return balance, daily_withdraw\n",
    "\n",
    "    daily_withdraw += amount\n",
    "    if daily_withdraw > 500000 :\n",
    "        print('출금 한도를 초과하였습니다')\n",
    "        return balance, daily_withdraw\n",
    "\n",
    "    balance -= amount\n",
    "    print(f'{amount}원이 출금되었습니다. 현재 잔액 : {balance}원')\n",
    "    history.append(f'출금: {amount}원')\n",
    "\n",
    "    return balance, daily_withdraw\n",
    "\n",
    "# 잔액 조회 함수\n",
    "def check_balance(balance) :\n",
    "    print(f'현재 잔액 : {balance}원')\n",
    "\n",
    "# 메인 함수 : 은행 시스템 실행\n",
    "def main() :\n",
    "    print(\"===은행 시스템===\")\n",
    "    print('사용 가능 명령어 : deposit, withdraw, check, exit, history')\n",
    "\n",
    "    balance = 0  # 초기 잔액 설정\n",
    "    history = []\n",
    "    daily_deposit = 0\n",
    "    daily_withdraw = 0\n",
    "\n",
    "    password = \"1234\"\n",
    "    \n",
    "    user_input  = input(\"비밀번호를 입력하세요 : \")\n",
    "    \n",
    "    if user_input != password :\n",
    "        try :\n",
    "            print('비밀번호가 틀렸습니다.')\n",
    "            sys.exit()\n",
    "        except :\n",
    "            print('프로그램을 종료합니다.')\n",
    "\n",
    "    else : \n",
    "        while True :\n",
    "            user_input= input('명령어를 입력하세요 : ').strip().lower()\n",
    "    \n",
    "            if user_input == 'exit' :\n",
    "                print('프로그램을 종료합니다.')\n",
    "                break\n",
    "                \n",
    "            elif user_input == 'deposit' :\n",
    "                try :\n",
    "                    amount = int(input('입금 금액을 입력하세요 : '))\n",
    "                    balance, daily_deposit = deposit(balance, amount, history, daily_deposit)\n",
    "                except ValueError :\n",
    "                    print('유효한 숫자를 입력해주세요.')\n",
    "                    \n",
    "            elif user_input == 'withdraw' :\n",
    "                try : \n",
    "                    amount = int(input('출금 금액을 입력하세요 : '))\n",
    "                    balance, daily_withdraw = withdraw(balance, amount, history, daily_withdraw)\n",
    "                except ValueError :\n",
    "                    print('유효한 숫자를 입력해주세요')\n",
    "                    \n",
    "            elif user_input == 'check' :\n",
    "                check_balance(balance)\n",
    "                \n",
    "            elif user_input == 'history' :\n",
    "                for i in history :\n",
    "                    print(i)\n",
    "                \n",
    "            else :\n",
    "                print('유효하지 않은 명령어입니다. 다시 입력해주세요.')\n",
    "\n",
    "# 프로그램 실행\n",
    "if __name__ == '__main__' :\n",
    "    main()"
   ]
  },
  {
   "cell_type": "code",
   "execution_count": null,
   "id": "abc679ea-5ef9-4a34-92f6-ac6f47f313b8",
   "metadata": {},
   "outputs": [],
   "source": []
  },
  {
   "cell_type": "code",
   "execution_count": null,
   "id": "4dc4efb0-5825-41e4-893d-9bc38841528d",
   "metadata": {},
   "outputs": [],
   "source": []
  }
 ],
 "metadata": {
  "kernelspec": {
   "display_name": "Python 3 (ipykernel)",
   "language": "python",
   "name": "python3"
  },
  "language_info": {
   "codemirror_mode": {
    "name": "ipython",
    "version": 3
   },
   "file_extension": ".py",
   "mimetype": "text/x-python",
   "name": "python",
   "nbconvert_exporter": "python",
   "pygments_lexer": "ipython3",
   "version": "3.12.7"
  }
 },
 "nbformat": 4,
 "nbformat_minor": 5
}
