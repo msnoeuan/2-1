{
 "cells": [
  {
   "cell_type": "markdown",
   "id": "a712c91b-ea73-4528-a8d3-2607059bb06c",
   "metadata": {},
   "source": [
    "## LECTURE 1. 시퀀스(Sequence) 자료\n",
    "- 시퀀스(sequence)는 위치에 따라 정렬된 항목의 모임\n",
    "- str, list, tuple, range, bytearray, bytes\n",
    "> 시퀀스(Sequence) : str, list, tuple, range, bytearray, bytes  \n",
    "> 콜랙션(Collection) : dict, set, frozenset"
   ]
  },
  {
   "cell_type": "markdown",
   "id": "a35df08c-3884-44d6-9551-2127a60f45ef",
   "metadata": {},
   "source": [
    "### LAB-1 첨자 참조(색인)"
   ]
  },
  {
   "cell_type": "code",
   "execution_count": 7,
   "id": "a2f03440-0250-4101-8a34-e6543eb813fd",
   "metadata": {},
   "outputs": [
    {
     "data": {
      "text/plain": [
       "'a'"
      ]
     },
     "execution_count": 7,
     "metadata": {},
     "output_type": "execute_result"
    }
   ],
   "source": [
    "p = 'abcdefgh'\n",
    "p[0]"
   ]
  },
  {
   "cell_type": "code",
   "execution_count": 9,
   "id": "22f44b4c-1b5e-4a82-b9a4-6027634bb9df",
   "metadata": {},
   "outputs": [
    {
     "data": {
      "text/plain": [
       "'h'"
      ]
     },
     "execution_count": 9,
     "metadata": {},
     "output_type": "execute_result"
    }
   ],
   "source": [
    "p = 'abcdefgh'\n",
    "p[7]"
   ]
  },
  {
   "cell_type": "code",
   "execution_count": 11,
   "id": "a575005c-db5e-4ddd-8b6a-b842b6fcaee3",
   "metadata": {},
   "outputs": [
    {
     "ename": "IndexError",
     "evalue": "string index out of range",
     "output_type": "error",
     "traceback": [
      "\u001b[0;31m---------------------------------------------------------------------------\u001b[0m",
      "\u001b[0;31mIndexError\u001b[0m                                Traceback (most recent call last)",
      "Cell \u001b[0;32mIn[11], line 3\u001b[0m\n\u001b[1;32m      1\u001b[0m \u001b[38;5;66;03m## 오류\u001b[39;00m\n\u001b[1;32m      2\u001b[0m p \u001b[38;5;241m=\u001b[39m \u001b[38;5;124m'\u001b[39m\u001b[38;5;124mabcdefgh\u001b[39m\u001b[38;5;124m'\u001b[39m\n\u001b[0;32m----> 3\u001b[0m p[\u001b[38;5;241m8\u001b[39m]\n",
      "\u001b[0;31mIndexError\u001b[0m: string index out of range"
     ]
    }
   ],
   "source": [
    "## 오류\n",
    "p = 'abcdefgh'\n",
    "p[8]"
   ]
  },
  {
   "cell_type": "code",
   "execution_count": 13,
   "id": "d2a1ad30-f687-4b1f-bc3b-8cbf0b27708f",
   "metadata": {},
   "outputs": [
    {
     "data": {
      "text/plain": [
       "'h'"
      ]
     },
     "execution_count": 13,
     "metadata": {},
     "output_type": "execute_result"
    }
   ],
   "source": [
    "p = 'abcdefgh'\n",
    "p[-1]"
   ]
  },
  {
   "cell_type": "code",
   "execution_count": 15,
   "id": "0259062c-fcb8-4783-8b19-6c9e0a2098ba",
   "metadata": {},
   "outputs": [
    {
     "data": {
      "text/plain": [
       "'a'"
      ]
     },
     "execution_count": 15,
     "metadata": {},
     "output_type": "execute_result"
    }
   ],
   "source": [
    "p = 'abcdefgh'\n",
    "p[-8]"
   ]
  },
  {
   "cell_type": "code",
   "execution_count": 19,
   "id": "38789ae3-af94-4a42-92a3-e8db97daecdd",
   "metadata": {},
   "outputs": [
    {
     "name": "stdout",
     "output_type": "stream",
     "text": [
      "a b c d e f g h "
     ]
    }
   ],
   "source": [
    "p = 'abcdefgh'\n",
    "\n",
    "for n in range(len(p)) :  # 0 ~ 7\n",
    "    print(p[n], end = ' ')"
   ]
  },
  {
   "cell_type": "markdown",
   "id": "280b422d-ecc1-418e-bc13-2a90c2e1b5a5",
   "metadata": {},
   "source": [
    "### (과제)\n",
    "- 'abcdefgh' 문자열을 거꾸로 출력하시오"
   ]
  },
  {
   "cell_type": "code",
   "execution_count": 28,
   "id": "9e6e883b-d28c-40ef-83e1-84074e728894",
   "metadata": {},
   "outputs": [
    {
     "name": "stdout",
     "output_type": "stream",
     "text": [
      "h g f e d c b a "
     ]
    }
   ],
   "source": [
    "p = 'abcdefgh'\n",
    "\n",
    "for n in range(-1, -len(p) - 1, -1) :  # range(start, stop , step)\n",
    "    print(p[n], end = ' ')"
   ]
  },
  {
   "cell_type": "code",
   "execution_count": 30,
   "id": "871e783b-837e-4d22-a5fc-a3a859f2a840",
   "metadata": {},
   "outputs": [
    {
     "data": {
      "text/plain": [
       "'hgfedcba'"
      ]
     },
     "execution_count": 30,
     "metadata": {},
     "output_type": "execute_result"
    }
   ],
   "source": [
    "p = 'abcdefgh'\n",
    "\n",
    "p[-1::-1]"
   ]
  },
  {
   "cell_type": "markdown",
   "id": "117145de-52ad-4b9e-a853-780caec02f3d",
   "metadata": {},
   "source": [
    "### LAB-2 슬라이싱 참조"
   ]
  },
  {
   "cell_type": "code",
   "execution_count": 33,
   "id": "f09c1259-9562-4b6c-a333-9ede0833b5fb",
   "metadata": {},
   "outputs": [
    {
     "data": {
      "text/plain": [
       "'ytho'"
      ]
     },
     "execution_count": 33,
     "metadata": {},
     "output_type": "execute_result"
    }
   ],
   "source": [
    "'python'[1:5]"
   ]
  },
  {
   "cell_type": "code",
   "execution_count": 35,
   "id": "4722ff6e-134b-4629-9271-134f312dd173",
   "metadata": {},
   "outputs": [
    {
     "data": {
      "text/plain": [
       "'python'"
      ]
     },
     "execution_count": 35,
     "metadata": {},
     "output_type": "execute_result"
    }
   ],
   "source": [
    "'python'[0:6]"
   ]
  },
  {
   "cell_type": "code",
   "execution_count": 37,
   "id": "2ba5920a-2101-4ca2-a306-975f295a1eee",
   "metadata": {},
   "outputs": [
    {
     "data": {
      "text/plain": [
       "'python'"
      ]
     },
     "execution_count": 37,
     "metadata": {},
     "output_type": "execute_result"
    }
   ],
   "source": [
    "'python'[0:len('python')]"
   ]
  },
  {
   "cell_type": "code",
   "execution_count": 39,
   "id": "ae185ea2-668a-4cd6-9632-bc05b5688d40",
   "metadata": {},
   "outputs": [
    {
     "data": {
      "text/plain": [
       "'ython'"
      ]
     },
     "execution_count": 39,
     "metadata": {},
     "output_type": "execute_result"
    }
   ],
   "source": [
    "'python'[1:]"
   ]
  },
  {
   "cell_type": "code",
   "execution_count": 41,
   "id": "9225d303-34cf-4021-9f80-97c8a400ea72",
   "metadata": {},
   "outputs": [
    {
     "data": {
      "text/plain": [
       "'pytho'"
      ]
     },
     "execution_count": 41,
     "metadata": {},
     "output_type": "execute_result"
    }
   ],
   "source": [
    "'python'[:5]"
   ]
  },
  {
   "cell_type": "code",
   "execution_count": 43,
   "id": "f28adfde-8991-4781-be33-04e470f9bbb1",
   "metadata": {},
   "outputs": [
    {
     "data": {
      "text/plain": [
       "'y'"
      ]
     },
     "execution_count": 43,
     "metadata": {},
     "output_type": "execute_result"
    }
   ],
   "source": [
    "'python'[1:2]"
   ]
  },
  {
   "cell_type": "code",
   "execution_count": 45,
   "id": "80a5a8bf-2fed-4ba6-9725-d8a00eb5f90c",
   "metadata": {},
   "outputs": [
    {
     "data": {
      "text/plain": [
       "'ytho'"
      ]
     },
     "execution_count": 45,
     "metadata": {},
     "output_type": "execute_result"
    }
   ],
   "source": [
    "'python'[-5:-1]"
   ]
  },
  {
   "cell_type": "code",
   "execution_count": 47,
   "id": "66065d8c-d179-4c37-aa42-e0b2ea8ddb5e",
   "metadata": {},
   "outputs": [
    {
     "data": {
      "text/plain": [
       "'pytho'"
      ]
     },
     "execution_count": 47,
     "metadata": {},
     "output_type": "execute_result"
    }
   ],
   "source": [
    "'python'[-len('python'):-1]"
   ]
  },
  {
   "cell_type": "code",
   "execution_count": 49,
   "id": "9cf63da4-3c1d-4f18-942f-363ca13eb5c3",
   "metadata": {},
   "outputs": [
    {
     "data": {
      "text/plain": [
       "'pytho'"
      ]
     },
     "execution_count": 49,
     "metadata": {},
     "output_type": "execute_result"
    }
   ],
   "source": [
    "'python'[:-1]"
   ]
  },
  {
   "cell_type": "code",
   "execution_count": 51,
   "id": "1c111f6f-89c1-4317-9a9c-3e27df8b6061",
   "metadata": {},
   "outputs": [
    {
     "data": {
      "text/plain": [
       "'ython'"
      ]
     },
     "execution_count": 51,
     "metadata": {},
     "output_type": "execute_result"
    }
   ],
   "source": [
    "'python'[-5:]"
   ]
  },
  {
   "cell_type": "code",
   "execution_count": 53,
   "id": "f14589b2-1982-43f4-889e-68a411b2124a",
   "metadata": {},
   "outputs": [
    {
     "data": {
      "text/plain": [
       "'python'"
      ]
     },
     "execution_count": 53,
     "metadata": {},
     "output_type": "execute_result"
    }
   ],
   "source": [
    "'python'[:]"
   ]
  },
  {
   "cell_type": "code",
   "execution_count": 55,
   "id": "38c6513c-2581-4b15-b20b-ef9bb8caa323",
   "metadata": {},
   "outputs": [
    {
     "data": {
      "text/plain": [
       "'pto'"
      ]
     },
     "execution_count": 55,
     "metadata": {},
     "output_type": "execute_result"
    }
   ],
   "source": [
    "'python'[::2]"
   ]
  },
  {
   "cell_type": "code",
   "execution_count": 57,
   "id": "67ff16e1-367a-45fe-ad57-2cbbb572dde1",
   "metadata": {},
   "outputs": [
    {
     "data": {
      "text/plain": [
       "'yhn'"
      ]
     },
     "execution_count": 57,
     "metadata": {},
     "output_type": "execute_result"
    }
   ],
   "source": [
    "'python'[1::2]"
   ]
  },
  {
   "cell_type": "code",
   "execution_count": 59,
   "id": "cd12074c-067c-4b9d-9bf0-d886a607c637",
   "metadata": {},
   "outputs": [
    {
     "data": {
      "text/plain": [
       "'nohty'"
      ]
     },
     "execution_count": 59,
     "metadata": {},
     "output_type": "execute_result"
    }
   ],
   "source": [
    "'python'[5:0:-1]"
   ]
  },
  {
   "cell_type": "code",
   "execution_count": 61,
   "id": "6b39cdea-37d6-4963-a22c-efe80a421408",
   "metadata": {},
   "outputs": [
    {
     "data": {
      "text/plain": [
       "'nohtyp'"
      ]
     },
     "execution_count": 61,
     "metadata": {},
     "output_type": "execute_result"
    }
   ],
   "source": [
    "'python'[-1::-1]"
   ]
  },
  {
   "cell_type": "code",
   "execution_count": 63,
   "id": "a04db796-bb07-4ad2-9380-b8337f004b9b",
   "metadata": {},
   "outputs": [
    {
     "data": {
      "text/plain": [
       "'nohtyp'"
      ]
     },
     "execution_count": 63,
     "metadata": {},
     "output_type": "execute_result"
    }
   ],
   "source": [
    "'python'[::-1]"
   ]
  },
  {
   "cell_type": "markdown",
   "id": "c1acdf9b-0563-46e3-b07a-c698c32394d7",
   "metadata": {},
   "source": [
    "### LAB-3 리스트의 슬라이스로 일부분 수정\n",
    "- 리스트 수정 (튜플은 수정 불가)\n",
    "- 슬라이스 부분을 수정할 떄는 리스트로 수정해야함 (특정 항목을 수정할 떄는 값을 주면 됨)\n",
    "> list[start:end] = [item_0, item_1, ... , item_n]  \n",
    "> list[index] = value  "
   ]
  },
  {
   "cell_type": "code",
   "execution_count": 71,
   "id": "0fd5bb07-40e3-4bf2-830c-cbb503eda291",
   "metadata": {},
   "outputs": [
    {
     "name": "stdout",
     "output_type": "stream",
     "text": [
      "['축구', '야구', '농구', '배구']\n"
     ]
    }
   ],
   "source": [
    "sports = ['축구', '족구', '비치사카', '야구', '농구', '배구']\n",
    "sports[0:3] = ['축구']\n",
    "print(sports)"
   ]
  },
  {
   "cell_type": "code",
   "execution_count": 73,
   "id": "420cb753-02ef-4fd8-8772-dcd144e09cdc",
   "metadata": {},
   "outputs": [
    {
     "name": "stdout",
     "output_type": "stream",
     "text": [
      "[1, 30, 40, 4, 5, 6]\n"
     ]
    }
   ],
   "source": [
    "t = [1, 2, 3, 4, 5, 6]\n",
    "t[1:3] = [30, 40]\n",
    "print(t)"
   ]
  },
  {
   "cell_type": "code",
   "execution_count": 75,
   "id": "57d343bb-ad85-4655-bc38-6bcd2c65e85b",
   "metadata": {},
   "outputs": [
    {
     "name": "stdout",
     "output_type": "stream",
     "text": [
      "[1, 2, 3, [40], 5, 6]\n"
     ]
    }
   ],
   "source": [
    "t = [1, 2, 3, 4, 5, 6]\n",
    "t[3] = [40]\n",
    "print(t)"
   ]
  },
  {
   "cell_type": "code",
   "execution_count": 77,
   "id": "71efe620-92b2-4af4-be55-b7e37102c03e",
   "metadata": {},
   "outputs": [
    {
     "name": "stdout",
     "output_type": "stream",
     "text": [
      "['탁구', '비치사카', '야구', '농구', '배구']\n"
     ]
    }
   ],
   "source": [
    "sports = ['축구', '족구', '비치사카', '야구', '농구', '배구']\n",
    "sports[0:2] = ['탁구']\n",
    "print(sports)"
   ]
  },
  {
   "cell_type": "markdown",
   "id": "41f5eccb-8610-4a55-bb78-b3bf3433da00",
   "metadata": {},
   "source": [
    "### LAB-4 시퀀스 연산자 +와 *\n",
    "- 수식 연산자 +, *를 시퀀스에도 사용\n",
    "> 'java' + 'python' : 'javapython'   \n",
    "> 3*'java' : 'javajavajava'  \n",
    "> 'java' in ('c++', 'c#', 'java', 'python') : True  "
   ]
  },
  {
   "cell_type": "code",
   "execution_count": 80,
   "id": "1972d830-9721-4590-8a63-71219f0f012c",
   "metadata": {},
   "outputs": [
    {
     "data": {
      "text/plain": [
       "['red', 'orange', 'yellow', 'green']"
      ]
     },
     "execution_count": 80,
     "metadata": {},
     "output_type": "execute_result"
    }
   ],
   "source": [
    "colors = ['red', 'orange']\n",
    "others = ['yellow', 'green']\n",
    "colors + others"
   ]
  },
  {
   "cell_type": "code",
   "execution_count": 82,
   "id": "f1336b0e-d4f5-41af-b555-12f4b729256a",
   "metadata": {},
   "outputs": [
    {
     "data": {
      "text/plain": [
       "'dongyang mirae/university'"
      ]
     },
     "execution_count": 82,
     "metadata": {},
     "output_type": "execute_result"
    }
   ],
   "source": [
    "name = 'dongyang mirae'\n",
    "title = 'university'\n",
    "name + '/' + title"
   ]
  },
  {
   "cell_type": "code",
   "execution_count": 84,
   "id": "02e76b2a-72c7-4363-8a6f-c327e1a0abf8",
   "metadata": {},
   "outputs": [
    {
     "data": {
      "text/plain": [
       "'pypypy'"
      ]
     },
     "execution_count": 84,
     "metadata": {},
     "output_type": "execute_result"
    }
   ],
   "source": [
    "'py' * 3"
   ]
  },
  {
   "cell_type": "code",
   "execution_count": 86,
   "id": "c730956e-ff92-4e97-b790-18c644d0215c",
   "metadata": {},
   "outputs": [
    {
     "name": "stdout",
     "output_type": "stream",
     "text": [
      "('봄', '여름', '봄', '여름')\n"
     ]
    }
   ],
   "source": [
    "season = ('봄', '여름') * 2\n",
    "print(season)"
   ]
  },
  {
   "cell_type": "code",
   "execution_count": 92,
   "id": "b9c0bc33-df5f-4190-abeb-a8e66f99baca",
   "metadata": {},
   "outputs": [
    {
     "name": "stdout",
     "output_type": "stream",
     "text": [
      "[0, 0, 0, 0, 0, 0, 0, 0, 0, 0]\n"
     ]
    }
   ],
   "source": [
    "maze = [0] * 10\n",
    "print(maze)"
   ]
  },
  {
   "cell_type": "code",
   "execution_count": 94,
   "id": "731b9e85-0db6-4629-bb35-d185accca904",
   "metadata": {},
   "outputs": [
    {
     "data": {
      "text/plain": [
       "True"
      ]
     },
     "execution_count": 94,
     "metadata": {},
     "output_type": "execute_result"
    }
   ],
   "source": [
    "'java' in ('c++', 'c#', 'java', 'python')"
   ]
  },
  {
   "cell_type": "code",
   "execution_count": 96,
   "id": "c0738ffa-9066-4318-b82f-8eb3b071a909",
   "metadata": {},
   "outputs": [
    {
     "data": {
      "text/plain": [
       "True"
      ]
     },
     "execution_count": 96,
     "metadata": {},
     "output_type": "execute_result"
    }
   ],
   "source": [
    "'java' in 'C++, C#, java는 프로그래밍 언어'"
   ]
  },
  {
   "cell_type": "code",
   "execution_count": 98,
   "id": "cca5a9cf-9a47-4ebe-a658-dd509bbd49a7",
   "metadata": {},
   "outputs": [
    {
     "data": {
      "text/plain": [
       "False"
      ]
     },
     "execution_count": 98,
     "metadata": {},
     "output_type": "execute_result"
    }
   ],
   "source": [
    "'java' not in 'C++, C#, java는 프로그래밍 언어'"
   ]
  },
  {
   "cell_type": "markdown",
   "id": "1b4914a4-9808-4d91-9939-a2d081dd56d0",
   "metadata": {},
   "source": [
    "### LAB-5 (수행과제)\n",
    "1. 문제 : 웹 서버의 로그 파일에서 각 요청의 클라이언트 IP 주소를 추출\n",
    "2. 로그 데이터 형식\n",
    "- 192.168.0.1 - - [21/Jan/2025:10:00:00 +0000] \"GET /index.html HTTP/1.1\" 200 1024\n",
    "- 203.0.113.45 - - [21/Jan/2025:10:01:00 +0000] \"POST /login HTTP/1.1\" 200 2048\n",
    "3. 결과\n",
    "- IPs: ['192.168.0.1', '203.0.113.45']\n",
    "> str.strip(), str.split(\"\\n\"), list = []"
   ]
  },
  {
   "cell_type": "code",
   "execution_count": 277,
   "id": "011d96e8-dc98-4145-9212-c33c46b0cb13",
   "metadata": {},
   "outputs": [
    {
     "name": "stdout",
     "output_type": "stream",
     "text": [
      "IPs : ['192.168.0.1', '203.0.113.45', '198.51.100.23']\n"
     ]
    }
   ],
   "source": [
    "# 로그 데이터\n",
    "log_data = \"\"\"\n",
    "192.168.0.1 - - [21/Jan/2025:10:00:00 +0000] \"GET /index.html HTTP/1.1\" 200 1024\n",
    "203.0.113.45 - - [21/Jan/2025:10:01:00 +0000] \"POST /login HTTP/1.1\" 200 2048\n",
    "198.51.100.23 - - [21/Jan/2025:10:02:00 +0000] \"GET /dashboard HTTP/1.1\" 403 512\n",
    "\"\"\"\n",
    "\n",
    "# 로그 데이터를 한 줄씩 나누기\n",
    "log_data = log_data.strip().split('\\n')  \n",
    "\n",
    "# 각 줄에서 IP 주소 추출 (첫 번째 컬럼이 IP 주소)\n",
    "IP = []\n",
    "for words in log_data :\n",
    "    words = words.split()  # split() 메소드는 String을 리스트 반환함\n",
    "    IP.append(words[0])\n",
    "\n",
    "# 결과 출력\n",
    "print('IPs :', IP)"
   ]
  },
  {
   "cell_type": "code",
   "execution_count": 279,
   "id": "9e970b62-0209-4876-a484-255273b4d540",
   "metadata": {},
   "outputs": [
    {
     "name": "stdout",
     "output_type": "stream",
     "text": [
      "IPs : ['192.168.0.1', '203.0.113.45', '198.51.100.23']\n",
      "IPs : 192.168.0.1, 203.0.113.45, 198.51.100.23\n"
     ]
    }
   ],
   "source": [
    "### 교수님 코드\n",
    "\n",
    "# 로그 데이터\n",
    "log_data = \"\"\"\n",
    "192.168.0.1 - - [21/Jan/2025:10:00:00 +0000] \"GET /index.html HTTP/1.1\" 200 1024\n",
    "203.0.113.45 - - [21/Jan/2025:10:01:00 +0000] \"POST /login HTTP/1.1\" 200 2048\n",
    "198.51.100.23 - - [21/Jan/2025:10:02:00 +0000] \"GET /dashboard HTTP/1.1\" 403 512\n",
    "\"\"\"\n",
    "\n",
    "# 로그 데이터를 한 줄씩 나누기\n",
    "lines = log_data.strip().split('\\n')  \n",
    "\n",
    "# 각 줄에서 IP 주소 추출 (첫 번째 컬럼이 IP 주소)\n",
    "ips = []\n",
    "for line in lines :\n",
    "    words = line.split()\n",
    "    ips.append(words[0])\n",
    "\n",
    "print('IPs : ' + str(ips))\n",
    "print('IPs : ' + ', '.join(ips))"
   ]
  },
  {
   "cell_type": "markdown",
   "id": "15cfeb90-5955-4fdb-9176-11acbdadc314",
   "metadata": {},
   "source": [
    "### LAB-6 (수행과제)\n",
    "1. 문제 : HTML 파일에서 'title' 태그에 있는 내용 추출\n",
    "2. 결과\n",
    "- Title: title is hear\n",
    "> str.find(), str.strip, len(str), list[start:end]"
   ]
  },
  {
   "cell_type": "code",
   "execution_count": 281,
   "id": "3be88c71-1450-48d2-83a4-a0639d5ee793",
   "metadata": {},
   "outputs": [
    {
     "name": "stdout",
     "output_type": "stream",
     "text": [
      "Title : Welcome to My Website\n"
     ]
    }
   ],
   "source": [
    "# 샘플 HTML 데이터\n",
    "html_data = \"\"\"\n",
    "<html>\n",
    "<head>\n",
    "<title>Welcome to My Website</title>\n",
    "</head>\n",
    "<body>\n",
    "<h1>Hello, World!</h1>\n",
    "</body>\n",
    "</html>\n",
    "\"\"\"\n",
    "\n",
    "# <title> 태그의 시작과 끝 인덱스 찾기\n",
    "start_index = html_data.find(\"<title>\") + len(\"<title>\")\n",
    "end_index = html_data.find(\"</title>\")\n",
    "\n",
    "# 슬라이싱으로 <title> 내용 추출\n",
    "title = html_data[start_index:end_index]\n",
    "\n",
    "# 결과 출력\n",
    "print('Title :', title)"
   ]
  },
  {
   "cell_type": "code",
   "execution_count": 289,
   "id": "ee8f42cb-5c79-44d2-84f1-7a421798b3f6",
   "metadata": {},
   "outputs": [
    {
     "name": "stdout",
     "output_type": "stream",
     "text": [
      "Title : Welcome to My Website\n"
     ]
    }
   ],
   "source": [
    "### 교수님 코드\n",
    "\n",
    "# 샘플 HTML 데이터\n",
    "html_data = \"\"\"\n",
    "<html>\n",
    "<head>\n",
    "<title>Welcome to My Website</title>\n",
    "</head>\n",
    "<body>\n",
    "<h1>Hello, World!</h1>\n",
    "</body>\n",
    "</html>\n",
    "\"\"\"\n",
    "\n",
    "# <title> 태그의 시작과 끝 인덱스 찾기\n",
    "start_index = html_data.find(\"<title>\") + len(\"<title>\")\n",
    "end_index = html_data.find(\"</title>\")\n",
    "\n",
    "print('Title : ' + html_data[start_index : end_index])"
   ]
  },
  {
   "cell_type": "markdown",
   "id": "0f1cd05b-fbd4-463f-9329-e0c1b6031d14",
   "metadata": {},
   "source": [
    "### LAB-7 (수행과제)\n",
    "1. 문제 : 특정 규칙에 따라 암호화된 문자열에서 슬라이싱을 활용하여 원래의 메시지를 복원\n",
    "2. 암호화 규칙\n",
    "- 암호화된 문자열은 원래 메시지의 문자들이 역순으로 저장되어 있음\n",
    "- 각 문자는 두 번씩 반복\n",
    "3. 입출력 예\n",
    "- (입력) encrypted_message = \"oolllleeHH!! ddllrrooww\"\n",
    "- (출력) Decrypted Message: Hello World!\n",
    "> str[::-1], str[::2]"
   ]
  },
  {
   "cell_type": "code",
   "execution_count": 311,
   "id": "99f6db88-1f3d-46c6-a540-319102186fc4",
   "metadata": {},
   "outputs": [
    {
     "name": "stdout",
     "output_type": "stream",
     "text": [
      "Decrypted Message: !Hello world\n"
     ]
    }
   ],
   "source": [
    "# 암호화된 메시지\n",
    "encrypted_message = \"oolllleeHH!! ddllrrooww\"\n",
    "\n",
    "# 1. 문자열을 역순으로 뒤집기\n",
    "reversed_message = encrypted_message[::-1]\n",
    "\n",
    "# 2. 두 번씩 반복된 문자 제거 (짝수 인덱스만 선택)\n",
    "remove_repeat = reversed_message[::2].split()[::-1]\n",
    "decrypted_message = ' '.join(remove_repeat)\n",
    "\n",
    "# 결과 출력\n",
    "print(\"Decrypted Message:\", decrypted_message)"
   ]
  },
  {
   "cell_type": "code",
   "execution_count": 295,
   "id": "a723b608-039f-4743-9275-a261e901ae76",
   "metadata": {},
   "outputs": [
    {
     "name": "stdout",
     "output_type": "stream",
     "text": [
      "Decrypted Message: !Hello world\n"
     ]
    }
   ],
   "source": [
    "### 교수님 코드\n",
    "\n",
    "# 암호화된 메시지\n",
    "encrypted_message = \"oolllleeHH!! ddllrrooww\"\n",
    "\n",
    "# 1. 문자열을 역순으로 뒤집기\n",
    "words = encrypted_message.split()\n",
    "decrypted_message = []\n",
    "\n",
    "for word in words :\n",
    "    r_word = word[::-1][::2]\n",
    "    decrypted_message.append(r_word)\n",
    "\n",
    "print(\"Decrypted Message:\", ' '.join(decrypted_message))"
   ]
  },
  {
   "cell_type": "code",
   "execution_count": null,
   "id": "0aac6cec-2b42-40c3-9953-2db01977af46",
   "metadata": {},
   "outputs": [],
   "source": []
  }
 ],
 "metadata": {
  "kernelspec": {
   "display_name": "Python [conda env:base] *",
   "language": "python",
   "name": "conda-base-py"
  },
  "language_info": {
   "codemirror_mode": {
    "name": "ipython",
    "version": 3
   },
   "file_extension": ".py",
   "mimetype": "text/x-python",
   "name": "python",
   "nbconvert_exporter": "python",
   "pygments_lexer": "ipython3",
   "version": "3.12.7"
  }
 },
 "nbformat": 4,
 "nbformat_minor": 5
}
