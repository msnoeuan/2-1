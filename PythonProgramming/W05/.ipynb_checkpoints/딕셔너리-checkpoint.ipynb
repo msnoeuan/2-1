{
 "cells": [
  {
   "cell_type": "markdown",
   "id": "68b48856-350b-48fd-a5f6-1414e44245f0",
   "metadata": {},
   "source": [
    "## Lecture 1 : 키와 값의 쌍인 딕셔너리\n",
    "### 1. 딕셔너리의 이해\n",
    "- 사전과 같이 키(key)와 값(value)의 쌍인 항목의 모임(collection)\n",
    "- 키는 수정될 수 없고, 값은 수정 가능\n",
    "- 항목의 순서는 의미 없고, 키는 중복 불가\n",
    "> { key-1: value-1, key-2: value-2, ..., key-n: value-n }\n",
    "- 키(key)는 수정 불가능한(immutable) 객체만 가능\n",
    "> dict.keys()\n",
    "- 값(value)은 모든 자료형 가능\n",
    "> dict.values()"
   ]
  },
  {
   "cell_type": "markdown",
   "id": "9f4f972d-c9b7-4ce7-a258-c23c2e42bec9",
   "metadata": {},
   "source": [
    "### LAB-1 딕셔너리 생성과 참조"
   ]
  },
  {
   "cell_type": "code",
   "execution_count": 7,
   "id": "cd759e22-ac8e-478b-b775-6adc09687428",
   "metadata": {},
   "outputs": [
    {
     "name": "stdout",
     "output_type": "stream",
     "text": [
      "{}\n"
     ]
    }
   ],
   "source": [
    "my_car = {}\n",
    "print(my_car)"
   ]
  },
  {
   "cell_type": "code",
   "execution_count": 9,
   "id": "51530b6a-d953-42a9-a05a-fbe349aba986",
   "metadata": {},
   "outputs": [
    {
     "name": "stdout",
     "output_type": "stream",
     "text": [
      "{'brand': '현대', 'model': '제네시스'}\n"
     ]
    }
   ],
   "source": [
    "my_car = {'brand' : '현대', 'model' : '제네시스'}\n",
    "print(my_car)"
   ]
  },
  {
   "cell_type": "code",
   "execution_count": 13,
   "id": "5400730e-9920-4da3-bc0e-28003d3cd019",
   "metadata": {},
   "outputs": [
    {
     "name": "stdout",
     "output_type": "stream",
     "text": [
      "{'강좌명': '파이썬'}\n",
      "{'강좌명': '파이썬', '학점시수': (3, 3)}\n"
     ]
    }
   ],
   "source": [
    "lecture = {}\n",
    "lecture['강좌명'] = '파이썬'\n",
    "print(lecture)\n",
    "lecture['학점시수'] = (3, 3)\n",
    "print(lecture)"
   ]
  },
  {
   "cell_type": "code",
   "execution_count": 15,
   "id": "23a7455f-dc6d-4213-b813-cc5af6a8c545",
   "metadata": {},
   "outputs": [
    {
     "name": "stdout",
     "output_type": "stream",
     "text": [
      "{'brand': '현대', 'model': '제네시스'}\n",
      "{'brand': '현대', 'model': '제네시스', 'year': 2025}\n",
      "{'brand': '현대', 'model': '그랜저', 'year': 2025}\n"
     ]
    }
   ],
   "source": [
    "my_car = {'brand' : '현대', 'model' : '제네시스'}\n",
    "print(my_car)\n",
    "my_car['year'] = 2025\n",
    "print(my_car)\n",
    "my_car['model'] = '그랜저'\n",
    "print(my_car)"
   ]
  },
  {
   "cell_type": "code",
   "execution_count": 17,
   "id": "3fd446ad-f4b7-4c9a-a1e4-5bb2c29fe1a6",
   "metadata": {},
   "outputs": [
    {
     "name": "stdout",
     "output_type": "stream",
     "text": [
      "{(1, 2): ('JAN', 'FEB')}\n"
     ]
    }
   ],
   "source": [
    "data = {}\n",
    "data[(1, 2)] = ('JAN', 'FEB')\n",
    "print(data)"
   ]
  },
  {
   "cell_type": "code",
   "execution_count": 19,
   "id": "93a3f97f-5d64-46f7-bfc3-94aa7a6e488a",
   "metadata": {},
   "outputs": [
    {
     "ename": "TypeError",
     "evalue": "unhashable type: 'list'",
     "output_type": "error",
     "traceback": [
      "\u001b[0;31m---------------------------------------------------------------------------\u001b[0m",
      "\u001b[0;31mTypeError\u001b[0m                                 Traceback (most recent call last)",
      "Cell \u001b[0;32mIn[19], line 2\u001b[0m\n\u001b[1;32m      1\u001b[0m data \u001b[38;5;241m=\u001b[39m {}\n\u001b[0;32m----> 2\u001b[0m data[[\u001b[38;5;241m1\u001b[39m, \u001b[38;5;241m2\u001b[39m]] \u001b[38;5;241m=\u001b[39m (\u001b[38;5;124m'\u001b[39m\u001b[38;5;124mJAN\u001b[39m\u001b[38;5;124m'\u001b[39m, \u001b[38;5;124m'\u001b[39m\u001b[38;5;124mFEB\u001b[39m\u001b[38;5;124m'\u001b[39m)\n\u001b[1;32m      3\u001b[0m \u001b[38;5;28mprint\u001b[39m(data)\n",
      "\u001b[0;31mTypeError\u001b[0m: unhashable type: 'list'"
     ]
    }
   ],
   "source": [
    "data = {}\n",
    "data[[1, 2]] = ('JAN', 'FEB')\n",
    "print(data)"
   ]
  },
  {
   "cell_type": "code",
   "execution_count": 36,
   "id": "5d216ec8-2054-46d5-8fdc-d1bf59ab92e1",
   "metadata": {},
   "outputs": [
    {
     "name": "stdout",
     "output_type": "stream",
     "text": [
      "{'brand': '현대', 'model': '제네시스'}\n"
     ]
    }
   ],
   "source": [
    "my_car = {'brand' : '현대', 'model' : '제네시스'}\n",
    "print(my_car)"
   ]
  },
  {
   "cell_type": "code",
   "execution_count": 23,
   "id": "6f01eb2f-fa2d-489e-b8f9-fce8eed7cd68",
   "metadata": {},
   "outputs": [
    {
     "name": "stdout",
     "output_type": "stream",
     "text": [
      "{'brand': '현대', 'model': '제네시스'}\n"
     ]
    }
   ],
   "source": [
    "my_car = dict((['brand', '현대'], ['model', '제네시스']))\n",
    "print(my_car)"
   ]
  },
  {
   "cell_type": "markdown",
   "id": "7543a428-df53-4db4-86cb-28935a678800",
   "metadata": {},
   "source": [
    "### LAB-2 딕셔너리 아이템(키, 값) 참조 메소드"
   ]
  },
  {
   "cell_type": "code",
   "execution_count": 38,
   "id": "8a23d6ef-0f48-4928-a871-9fdf1a7e3522",
   "metadata": {},
   "outputs": [
    {
     "name": "stdout",
     "output_type": "stream",
     "text": [
      "{'경기': '수원', '전북': '전주'}\n",
      "경기 전북 "
     ]
    }
   ],
   "source": [
    "city = dict(경기 = '수원', 전북 = '전주')\n",
    "print(city)\n",
    "\n",
    "for key in city.keys() :\n",
    "    print(key, end = ' ')"
   ]
  },
  {
   "cell_type": "code",
   "execution_count": 42,
   "id": "e625153a-be18-4a8a-ae5b-f547d11e08f4",
   "metadata": {},
   "outputs": [
    {
     "name": "stdout",
     "output_type": "stream",
     "text": [
      "경기 전북 "
     ]
    }
   ],
   "source": [
    "city = dict(경기 = '수원', 전북 = '전주')\n",
    "\n",
    "for key in city :\n",
    "    print(key, end = ' ')"
   ]
  },
  {
   "cell_type": "code",
   "execution_count": 46,
   "id": "e1d7f312-3f8c-4068-8da7-d3cc60038c34",
   "metadata": {},
   "outputs": [
    {
     "name": "stdout",
     "output_type": "stream",
     "text": [
      "수원 전주 "
     ]
    }
   ],
   "source": [
    "city = dict(경기 = '수원', 전북 = '전주')\n",
    "\n",
    "for value in city.values() :\n",
    "    print(value, end = ' ')"
   ]
  },
  {
   "cell_type": "code",
   "execution_count": 48,
   "id": "0185498f-98b5-4e7b-aee3-f8ed63e88f60",
   "metadata": {},
   "outputs": [
    {
     "name": "stdout",
     "output_type": "stream",
     "text": [
      "('경기', '수원') ('전북', '전주') "
     ]
    }
   ],
   "source": [
    "city = dict(경기 = '수원', 전북 = '전주')\n",
    "\n",
    "for item in city.items() :\n",
    "    print(item, end = ' ')"
   ]
  },
  {
   "cell_type": "markdown",
   "id": "a394e6e4-5b6a-4fa4-9c67-5e83c0e3f707",
   "metadata": {},
   "source": [
    "### LAB-3 딕셔너리 아이템(키, 값) 삭제 메서드"
   ]
  },
  {
   "cell_type": "code",
   "execution_count": 51,
   "id": "98836e40-ab8f-41f0-9d79-65909bfd7e39",
   "metadata": {},
   "outputs": [
    {
     "name": "stdout",
     "output_type": "stream",
     "text": [
      "{'대한민국': ['서울', '부산'], '캐나다': ['몬트리올', '오타와']}\n",
      "['몬트리올', '오타와']\n",
      "{'대한민국': ['서울', '부산']}\n"
     ]
    }
   ],
   "source": [
    "cities = {'대한민국' : ['서울', '부산'], '캐나다' : ['몬트리올', '오타와']}\n",
    "print(cities)\n",
    "print(cities.pop('캐나다'))\n",
    "print(cities)"
   ]
  },
  {
   "cell_type": "code",
   "execution_count": 57,
   "id": "417f769e-9ac3-4b30-b831-2bb49eac9cb1",
   "metadata": {},
   "outputs": [
    {
     "name": "stdout",
     "output_type": "stream",
     "text": [
      "{'대한민국': ['서울', '부산'], '캐나다': ['몬트리올', '오타와']}\n",
      "('캐나다', ['몬트리올', '오타와'])\n",
      "{'대한민국': ['서울', '부산']}\n"
     ]
    }
   ],
   "source": [
    "cities = {'대한민국' : ['서울', '부산'], '캐나다' : ['몬트리올', '오타와']}\n",
    "print(cities)\n",
    "print(cities.popitem())  # 마지막 항목 삭제\n",
    "print(cities)"
   ]
  },
  {
   "cell_type": "code",
   "execution_count": 61,
   "id": "bc12f956-9584-4d53-9e46-51d33dddb0ab",
   "metadata": {},
   "outputs": [
    {
     "name": "stdout",
     "output_type": "stream",
     "text": [
      "{'대한민국': ['서울', '부산'], '캐나다': ['몬트리올', '오타와']}\n",
      "{}\n"
     ]
    }
   ],
   "source": [
    "cities = {'대한민국' : ['서울', '부산'], '캐나다' : ['몬트리올', '오타와']}\n",
    "print(cities)\n",
    "cities.clear()  # 모든 항목 삭제\n",
    "print(cities)"
   ]
  },
  {
   "cell_type": "markdown",
   "id": "bda94b44-3e0c-474a-b1ba-f15af2895656",
   "metadata": {},
   "source": [
    "### LAB-4 딕셔너리의 내장 함수 활용 등"
   ]
  },
  {
   "cell_type": "code",
   "execution_count": 66,
   "id": "09f47318-184e-4b2f-a718-f9cdb3cc78f5",
   "metadata": {},
   "outputs": [
    {
     "name": "stdout",
     "output_type": "stream",
     "text": [
      "3\n"
     ]
    }
   ],
   "source": [
    "stock = {'GOOGLE' : 849, 'AAPL' : 136, 'AMZN' : 848}\n",
    "print(len(stock))"
   ]
  },
  {
   "cell_type": "code",
   "execution_count": 68,
   "id": "d8fd6faf-08dc-42fc-9382-862185912f34",
   "metadata": {},
   "outputs": [
    {
     "name": "stdout",
     "output_type": "stream",
     "text": [
      "91 영어\n"
     ]
    }
   ],
   "source": [
    "score = {'국어' : 84, '영어' : 76, '수학' : 91}\n",
    "print(max(score.values()), max(score.keys()))"
   ]
  },
  {
   "cell_type": "code",
   "execution_count": 70,
   "id": "6291372c-0239-42fa-b99b-839e4b4062d0",
   "metadata": {},
   "outputs": [
    {
     "data": {
      "text/plain": [
       "True"
      ]
     },
     "execution_count": 70,
     "metadata": {},
     "output_type": "execute_result"
    }
   ],
   "source": [
    "score = {'국어' : 84, '영어' : 76, '수학' : 91}\n",
    "'영어' in score"
   ]
  },
  {
   "cell_type": "code",
   "execution_count": 72,
   "id": "2c6a5c54-6a9b-4ed2-8d73-9e1689db7088",
   "metadata": {},
   "outputs": [
    {
     "data": {
      "text/plain": [
       "True"
      ]
     },
     "execution_count": 72,
     "metadata": {},
     "output_type": "execute_result"
    }
   ],
   "source": [
    "score = {'국어' : 84, '영어' : 76, '수학' : 91}\n",
    "'사회' not in score"
   ]
  },
  {
   "cell_type": "markdown",
   "id": "d9989bff-7df8-4843-95cb-b2057b1810ea",
   "metadata": {},
   "source": [
    "### LAB-5 수행 과제\n",
    "1. 문제 : 로그 데이터 분석\n",
    "- 회사는 특정 기간 동안의 웹 요청 로그를 처리해야 합니다. 로그는 사용자 ID, 요청 URL, 요청 상태 코드, 요청 시간을 포함합니다. 아래 조건에 따라 로그 데이터를 분석하세요.\n",
    "2. 요구사항:\n",
    "- 로그 데이터는 딕셔너리로 제공됩니다. 각 항목은 사용자 ID를 키로, 값은 해당 사용자의 요청 기록 목록입니다.\n",
    "- 각 요청 기록은 URL, 상태 코드, 요청 시간을 포함한 튜플 형식입니다.\n",
    "3. 목표:\n",
    "- 사용자별 총 요청 수를 계산합니다.\n",
    "- 500번대 상태 코드(서버 오류)가 발생한 사용자와 해당 요청 수를 출력합니다.\n",
    "- 특정 URL(/admin)에 접근한 사용자와 그 요청 수를 출력합니다."
   ]
  },
  {
   "cell_type": "code",
   "execution_count": 95,
   "id": "5e0fc3fc-6ca0-4d5a-9482-754d1294560f",
   "metadata": {},
   "outputs": [
    {
     "name": "stdout",
     "output_type": "stream",
     "text": [
      "1. 사용자별 총 요청 수: {'user1': 3, 'user2': 3, 'user3': 2}\n",
      "2. 500번대 오류 발생 사용자와 횟수: {'user1': 1, 'user2': 1}\n",
      "3. '/admin' URL 접근 사용자와 횟수: {'user1': 1, 'user2': 1}\n"
     ]
    }
   ],
   "source": [
    "# 사용자별 로그 데이터\n",
    "logs = {\n",
    "    \"user1\": [(\"/home\", 200, \"2025-01-20T10:00:00\"),\n",
    "              (\"/admin\", 500, \"2025-01-20T10:10:00\"),\n",
    "              (\"/dashboard\", 200, \"2025-01-20T10:20:00\")],\n",
    "    \"user2\": [(\"/home\", 200, \"2025-01-20T11:00:00\"),\n",
    "              (\"/admin\", 403, \"2025-01-20T11:15:00\"),\n",
    "              (\"/settings\", 500, \"2025-01-20T11:30:00\")],\n",
    "    \"user3\": [(\"/home\", 200, \"2025-01-20T12:00:00\"),\n",
    "              (\"/dashboard\", 200, \"2025-01-20T12:20:00\")]\n",
    "}\n",
    "\n",
    "# 1. 사용자별 총 요청 수 계산\n",
    "total_requests = {}\n",
    "for user, requests in logs.items() :\n",
    "    total_requests[user] = len(requests)\n",
    "\n",
    "# 2. 500번대 상태 코드 발생 사용자와 횟수 계산\n",
    "error_requests = {}\n",
    "for user, requests in logs.items():\n",
    "    error_count = 0\n",
    "    for url, status, time in requests:\n",
    "        if 500 <= status < 600:\n",
    "            error_count += 1\n",
    "            \n",
    "    # 500번대 오류가 있는 사용자만 딕셔너리에 추가\n",
    "    if error_count > 0:\n",
    "        error_requests[user] = error_count\n",
    "        \n",
    "# 3. 특정 URL('/admin')에 접근한 사용자와 횟수\n",
    "admin_access = {}\n",
    "\n",
    "for user, requests in logs.items():\n",
    "    count = 0\n",
    "    for url, status, time in requests :\n",
    "        if url == '/admin' :\n",
    "            count += 1\n",
    "    if count > 0 :\n",
    "        admin_access[user] = count\n",
    "\n",
    "    \n",
    "# 결과 출력\n",
    "print(\"1. 사용자별 총 요청 수:\", total_requests)\n",
    "print(\"2. 500번대 오류 발생 사용자와 횟수:\", error_requests)\n",
    "print(\"3. '/admin' URL 접근 사용자와 횟수:\", admin_access)"
   ]
  },
  {
   "cell_type": "code",
   "execution_count": null,
   "id": "9786c41a-3633-44c9-8cbd-f5a1b5057b1a",
   "metadata": {},
   "outputs": [],
   "source": []
  }
 ],
 "metadata": {
  "kernelspec": {
   "display_name": "Python [conda env:base] *",
   "language": "python",
   "name": "conda-base-py"
  },
  "language_info": {
   "codemirror_mode": {
    "name": "ipython",
    "version": 3
   },
   "file_extension": ".py",
   "mimetype": "text/x-python",
   "name": "python",
   "nbconvert_exporter": "python",
   "pygments_lexer": "ipython3",
   "version": "3.12.7"
  }
 },
 "nbformat": 4,
 "nbformat_minor": 5
}
