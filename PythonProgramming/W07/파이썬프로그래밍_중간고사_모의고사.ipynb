{
 "cells": [
  {
   "cell_type": "code",
   "execution_count": 28,
   "id": "f8d3597f-85fa-4a79-8ce3-d145604a80ea",
   "metadata": {},
   "outputs": [
    {
     "ename": "TypeError",
     "evalue": "'tuple' object does not support item assignment",
     "output_type": "error",
     "traceback": [
      "\u001b[0;31m---------------------------------------------------------------------------\u001b[0m",
      "\u001b[0;31mTypeError\u001b[0m                                 Traceback (most recent call last)",
      "Cell \u001b[0;32mIn[28], line 4\u001b[0m\n\u001b[1;32m      1\u001b[0m \u001b[38;5;66;03m# 4번\u001b[39;00m\n\u001b[1;32m      3\u001b[0m a \u001b[38;5;241m=\u001b[39m (\u001b[38;5;241m1\u001b[39m, \u001b[38;5;241m2\u001b[39m, \u001b[38;5;241m3\u001b[39m)\n\u001b[0;32m----> 4\u001b[0m a[\u001b[38;5;241m0\u001b[39m] \u001b[38;5;241m=\u001b[39m \u001b[38;5;241m10\u001b[39m\n\u001b[1;32m      5\u001b[0m \u001b[38;5;28mprint\u001b[39m(a)\n",
      "\u001b[0;31mTypeError\u001b[0m: 'tuple' object does not support item assignment"
     ]
    }
   ],
   "source": [
    "# 4번\n",
    "\n",
    "a = (1, 2, 3)\n",
    "a[0] = 10\n",
    "print(a)"
   ]
  },
  {
   "cell_type": "code",
   "execution_count": 32,
   "id": "9d631278-1137-40e4-9fd7-6ae616786e51",
   "metadata": {},
   "outputs": [
    {
     "name": "stdout",
     "output_type": "stream",
     "text": [
      "3\n",
      "0\n"
     ]
    }
   ],
   "source": [
    "# 5번\n",
    "\n",
    "\n",
    "a, b = 3, 4\n",
    "print(a * b // 4)\n",
    "print(int(3.14) + 4 // a - b)"
   ]
  },
  {
   "cell_type": "code",
   "execution_count": 24,
   "id": "0b6f0b39-52f1-4b9a-acf9-3827b456e54d",
   "metadata": {},
   "outputs": [
    {
     "name": "stdin",
     "output_type": "stream",
     "text": [
      "URL을 입력하세요 (예: http://www.google.com) :  https://www.naver.com\n"
     ]
    },
    {
     "name": "stdout",
     "output_type": "stream",
     "text": [
      "naver.com\n"
     ]
    },
    {
     "name": "stdin",
     "output_type": "stream",
     "text": [
      "URL을 입력하세요 (예: http://www.google.com) :  https://www.naver.com\n"
     ]
    },
    {
     "name": "stdout",
     "output_type": "stream",
     "text": [
      "naver.com\n"
     ]
    },
    {
     "name": "stdin",
     "output_type": "stream",
     "text": [
      "URL을 입력하세요 (예: http://www.google.com) :  http://www.naver.com\n"
     ]
    },
    {
     "name": "stdout",
     "output_type": "stream",
     "text": [
      "naver.com\n"
     ]
    },
    {
     "name": "stdin",
     "output_type": "stream",
     "text": [
      "URL을 입력하세요 (예: http://www.google.com) :  http://www.naver.com/index.jsp\n"
     ]
    },
    {
     "name": "stdout",
     "output_type": "stream",
     "text": [
      "naver.com\n"
     ]
    },
    {
     "name": "stdin",
     "output_type": "stream",
     "text": [
      "URL을 입력하세요 (예: http://www.google.com) :  naver.com\n"
     ]
    },
    {
     "name": "stdout",
     "output_type": "stream",
     "text": [
      "naver.com\n"
     ]
    },
    {
     "name": "stdin",
     "output_type": "stream",
     "text": [
      "URL을 입력하세요 (예: http://www.google.com) :  naver.com/index.jsxp\n"
     ]
    },
    {
     "name": "stdout",
     "output_type": "stream",
     "text": [
      "naver.com\n"
     ]
    },
    {
     "name": "stdin",
     "output_type": "stream",
     "text": [
      "URL을 입력하세요 (예: http://www.google.com) :  quit\n"
     ]
    }
   ],
   "source": [
    "# 19번\n",
    "\n",
    "while 1 :\n",
    "    url = input(\"URL을 입력하세요 (예: http://www.google.com) : \")\n",
    "\n",
    "    if url == 'quit' :\n",
    "        break;\n",
    "    \n",
    "    domain = url.replace('https://', '').replace('http://', '').replace('www.', '')\n",
    "    domain = domain.split('/')[0]\n",
    "\n",
    "    print(domain)"
   ]
  },
  {
   "cell_type": "code",
   "execution_count": 26,
   "id": "754f844f-941e-49ed-8860-72062ef4072b",
   "metadata": {},
   "outputs": [
    {
     "name": "stdout",
     "output_type": "stream",
     "text": [
      "{'192.168.1.6'}\n"
     ]
    }
   ],
   "source": [
    "# 20번\n",
    "\n",
    "allowed_ips = {\"192.168.1.1\", \"192.168.1.2\", \"192.168.1.3\", \"192.168.1.4\"}\n",
    "blocked_ips = {\"192.168.1.3\", \"192.168.1.5\"}\n",
    "current_access_ips = {\"192.168.1.1\", \"192.168.1.3\", \"192.168.1.5\", \"192.168.1.6\"}\n",
    "\n",
    "unregistered_ips = current_access_ips - (allowed_ips | blocked_ips)\n",
    "\n",
    "print(unregistered_ips)\n"
   ]
  },
  {
   "cell_type": "code",
   "execution_count": null,
   "id": "07b435cd-2771-4cb8-a8fc-97ec320b2f5b",
   "metadata": {},
   "outputs": [],
   "source": []
  }
 ],
 "metadata": {
  "kernelspec": {
   "display_name": "Python [conda env:base] *",
   "language": "python",
   "name": "conda-base-py"
  },
  "language_info": {
   "codemirror_mode": {
    "name": "ipython",
    "version": 3
   },
   "file_extension": ".py",
   "mimetype": "text/x-python",
   "name": "python",
   "nbconvert_exporter": "python",
   "pygments_lexer": "ipython3",
   "version": "3.12.7"
  }
 },
 "nbformat": 4,
 "nbformat_minor": 5
}
