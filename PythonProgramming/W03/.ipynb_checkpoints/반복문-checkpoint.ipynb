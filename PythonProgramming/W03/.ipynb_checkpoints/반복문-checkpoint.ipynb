{
 "cells": [
  {
   "cell_type": "markdown",
   "id": "21b3fc64-b9e8-4ae2-9f59-a7f9a8e99c92",
   "metadata": {},
   "source": [
    "## Lecture 1 : 반복문\n",
    "### 1. for in 반복문\n",
    "- 모음 자료(iterable)의 각 항목을 variable에 저장하여 반복 몸체인 statement_1 수행\n",
    "- 모음 자료(iterable) : str, list, tuple, dict, set, frozenset, range"
   ]
  },
  {
   "cell_type": "code",
   "execution_count": 4,
   "id": "2363f645-2196-436b-bf24-f8ff69a9f73b",
   "metadata": {},
   "outputs": [
    {
     "name": "stdout",
     "output_type": "stream",
     "text": [
      "---string 출력---\n",
      "p y t h o n \n",
      "\n",
      "---리스트 출력---\n",
      "1 2 3 \n",
      "\n",
      "--- 튜플 출력---\n",
      "apple banana pineapple \n",
      "\n",
      "---set 출력---\n",
      "C# C JAVA Python \n",
      "\n",
      "---dict 출력---\n",
      "Lee 23 Kim 25 Park 27 Yoon 24 \n",
      "\n"
     ]
    }
   ],
   "source": [
    "### 시퀀스 객체 요소 값 출력하기\n",
    "\n",
    "# string\n",
    "print('---string 출력---')\n",
    "\n",
    "for c in 'python' :\n",
    "    print(c, end = ' ')\n",
    "print('\\n')\n",
    "\n",
    "# 리스트\n",
    "print('---리스트 출력---')\n",
    "for i in [1, 2, 3] :\n",
    "    print(i, end = ' ')\n",
    "print('\\n')\n",
    "\n",
    "# 튜플\n",
    "print('--- 튜플 출력---')\n",
    "for i in ('apple', 'banana', 'pineapple') :\n",
    "    print(i, end = ' ')\n",
    "print('\\n')\n",
    "\n",
    "# set\n",
    "print('---set 출력---')\n",
    "for i in {'C', 'JAVA', 'Python', 'C#'} :\n",
    "    print(i, end = ' ')\n",
    "print('\\n')\n",
    "\n",
    "# dict\n",
    "print('---dict 출력---')\n",
    "classA = {'Lee' : 23, 'Kim' : 25, 'Park' : 27, 'Yoon' : 24}\n",
    "for item in classA :\n",
    "    print(item, classA[item], end = ' ')\n",
    "print('\\n')"
   ]
  },
  {
   "cell_type": "markdown",
   "id": "d1aaf166-c984-42da-916e-d132885a76dc",
   "metadata": {},
   "source": [
    "### 2. 자료형 range와 for in 반복문\n",
    "- range(10) : 0에서 9까지 정수를 품은 range 객체\n",
    "- range(2, 10) : 2에서 9까지 정수를 품은 range 객체\n",
    "- range(1, 10, 2) : 1에서 9까지 2씩 증가 정수를 품은 range 객체 - (1, 3, 5, 7, 9)\n",
    "- range(5, 1, -1) : 10에서 2까지 -1씩 증가 정수를 품은 range 객체 - (5, 4, 3, 2)"
   ]
  },
  {
   "cell_type": "code",
   "execution_count": 9,
   "id": "9953b5e9-9bb5-48b0-a0bd-8457ebf6f3a1",
   "metadata": {},
   "outputs": [
    {
     "name": "stdout",
     "output_type": "stream",
     "text": [
      "---range(10) 출력---\n",
      "0 1 2 3 4 5 6 7 8 9 \n",
      "\n",
      "---range(5, 10) 출력---\n",
      "5 6 7 8 9 \n",
      "\n",
      "---range(1, 10, 2) 출력---\n",
      "1 3 5 7 9 \n",
      "\n",
      "---range(5, 1, -1) 출력---\n",
      "5 4 3 2 \n",
      "\n",
      "---range(2, 10)과 자료형 출력---\n",
      "range(2, 10) <class 'range'>\n",
      "\n",
      "\n",
      "---range(2, 10) 항목 값을 list/tuple로 출력---\n",
      "[2, 3, 4, 5, 6, 7, 8, 9]\n",
      "(2, 3, 4, 5, 6, 7, 8, 9)\n"
     ]
    }
   ],
   "source": [
    "# range() \n",
    "print('---range(10) 출력---')\n",
    "for i in range(10) :\n",
    "    print(i, end = ' ')\n",
    "print('\\n')\n",
    "\n",
    "print('---range(5, 10) 출력---')\n",
    "for i in range(5, 10) :\n",
    "    print(i, end = ' ')\n",
    "print('\\n')\n",
    "\n",
    "print('---range(1, 10, 2) 출력---')\n",
    "for i in range(1, 10, 2) :\n",
    "    print(i, end = ' ')\n",
    "print('\\n')\n",
    "\n",
    "print('---range(5, 1, -1) 출력---')\n",
    "for _ in range(5, 1, -1) :\n",
    "    print(_, end = ' ')\n",
    "print('\\n')\n",
    "\n",
    "# range(2, 10)은 2부터 9까지의 정수 값이 아니라 정수를 품은 range 객체\n",
    "print('---range(2, 10)과 자료형 출력---')\n",
    "r = range(2, 10)\n",
    "print(r, type(r))\n",
    "print('\\n')\n",
    "\n",
    "# list(), tuple() 호출로 항목 전체 출력 가능\n",
    "print('---range(2, 10) 항목 값을 list/tuple로 출력---')\n",
    "print(list(r))\n",
    "print(tuple(r))\n",
    "\n"
   ]
  },
  {
   "cell_type": "markdown",
   "id": "1c85fd86-18a2-478d-9a5a-555c2bbe75e1",
   "metadata": {},
   "source": [
    "### 2. 횟수를 정하지 않은 반복 while\n",
    "    while condition :\n",
    "        statements\n",
    "    [else :\n",
    "        additional_statements]"
   ]
  },
  {
   "cell_type": "code",
   "execution_count": 15,
   "id": "31aae7fd-13c4-4059-bbfc-fecf289a787e",
   "metadata": {},
   "outputs": [
    {
     "name": "stdout",
     "output_type": "stream",
     "text": [
      "-- 할 일 목록을 관리하는 프로그램입니다.--\n",
      "1. 할 일 추가\n",
      "2. 할 일 목록 보기\n",
      "3. 프로그램 종료\n"
     ]
    },
    {
     "name": "stdin",
     "output_type": "stream",
     "text": [
      "옵션을 입력하세요(1, 2, 3) ? 1\n",
      "추가할 일을 입력하시오 :  밥 먹기\n"
     ]
    },
    {
     "name": "stdout",
     "output_type": "stream",
     "text": [
      "'밥 먹기'를 할 일 목록에 추가하였습니다.\n",
      "\n",
      "-- 할 일 목록을 관리하는 프로그램입니다.--\n",
      "1. 할 일 추가\n",
      "2. 할 일 목록 보기\n",
      "3. 프로그램 종료\n"
     ]
    },
    {
     "name": "stdin",
     "output_type": "stream",
     "text": [
      "옵션을 입력하세요(1, 2, 3) ? 1\n",
      "추가할 일을 입력하시오 :  공부하기\n"
     ]
    },
    {
     "name": "stdout",
     "output_type": "stream",
     "text": [
      "'공부하기'를 할 일 목록에 추가하였습니다.\n",
      "\n",
      "-- 할 일 목록을 관리하는 프로그램입니다.--\n",
      "1. 할 일 추가\n",
      "2. 할 일 목록 보기\n",
      "3. 프로그램 종료\n"
     ]
    },
    {
     "name": "stdin",
     "output_type": "stream",
     "text": [
      "옵션을 입력하세요(1, 2, 3) ? 2\n"
     ]
    },
    {
     "name": "stdout",
     "output_type": "stream",
     "text": [
      "\n",
      "할 일 목록 : \n",
      "밥 먹기\n",
      "공부하기\n",
      "\n",
      "-- 할 일 목록을 관리하는 프로그램입니다.--\n",
      "1. 할 일 추가\n",
      "2. 할 일 목록 보기\n",
      "3. 프로그램 종료\n"
     ]
    },
    {
     "name": "stdin",
     "output_type": "stream",
     "text": [
      "옵션을 입력하세요(1, 2, 3) ? 3\n"
     ]
    },
    {
     "name": "stdout",
     "output_type": "stream",
     "text": [
      "프로그램을 종료합니다.\n"
     ]
    }
   ],
   "source": [
    "### 3-10 코딩 (p. 133) : while을 활용한 할 일 목록 관리\n",
    "# 할 일 목록을 저장할 빈 리스트 생성\n",
    "todo_list = []  # 빈 리스트 생성\n",
    "\n",
    "while True :\n",
    "    print('-- 할 일 목록을 관리하는 프로그램입니다.--')\n",
    "    print('1. 할 일 추가')\n",
    "    print('2. 할 일 목록 보기')\n",
    "    print('3. 프로그램 종료')\n",
    "\n",
    "    choice = input('옵션을 입력하세요(1, 2, 3) ?')\n",
    "\n",
    "    if choice == '1' :\n",
    "        task = input('추가할 일을 입력하시오 : ')\n",
    "        todo_list.append(task)\n",
    "        print(f\"'{task}'를 할 일 목록에 추가하였습니다.\")\n",
    "    elif choice == '2' :\n",
    "        print('\\n할 일 목록 : ')\n",
    "        for task in todo_list :\n",
    "            print(f'{task}')\n",
    "    elif choice == '3' :\n",
    "        print('프로그램을 종료합니다.')\n",
    "        break;\n",
    "    else :\n",
    "        print('올바른 옵션을 선택해주세요')\n",
    "        \n",
    "    print()"
   ]
  },
  {
   "cell_type": "markdown",
   "id": "0ad726e2-b4a7-4a2e-bda7-8f2a6e2a8745",
   "metadata": {},
   "source": [
    "### 3. 반복문에서의 break와 continue\n",
    "- break : 가까운 반복문을 빠져나옴\n",
    "- while : 이후의 반복 몸체를 실행하지 않고 다음 반복을 진행"
   ]
  },
  {
   "cell_type": "code",
   "execution_count": 25,
   "id": "a9fc03f8-8328-43f7-87c3-01c6b4b480b1",
   "metadata": {},
   "outputs": [
    {
     "name": "stdin",
     "output_type": "stream",
     "text": [
      "1~10 사이의 정수 입력(-1 입력시 종료) >>  1\n"
     ]
    },
    {
     "ename": "NameError",
     "evalue": "name 'user_inpuut' is not defined",
     "output_type": "error",
     "traceback": [
      "\u001b[0;31m---------------------------------------------------------------------------\u001b[0m",
      "\u001b[0;31mNameError\u001b[0m                                 Traceback (most recent call last)",
      "Cell \u001b[0;32mIn[25], line 14\u001b[0m\n\u001b[1;32m     11\u001b[0m     \u001b[38;5;28mprint\u001b[39m(\u001b[38;5;124m'\u001b[39m\u001b[38;5;124m1~10 사이의 숫자만 입력하시오\u001b[39m\u001b[38;5;124m'\u001b[39m)\n\u001b[1;32m     12\u001b[0m     \u001b[38;5;28;01mcontinue\u001b[39;00m\n\u001b[0;32m---> 14\u001b[0m \u001b[38;5;28;01mif\u001b[39;00m user_inpuut \u001b[38;5;241m%\u001b[39m \u001b[38;5;241m2\u001b[39m \u001b[38;5;241m==\u001b[39m \u001b[38;5;241m0\u001b[39m :\n\u001b[1;32m     15\u001b[0m     \u001b[38;5;28mprint\u001b[39m(\u001b[38;5;124mf\u001b[39m\u001b[38;5;124m'\u001b[39m\u001b[38;5;132;01m{\u001b[39;00muser_input\u001b[38;5;132;01m}\u001b[39;00m\u001b[38;5;124m은 짝수입니다.\u001b[39m\u001b[38;5;124m'\u001b[39m)\n\u001b[1;32m     16\u001b[0m \u001b[38;5;28;01melse\u001b[39;00m :\n",
      "\u001b[0;31mNameError\u001b[0m: name 'user_inpuut' is not defined"
     ]
    }
   ],
   "source": [
    "### 3-11 코딩\n",
    "# 1 ~ 10까지의 숫자를 입력받아 짝수만 출력, -1 입력시 종료\n",
    "\n",
    "while True :\n",
    "    user_input = int(input('1~10 사이의 정수 입력(-1 입력시 종료) >> '))\n",
    "\n",
    "    if user_input == -1 :\n",
    "        print('프로그램을 종료함')\n",
    "        break\n",
    "    if user_input < 1 or user_input > 10:\n",
    "        print('1~10 사이의 숫자만 입력하시오')\n",
    "        continue\n",
    "\n",
    "    if user_input % 2 == 0 :\n",
    "        print(f'{user_input}은 짝수입니다.')\n",
    "    else :\n",
    "        continue"
   ]
  },
  {
   "cell_type": "code",
   "execution_count": null,
   "id": "74fabf1e-eba1-4a4a-a35e-bc755eb9d739",
   "metadata": {},
   "outputs": [],
   "source": []
  }
 ],
 "metadata": {
  "kernelspec": {
   "display_name": "Python [conda env:base] *",
   "language": "python",
   "name": "conda-base-py"
  },
  "language_info": {
   "codemirror_mode": {
    "name": "ipython",
    "version": 3
   },
   "file_extension": ".py",
   "mimetype": "text/x-python",
   "name": "python",
   "nbconvert_exporter": "python",
   "pygments_lexer": "ipython3",
   "version": "3.12.7"
  }
 },
 "nbformat": 4,
 "nbformat_minor": 5
}
