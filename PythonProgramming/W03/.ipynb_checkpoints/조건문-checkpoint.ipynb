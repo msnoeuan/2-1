{
 "cells": [
  {
   "cell_type": "markdown",
   "id": "50000c9e-32ff-4ff6-984b-277e4749f4d5",
   "metadata": {},
   "source": [
    "## Lecture 1 : 조건문\n",
    "### 1. 조건에 따른 선택 (if - elif - else)\n",
    "    if condition_1 :\n",
    "        statement_1\n",
    "    elif condition_2 :\n",
    "        statement_2\n",
    "    elif condition_3 :\n",
    "        statement_3\n",
    "    else :\n",
    "        statement_4"
   ]
  },
  {
   "cell_type": "code",
   "execution_count": 7,
   "id": "70ce1020-538c-47fe-bfb0-388f53bcce6b",
   "metadata": {},
   "outputs": [
    {
     "name": "stdout",
     "output_type": "stream",
     "text": [
      "다음 중 원하는 변환을 선택하시오 : \n",
      "1. 섭씨를 화씨로 변환\n",
      "2. km를 mile로 변환\n",
      "3. pound를 kg로 변환\n"
     ]
    },
    {
     "name": "stdin",
     "output_type": "stream",
     "text": [
      "\n",
      " 원하는 변환 번호를 입력하시오 :  2\n",
      "변환할 값을 입력하시오 :  10\n"
     ]
    },
    {
     "name": "stdout",
     "output_type": "stream",
     "text": [
      "변환 결과 : 6.21\n"
     ]
    }
   ],
   "source": [
    "# 3-6 코딩 (p. 120) : 조건문으로 여러 단위 변환 함수 호출\n",
    "\n",
    "# 섭씨를 화씨로 변환하는 함수\n",
    "def c_to_f(c) :\n",
    "    return ((c * 9 / 5) + 32);\n",
    "\n",
    "## km를 mile로 변환하는 함수\n",
    "def k_to_m(km) :\n",
    "    return (km * 0.621371)\n",
    "\n",
    "## pound를 kg로 변환하는 함수\n",
    "def p_to_k(p) :\n",
    "    return (p * 0.453582)\n",
    "    \n",
    "# 사용자로 부터 함수 선택\n",
    "print('다음 중 원하는 변환을 선택하시오 : ')\n",
    "print('1. 섭씨를 화씨로 변환')\n",
    "print('2. km를 mile로 변환')\n",
    "print('3. pound를 kg로 변환')\n",
    "\n",
    "choice = int(input('\\n 원하는 변환 번호를 입력하시오 : '))\n",
    "    \n",
    "# 선택한 함수를 호출하여 결과 출력\n",
    "if 1 <= choice <= 3 :\n",
    "    input_value = int(input('변환할 값을 입력하시오 : '))\n",
    "    result = 0;\n",
    "    if choice == 1 :\n",
    "        result = c_to_f(input_value)\n",
    "    elif choice == 2 :\n",
    "        result = k_to_m(input_value)\n",
    "    elif choice == 3 :\n",
    "        result = p_to_k(input_value)\n",
    "    print(f'변환 결과 : {result:.2f}')\n",
    "\n",
    "else :\n",
    "    print('올바른 번호를 입력하시오')"
   ]
  },
  {
   "cell_type": "markdown",
   "id": "5b0d472b-7923-4dd0-bf26-614aa10d0d94",
   "metadata": {},
   "source": [
    "### 2. 조건에 따른 선택(한 줄 if문)\n",
    "    exp_1 if condition else exp_2  # condition이 True이면 exp_1, False이면 exp_2"
   ]
  },
  {
   "cell_type": "code",
   "execution_count": 11,
   "id": "829403d5-4311-4fa1-814d-2e77c2d029bf",
   "metadata": {},
   "outputs": [
    {
     "name": "stdin",
     "output_type": "stream",
     "text": [
      "첫 번째 숫자를 입력 :  3\n",
      "두 번째 숫자를 입력 :  6\n"
     ]
    },
    {
     "name": "stdout",
     "output_type": "stream",
     "text": [
      "두 숫자 중 큰 수는 6.0입니다.\n"
     ]
    }
   ],
   "source": [
    "# 3-7 코딩 (p. 124) : 표준 입력 두 수 비교\n",
    "\n",
    "# 사용자로 부터 두 수 입력받기\n",
    "num_1 = float(input(\"첫 번째 숫자를 입력 : \"))\n",
    "num_2 = float(input(\"두 번째 숫자를 입력 : \"))\n",
    "\n",
    "# 큰 수를 비교하여 출력\n",
    "result = num_1 if num_1 > num_2 else num_2\n",
    "print(f'두 숫자 중 큰 수는 {result}입니다.')"
   ]
  },
  {
   "cell_type": "markdown",
   "id": "bdad3a94-15e8-4e41-b5ae-26b2416d1caa",
   "metadata": {},
   "source": [
    "### LAB-1\n",
    "- 사용자로부터 3개의 수를 입력받아 가장 큰 수를 출력하시오.\n",
    "- if 조건문(if-elif-else)을 활용하시오.\n"
   ]
  },
  {
   "cell_type": "code",
   "execution_count": 22,
   "id": "ffa7c6ba-9ccd-48c1-ba90-37f452f70569",
   "metadata": {},
   "outputs": [
    {
     "name": "stdin",
     "output_type": "stream",
     "text": [
      "첫 번째 숫자를 입력하세요 >> 111\n",
      "첫 번째 숫자를 입력하세요 >> 4\n",
      "첫 번째 숫자를 입력하세요 >> 6\n"
     ]
    },
    {
     "name": "stdout",
     "output_type": "stream",
     "text": [
      "가장 큰 수는 111입니다.\n"
     ]
    }
   ],
   "source": [
    "num1 = int(input('첫 번째 숫자를 입력하세요 >>'))\n",
    "num2 = int(input('첫 번째 숫자를 입력하세요 >>'))\n",
    "num3 = int(input('첫 번째 숫자를 입력하세요 >>'))\n",
    "\n",
    "if num1 > num2 :\n",
    "    maxNum = num1\n",
    "else :\n",
    "    if num2 > num3 :\n",
    "        maxNum = num2\n",
    "    else :\n",
    "        maxNum = num3\n",
    "\n",
    "print(f'가장 큰 수는 {maxNum}입니다.')\n"
   ]
  },
  {
   "cell_type": "markdown",
   "id": "3c13b687-90f3-451a-8822-7e2d2fb9fc24",
   "metadata": {},
   "source": [
    "### LAB-2\n",
    "- 사용자로 부터 3개의 수 입력받아 가장 큰 수를 출력하시오.\n",
    "- if 조건문(한 줄 if)을 활용하시오."
   ]
  },
  {
   "cell_type": "code",
   "execution_count": 25,
   "id": "b3f4719a-0f77-40ac-afce-764159f20686",
   "metadata": {},
   "outputs": [
    {
     "name": "stdin",
     "output_type": "stream",
     "text": [
      "첫 번째 숫자를 입력하세요 >> 3\n",
      "첫 번째 숫자를 입력하세요 >> 6\n",
      "첫 번째 숫자를 입력하세요 >> 8\n"
     ]
    },
    {
     "name": "stdout",
     "output_type": "stream",
     "text": [
      "가장 큰 수는 8입니다.\n"
     ]
    }
   ],
   "source": [
    "num1 = int(input('첫 번째 숫자를 입력하세요 >>'))\n",
    "num2 = int(input('첫 번째 숫자를 입력하세요 >>'))\n",
    "num3 = int(input('첫 번째 숫자를 입력하세요 >>'))\n",
    "\n",
    "maxNum = num1 if num1 > num2 else (num2 if num2 > num3 else num3) \n",
    "\n",
    "print(f'가장 큰 수는 {maxNum}입니다.')"
   ]
  },
  {
   "cell_type": "markdown",
   "id": "0a9c13a3-e5b0-4808-9a47-5e9a6f935640",
   "metadata": {},
   "source": [
    "### LAB-3\n",
    "- 사용자로 부터 3개의 수 입력받아 가장 큰 수를 출력하시오.\n",
    "- if 조건문(한 줄 if)을 활용하시오.\n",
    "- 가장 큰 수를 찾는 함수 my_max()를 정의하여 사용하세요."
   ]
  },
  {
   "cell_type": "code",
   "execution_count": 28,
   "id": "415bb001-9d2d-49fb-b927-9f144ad50e70",
   "metadata": {},
   "outputs": [
    {
     "name": "stdin",
     "output_type": "stream",
     "text": [
      "첫 번째 숫자를 입력 :  3\n",
      "두 번째 숫자를 입력 :  3\n",
      "세 번째 숫자를 입력 :  1\n"
     ]
    },
    {
     "name": "stdout",
     "output_type": "stream",
     "text": [
      "3.0\n"
     ]
    }
   ],
   "source": [
    "def my_max(n1, n2, n3) :\n",
    "    maxNum = n1 if n1 > n2 else (n2 if n2 > n3 else n3)\n",
    "    return maxNum\n",
    "    \n",
    "num_1 = float(input(\"첫 번째 숫자를 입력 : \"))\n",
    "num_2 = float(input(\"두 번째 숫자를 입력 : \"))\n",
    "num_3 = float(input(\"세 번째 숫자를 입력 : \"))\n",
    "result = my_max(num_1, num_2, num_3)\n",
    "print(result)"
   ]
  },
  {
   "cell_type": "code",
   "execution_count": null,
   "id": "c2bc2c80-a8d4-4824-916b-d1a0194d2e61",
   "metadata": {},
   "outputs": [],
   "source": []
  }
 ],
 "metadata": {
  "kernelspec": {
   "display_name": "Python [conda env:base] *",
   "language": "python",
   "name": "conda-base-py"
  },
  "language_info": {
   "codemirror_mode": {
    "name": "ipython",
    "version": 3
   },
   "file_extension": ".py",
   "mimetype": "text/x-python",
   "name": "python",
   "nbconvert_exporter": "python",
   "pygments_lexer": "ipython3",
   "version": "3.12.7"
  }
 },
 "nbformat": 4,
 "nbformat_minor": 5
}
