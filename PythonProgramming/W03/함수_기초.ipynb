{
 "cells": [
  {
   "cell_type": "markdown",
   "id": "608bb487-51fc-476d-8fa7-7f916f6a5b75",
   "metadata": {},
   "source": [
    "## Lecture 1 : 함수 기초\n",
    "### 1. 함수의 선언과 호출\n",
    "- (함수 정의) 반복적으로 사용하는 서비스를 함수로 정의\n",
    "- (함수 호출) 함수에게 값을 전달(인자, 파라미터, argument로 불림)하면, 함수는 기능 수행 후 결과 값(반환 값, return 값)을 알려줌"
   ]
  },
  {
   "cell_type": "code",
   "execution_count": null,
   "id": "6804f392-d527-4512-ba21-7a2537f2e005",
   "metadata": {},
   "outputs": [],
   "source": [
    "### 함수 선언\n",
    "def func_name(parameter_1, parameter_2) :\n",
    "    # 함수 func_name()는 파라미(parameter_1, parameter_2)를 전달받음\n",
    "    statement_1  # 기능 수행\n",
    "    statement_2  # 기능 수행\n",
    "    return result_1, result_2  # 기능 수행 후, 결과 값으로 (result_1 result_2)를 알려줌\n",
    "\n",
    "### 함수 호출\n",
    "# 함수 func_name()에 인자(argument_1, argument_2)를 전달하면, 결과 (ret_1, ret_2)를 알려줌\n",
    "ret_1, ret_2 = func_name(argument_1, argument_2)"
   ]
  },
  {
   "cell_type": "code",
   "execution_count": 6,
   "id": "2a637176-2e0f-4271-a22a-19f26297c5ff",
   "metadata": {},
   "outputs": [
    {
     "name": "stdin",
     "output_type": "stream",
     "text": [
      "섭씨 온도를 입력하시오 :  23\n"
     ]
    },
    {
     "name": "stdout",
     "output_type": "stream",
     "text": [
      "섭씨 23.0도는 화씨로 73.4도 입니다.\n"
     ]
    },
    {
     "name": "stdin",
     "output_type": "stream",
     "text": [
      "화씨 온도를 입력하시오 :  53\n"
     ]
    },
    {
     "name": "stdout",
     "output_type": "stream",
     "text": [
      "화씨 53.0도는 섭씨로  11.7도 입니다.\n"
     ]
    }
   ],
   "source": [
    "# 3-1 코딩(p.103) : 섭씨 화 온도 변환\n",
    "\n",
    "## 섭씨를 화씨로 변환하는 함수 c_to_f() 정의\n",
    "# 함수 c_to_f()에게 전달하는 값(인자, 파라미터, argument로 불림) : 섭씨 온도(c)\n",
    "# 함수 c_to_f()가 알려주는 값(반환 값, return 값) : 화씨 온도(f)\n",
    "\n",
    "def c_to_f(c) :\n",
    "    f = (c * 9/5) + 32\n",
    "    return f\n",
    "\n",
    "## 화씨를 섭씨로 변환하는 함수 f_to_c() 정의\n",
    "# 함수 f_to_c()에게 전달하는 값(인자, 파라미터, argument로 불림) : 화씨 온도(f)\n",
    "# 함수 f_to_c()가 알려주는 값(반환 값, return 값) : 섭씨 온도(c)\n",
    "def f_to_c(f) :\n",
    "    c = (f - 32) * 5/9\n",
    "    return c\n",
    "\n",
    "# 사용자로부터 섭씨 온도 입력 받기\n",
    "celsius = float(input('섭씨 온도를 입력하시오 : '))\n",
    "# 함수 c_to_f()를 호출하여 섭씨온도(celsius)를 전달하면, 함수 c_to_f()는 화씨온도로 변환하여 반환\n",
    "fahrenheit = c_to_f(celsius)\n",
    "# 결과 출력\n",
    "print(f'섭씨 {celsius}도는 화씨로 {fahrenheit}도 입니다.')\n",
    "\n",
    "# 사용자로부터 화씨 온도 입력 받기\n",
    "fahrenheit = float(input('화씨 온도를 입력하시오 : '))\n",
    "# 함수 f_to_c()를 호출하여 화씨온도(fahrenheit)를 전달하면, 함수 f_to_c()는 섭씨온도 변환하여 반환\n",
    "celsius = f_to_c(fahrenheit)\n",
    "# 결과 출력\n",
    "print(f'화씨 {fahrenheit}도는 섭씨로 {celsius : .1f}도 입니다.')"
   ]
  },
  {
   "cell_type": "markdown",
   "id": "2e2ca1c0-3063-4551-b99e-68e5534de772",
   "metadata": {},
   "source": [
    "### LAB-1\n",
    "- 두 개의 숫자를 입력받아, 두 숫자의 곱을 알아보는 함수를 작성하시오\n",
    "- 함수 이름 : multiply(a, b)"
   ]
  },
  {
   "cell_type": "code",
   "execution_count": 11,
   "id": "3875859c-70f8-4244-bed7-5a36809433c7",
   "metadata": {},
   "outputs": [
    {
     "name": "stdin",
     "output_type": "stream",
     "text": [
      "첫번째 숫자 입력 :  3\n",
      "두번째 숫자 입력 :  5\n"
     ]
    },
    {
     "name": "stdout",
     "output_type": "stream",
     "text": [
      "3 X 5 = 15\n"
     ]
    }
   ],
   "source": [
    "def multiply(a, b) :\n",
    "    return a * b\n",
    "\n",
    "x = int(input('첫번째 숫자 입력 : '))\n",
    "y = int(input('두번째 숫자 입력 : '))\n",
    "z = multiply(x, y)\n",
    "\n",
    "print(f'{x} X {y} = {z}')"
   ]
  },
  {
   "cell_type": "markdown",
   "id": "1e1ffc65-77eb-4399-937d-b9b05313c9eb",
   "metadata": {},
   "source": [
    "### LAB-2\n",
    "- 두 개의 숫자를 입력받아, 두 숫자의 합(sum)과 곱(multiply)을 알아보는 함수를 작성하시오\n",
    "- 함수 이름 : calc(a, b)"
   ]
  },
  {
   "cell_type": "code",
   "execution_count": 16,
   "id": "399cefb4-eed3-40f2-a40a-9777cbe875ac",
   "metadata": {},
   "outputs": [
    {
     "name": "stdin",
     "output_type": "stream",
     "text": [
      "첫번째 숫자 입력 :  3\n",
      "두번째 숫자 입력 :  5\n"
     ]
    },
    {
     "name": "stdout",
     "output_type": "stream",
     "text": [
      "3와 5의 합은 8, 곱은 15\n"
     ]
    }
   ],
   "source": [
    "def calc(a, b) :\n",
    "    sum = a + b\n",
    "    multiply = a * b\n",
    "    return sum, multiply\n",
    "\n",
    "x = int(input('첫번째 숫자 입력 : '))\n",
    "y = int(input('두번째 숫자 입력 : '))\n",
    "\n",
    "s, m = calc(x, y)\n",
    "\n",
    "print(f'{x}와 {y}의 합은 {s}, 곱은 {m}')"
   ]
  },
  {
   "cell_type": "markdown",
   "id": "1b1eed60-069f-4705-88a9-acea78987146",
   "metadata": {},
   "source": [
    "### 2. 람다 함수(lambda function) p.104\n",
    "- 이름 없는(anonymous, 익명)함수\n",
    "- 한 줄로 작성되며 return문 없이 연산식 반환"
   ]
  },
  {
   "cell_type": "code",
   "execution_count": null,
   "id": "3f80ec26-9380-4d50-9f5d-c5c988299019",
   "metadata": {},
   "outputs": [],
   "source": [
    "### 람다 함수 선언\n",
    "my_func = lambda parameter_1, parameter_2 : statement_or_expression\n",
    "\n",
    "### 람다 함수 호출\n",
    "my_func(parameter_1, parameter_2)"
   ]
  },
  {
   "cell_type": "code",
   "execution_count": 22,
   "id": "c895e4ca-59db-4594-9b31-b1417c5d80d5",
   "metadata": {},
   "outputs": [
    {
     "name": "stdout",
     "output_type": "stream",
     "text": [
      "Hello\n",
      "11\n",
      "15\n",
      "50\n"
     ]
    }
   ],
   "source": [
    "# 3-2 코딩 (p. 106) : 람다 함수의 정의와 호출\n",
    "\n",
    "hello = lambda : print('Hello')\n",
    "add1 = lambda x: x + 1\n",
    "add2 = lambda x, y : x + y\n",
    "mult2 = lambda x, y : x * y\n",
    "\n",
    "a, b = 10, 5\n",
    "hello()\n",
    "print(add1(a))\n",
    "print(add2(a, b))\n",
    "print(mult2(a, b))"
   ]
  },
  {
   "cell_type": "code",
   "execution_count": 24,
   "id": "5eec23b6-1c71-444b-b275-da8723bb4c6a",
   "metadata": {},
   "outputs": [
    {
     "name": "stdout",
     "output_type": "stream",
     "text": [
      "[3, 4, 6, 7]\n"
     ]
    }
   ],
   "source": [
    "## 람다 함수(lambda function)의 활용 (p.380)\n",
    "## map(함수, 리스트)\n",
    "## 반복 가능한(iterable) 객체의 각 요소에 특정 함수를 적용하여 새로운 값을 생성\n",
    "## 함수는 각 요소를 입력받아 새로운 값을 반환해야 함\n",
    "## 반환된 값은 map 객체(iterator)이므로, list()나 tuple()로 변환 가능\n",
    "## 꾸러미에서 하나씩 꺼내서 함수 적용\n",
    "\n",
    "lst = [2, 3, 5, 6]\n",
    "new_lst = map(lambda x : x + 1, lst)\n",
    "\n",
    "print(list(new_lst))"
   ]
  },
  {
   "cell_type": "code",
   "execution_count": 28,
   "id": "6762624f-fa32-4f2e-b1f3-26951986074b",
   "metadata": {},
   "outputs": [
    {
     "name": "stdin",
     "output_type": "stream",
     "text": [
      "숫자 열을 입력하세요 :  12 3 56 88\n"
     ]
    },
    {
     "name": "stdout",
     "output_type": "stream",
     "text": [
      "12 3 56 88 <class 'str'>\n",
      "12 <class 'str'>\n",
      "3 <class 'str'>\n",
      "56 <class 'str'>\n",
      "88 <class 'str'>\n",
      "[12, 3, 56, 88] <class 'int'>\n"
     ]
    }
   ],
   "source": [
    "## map() 함수 사용 활용 (고급)\n",
    "\n",
    "data = input('숫자 열을 입력하세요 : ')\n",
    "print(data, type(data))\n",
    "\n",
    "## 공백을 구분자로하여 단어 분리하고 정수형으로 변환\n",
    "## 각각의 정수 값을 리스트에 요소로 저장\n",
    "my_data = []\n",
    "\n",
    "for item in data.split() :\n",
    "    print(item, type(item))\n",
    "    my_data.append(int(item))\n",
    "print(my_data, type(my_data[0]))"
   ]
  },
  {
   "cell_type": "code",
   "execution_count": 38,
   "id": "6552c7e4-11ef-4d91-9391-9a123362dc80",
   "metadata": {},
   "outputs": [
    {
     "name": "stdin",
     "output_type": "stream",
     "text": [
      "숫자 열을 입력하세요 :  12 3 56 88\n"
     ]
    },
    {
     "name": "stdout",
     "output_type": "stream",
     "text": [
      "[12, 3, 56, 88] <class 'int'>\n"
     ]
    }
   ],
   "source": [
    "## map() 함수 사용 활용 (고급)\n",
    "data = list(map(int, input('숫자 열을 입력하세요 : ').split()))\n",
    "print(data, type(data[0]))"
   ]
  },
  {
   "cell_type": "code",
   "execution_count": 40,
   "id": "aba32fc3-e340-4d9b-9fb3-40d19b0e6c6c",
   "metadata": {},
   "outputs": [
    {
     "name": "stdout",
     "output_type": "stream",
     "text": [
      "[2, 4, 6, 8, 10]\n"
     ]
    }
   ],
   "source": [
    "## 람다 함수(lambda function)의 활용\n",
    "## filter(함수, 리스트)\n",
    "## 반복 가능한(iterable) 객체에서 특정 조건을 만족하는 요소만 걸러내는 함수\n",
    "## 함수는 각 요소를 입력받아 True 또는 False를 반환해야 함\n",
    "## 반환된 값은 filter 객체(iterator)이므로, list()나 tuple()로 변환 가능\n",
    "## 꾸러미에서 하나씩 꺼내서 함수 적용 후, True인 요소만 걸러냄\n",
    "\n",
    "lst = [1, 2, 3, 4, 5, 6, 7, 8, 9, 10]\n",
    "my_lst = filter(lambda x : x % 2 == 0, lst)\n",
    "\n",
    "print(list(my_lst))"
   ]
  },
  {
   "cell_type": "markdown",
   "id": "4004f541-747e-4e51-b6aa-39481282e962",
   "metadata": {},
   "source": [
    "### 3. 다양한 내장 함수\n",
    "- 내장 함수 : 표준 파이썬에서 이미 정의해놓아 바로 사용할 수 있는 함수"
   ]
  },
  {
   "cell_type": "code",
   "execution_count": 43,
   "id": "e892bf1d-ead3-4ac2-8e39-3aad0ab5e256",
   "metadata": {},
   "outputs": [
    {
     "name": "stdout",
     "output_type": "stream",
     "text": [
      "Help on built-in function abs in module builtins:\n",
      "\n",
      "abs(x, /)\n",
      "    Return the absolute value of the argument.\n",
      "\n"
     ]
    }
   ],
   "source": [
    "help(abs)"
   ]
  },
  {
   "cell_type": "code",
   "execution_count": 1,
   "id": "7d106ab1-6faa-4f2c-b6d1-51cc2ff00504",
   "metadata": {},
   "outputs": [
    {
     "data": {
      "text/plain": [
       "7"
      ]
     },
     "execution_count": 1,
     "metadata": {},
     "output_type": "execute_result"
    }
   ],
   "source": [
    "abs(-7)  # 절대 값"
   ]
  },
  {
   "cell_type": "code",
   "execution_count": 3,
   "id": "155a015c-d006-47d4-b4b5-3d303f59d13a",
   "metadata": {},
   "outputs": [
    {
     "data": {
      "text/plain": [
       "16"
      ]
     },
     "execution_count": 3,
     "metadata": {},
     "output_type": "execute_result"
    }
   ],
   "source": [
    "pow(2, 4)  # 2의 4제곱"
   ]
  },
  {
   "cell_type": "code",
   "execution_count": 5,
   "id": "b533ea73-476e-4664-a6f7-9f8cd05e6e49",
   "metadata": {},
   "outputs": [
    {
     "data": {
      "text/plain": [
       "3.142"
      ]
     },
     "execution_count": 5,
     "metadata": {},
     "output_type": "execute_result"
    }
   ],
   "source": [
    "round(3.141592, 3)  # 소수 3자리에서 반올림"
   ]
  },
  {
   "cell_type": "code",
   "execution_count": 7,
   "id": "a9fd825f-857b-4951-bf5d-b3054b0b0e33",
   "metadata": {},
   "outputs": [
    {
     "data": {
      "text/plain": [
       "(3, 2)"
      ]
     },
     "execution_count": 7,
     "metadata": {},
     "output_type": "execute_result"
    }
   ],
   "source": [
    "divmod(20, 6)  # 몫과 나머지"
   ]
  },
  {
   "cell_type": "code",
   "execution_count": 9,
   "id": "ad3124f6-bbca-434b-9ec1-9ba9be65d2dc",
   "metadata": {},
   "outputs": [
    {
     "data": {
      "text/plain": [
       "2"
      ]
     },
     "execution_count": 9,
     "metadata": {},
     "output_type": "execute_result"
    }
   ],
   "source": [
    "min([3.4, 5, 2])  # 시퀀스 객체의 최소값"
   ]
  },
  {
   "cell_type": "code",
   "execution_count": 11,
   "id": "ece51e71-0708-4857-8b2a-cfdd221c7d36",
   "metadata": {},
   "outputs": [
    {
     "data": {
      "text/plain": [
       "5"
      ]
     },
     "execution_count": 11,
     "metadata": {},
     "output_type": "execute_result"
    }
   ],
   "source": [
    "max((3.4, 5, 2))  # 시퀀스 객체의 최대값"
   ]
  },
  {
   "cell_type": "code",
   "execution_count": 13,
   "id": "9d436777-9ea8-4a6d-8b7d-65c050ecc85e",
   "metadata": {},
   "outputs": [
    {
     "data": {
      "text/plain": [
       "6"
      ]
     },
     "execution_count": 13,
     "metadata": {},
     "output_type": "execute_result"
    }
   ],
   "source": [
    "sum((1, 2, 3))  # 시퀀스 객체의 합"
   ]
  },
  {
   "cell_type": "code",
   "execution_count": 15,
   "id": "58d9f205-fcb4-46dc-989d-62a53b807eaf",
   "metadata": {},
   "outputs": [
    {
     "data": {
      "text/plain": [
       "6"
      ]
     },
     "execution_count": 15,
     "metadata": {},
     "output_type": "execute_result"
    }
   ],
   "source": [
    "sum([1, 2, 3])  # 시퀀스 객체의 합"
   ]
  },
  {
   "cell_type": "code",
   "execution_count": 17,
   "id": "abe59b86-a217-4425-a241-18ca60d2d4f3",
   "metadata": {},
   "outputs": [
    {
     "data": {
      "text/plain": [
       "'0b10100'"
      ]
     },
     "execution_count": 17,
     "metadata": {},
     "output_type": "execute_result"
    }
   ],
   "source": [
    "bin(20)  # 2진수로 출력"
   ]
  },
  {
   "cell_type": "code",
   "execution_count": 19,
   "id": "9d27251f-2874-43cc-91ed-46a287173606",
   "metadata": {},
   "outputs": [
    {
     "data": {
      "text/plain": [
       "[3, 5, 6, 9]"
      ]
     },
     "execution_count": 19,
     "metadata": {},
     "output_type": "execute_result"
    }
   ],
   "source": [
    "sorted([5, 3, 9, 6])  # iternal 객체의 항목 정렬"
   ]
  },
  {
   "cell_type": "code",
   "execution_count": 25,
   "id": "0e65378c-2d57-4baf-bdac-e1ce1cfe4b07",
   "metadata": {},
   "outputs": [
    {
     "data": {
      "text/plain": [
       "True"
      ]
     },
     "execution_count": 25,
     "metadata": {},
     "output_type": "execute_result"
    }
   ],
   "source": [
    "all([3, 5 > 3, 'py' in 'python', 3 % 2])  # 모든 항목이 참이면 True"
   ]
  },
  {
   "cell_type": "code",
   "execution_count": null,
   "id": "1cf4772d-5f31-400a-a857-414877974f51",
   "metadata": {},
   "outputs": [],
   "source": []
  },
  {
   "cell_type": "code",
   "execution_count": 27,
   "id": "0d22c8fb-9ca8-4013-b7ff-506d9a53f75c",
   "metadata": {},
   "outputs": [
    {
     "data": {
      "text/plain": [
       "True"
      ]
     },
     "execution_count": 27,
     "metadata": {},
     "output_type": "execute_result"
    }
   ],
   "source": [
    "any([0, 10 >= 1, ''])  # 요소 값 중 하나라도 참이면 True"
   ]
  },
  {
   "cell_type": "code",
   "execution_count": null,
   "id": "b93030e7-b8fa-40c2-9d7f-b98295982d8d",
   "metadata": {},
   "outputs": [],
   "source": []
  }
 ],
 "metadata": {
  "kernelspec": {
   "display_name": "Python [conda env:base] *",
   "language": "python",
   "name": "conda-base-py"
  },
  "language_info": {
   "codemirror_mode": {
    "name": "ipython",
    "version": 3
   },
   "file_extension": ".py",
   "mimetype": "text/x-python",
   "name": "python",
   "nbconvert_exporter": "python",
   "pygments_lexer": "ipython3",
   "version": "3.12.7"
  }
 },
 "nbformat": 4,
 "nbformat_minor": 5
}
