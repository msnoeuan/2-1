{
 "cells": [
  {
   "cell_type": "markdown",
   "id": "b45e3019-59b5-4f09-b2db-70ab8c96a5ae",
   "metadata": {},
   "source": [
    "## Lecture 1 : 파이썬 자료형(Data Type) / 교재 p.56\n",
    "### 1. 파이썬 자료형\n",
    "- 파이썬은 동적 타입(dynamic typing)을 지원하는 언어로, 변수 선언 시 자료형을 지정할 필요가 없음\n",
    "- type() 함수를 사용하면 변수의 자료형을 확인할 수 있음\n",
    "\n",
    "### 2. 파이썬 언어의 자료형\n",
    "- Numbers(숫자형)\n",
    "  - Int : 소수점 없는 숫자\n",
    "  - Float : 소수점 있는 숫자\n",
    "  - Complex : 복소수 숫자\n",
    "- Bool(논리형)\n",
    "  - True : 참\n",
    "  - False : 거짓\n",
    "- Sequence(시퀀스)\n",
    "  - String : 문자 순서 열(첨자로 참조 가능)\n",
    "  - List : 변경 가능한(mutable) 원소의 순서 열(첨자로 참조 가능)\n",
    "  - Tuple : 변경 불가능한(immutable) 원소의 순서 열(첨자로 참조 가능)\n",
    "- Mapping(매핑)\n",
    "  - Dict : 키(key)와 값(value)의 매핑이 필요한 경우, 순서 없음(첨자로 참조 불가)\n",
    "- Sets(집합형)\n",
    "  - Set : 변경이 가능한(mutable) 유일한 원소들의 집합, 순서 없음(첨자로 참조 불가)\n",
    "  - Frozenset : 변경 불가능한(immutable) 유일한 원소들의 집합, 순서 없음(첨자로 참조 불가)\n",
    "- range\n",
    "    - 변경이 불가능한(immutable) 숫자열"
   ]
  },
  {
   "cell_type": "markdown",
   "id": "45434159-f3ae-4b72-b2c8-8b193f742410",
   "metadata": {},
   "source": [
    "## Lecture 2 : (LAB-1 : 따라하기) 파이썬에서 각 자료형의 변수 생성해보기\n",
    "### 2.1 숫자형(int, float, complex)\n",
    "> 정수(int)  \n",
    "> 실수(float)  \n",
    "> 복소수(complex)  "
   ]
  },
  {
   "cell_type": "code",
   "execution_count": 52,
   "id": "f0edc319-532e-4100-beb8-28853e55d1bd",
   "metadata": {},
   "outputs": [
    {
     "name": "stdout",
     "output_type": "stream",
     "text": [
      "1 <class 'int'>\n"
     ]
    }
   ],
   "source": [
    "# 정수(int) 자료를 변수에 할당하고, 값과 자료형 출력해보기\n",
    "x = 1     # x = int(1)     # 정수 값 1로 int 인스턴스 x 생성\n",
    "\n",
    "print(x, type(x))"
   ]
  },
  {
   "cell_type": "code",
   "execution_count": 50,
   "id": "b2b80733-9be5-4cbc-8ba8-0c691569911f",
   "metadata": {},
   "outputs": [
    {
     "name": "stdout",
     "output_type": "stream",
     "text": [
      "2.8 <class 'float'>\n"
     ]
    }
   ],
   "source": [
    "# 실수(float) 자료를 변수에 할당하고, 값과 자료형 출력해보기\n",
    "y = 2.8     # y = float(2.8)     # 실수 값 2.8로 float 인스턴스 y 생성\n",
    "\n",
    "print(y, type(y))"
   ]
  },
  {
   "cell_type": "code",
   "execution_count": 48,
   "id": "66dbe10e-6c8e-4a26-b737-3096d6dba9ff",
   "metadata": {},
   "outputs": [
    {
     "name": "stdout",
     "output_type": "stream",
     "text": [
      "(1+3j) <class 'complex'>\n"
     ]
    }
   ],
   "source": [
    "# 복소수(complex) 자료를 변수에 할당하고, 값과 자료형을 출력해보기\n",
    "z = 1 + 3j     # z = complex(1 + 3j)     # 복소수 값 (1 + 3j)으로 complex 인스턴스 z 생성\n",
    "\n",
    "print(z, type(z))"
   ]
  },
  {
   "cell_type": "markdown",
   "id": "75c27c94-088b-4b36-9ae4-bd7ce95cba58",
   "metadata": {},
   "source": [
    "### 2.2 논리형(bool)\n",
    "> True, False 값을 가짐  \n",
    "> 논리 연산자(and, or, not)와 함께 사용"
   ]
  },
  {
   "cell_type": "code",
   "execution_count": 36,
   "id": "35db88aa-7c4e-4576-a1be-1e960268d812",
   "metadata": {},
   "outputs": [
    {
     "name": "stdout",
     "output_type": "stream",
     "text": [
      "True <class 'bool'>\n",
      "False <class 'bool'>\n",
      "False <class 'bool'>\n"
     ]
    }
   ],
   "source": [
    "# 논리형 자료를 변수에 할당하고, 값과 자료형을 출력해보기\n",
    "# True, False => 대소문자 구분\n",
    "a = True     # bool(True)     # True 값으로 bool 인스턴스 a 생성\n",
    "b = False     # bool(False)     # False 값으로 bool 인스턴스 b 생성\n",
    "c = 3 > 4     # bool(3 > 4)     # (3 > 4) 논리 연산 값으로 bool 인스턴스 c 생성\n",
    "\n",
    "print(a, type(a))\n",
    "print(b, type(b))\n",
    "print(c, type(c))"
   ]
  },
  {
   "cell_type": "code",
   "execution_count": 38,
   "id": "abe0d993-6bb0-4bf2-9ae2-70a4644ef4bf",
   "metadata": {},
   "outputs": [
    {
     "name": "stdout",
     "output_type": "stream",
     "text": [
      "False <class 'bool'>\n",
      "False <class 'bool'>\n",
      "False <class 'bool'>\n"
     ]
    }
   ],
   "source": [
    "# 논리형 자료를 변수에 할당하고, 값과 자료형을 출력해보기\n",
    "d = bool(0)     # 0, 0,0, Null 문자열 값으로 bool 인스턴스 생성 : False\n",
    "e = bool(0.0)\n",
    "f = bool('')\n",
    "\n",
    "print(d, type(d))\n",
    "print(e, type(e))\n",
    "print(f, type(f))"
   ]
  },
  {
   "cell_type": "code",
   "execution_count": 40,
   "id": "4f4163c2-2ca6-4c74-8c87-c646bfc2a29a",
   "metadata": {},
   "outputs": [
    {
     "name": "stdout",
     "output_type": "stream",
     "text": [
      "True <class 'bool'>\n",
      "True <class 'bool'>\n",
      "True <class 'bool'>\n"
     ]
    }
   ],
   "source": [
    "# 논리형 자료를 변수에 할당하고, 값과 자료형을 출력해보기\n",
    "g = bool(2)     # 0, 0,0, Null 문자열이 아닌 값으로 bool 인스턴스 생성 : True\n",
    "h = bool(1.0)\n",
    "i = bool('a')\n",
    "\n",
    "print(g, type(g))\n",
    "print(h, type(h))\n",
    "print(i, type(i))"
   ]
  },
  {
   "cell_type": "markdown",
   "id": "a8cc8cb5-786a-4316-aa76-1bc3981feaa1",
   "metadata": {},
   "source": [
    "### 2.3 시퀀스 자료형 - 문자열(str)\n",
    "> 순서가 있음 : 첨자로 참조할 수 있음  \n",
    "> 작은따옴표('), 큰따옴표(\")로 감싸서 표현  \n",
    "> 문자열 인덱싱, 다양한 메소드 제공  "
   ]
  },
  {
   "cell_type": "code",
   "execution_count": 44,
   "id": "cd5aade1-83a8-43fd-bb77-36583bd59a8e",
   "metadata": {},
   "outputs": [
    {
     "name": "stdout",
     "output_type": "stream",
     "text": [
      "hello <class 'str'>\n",
      "world <class 'str'>\n"
     ]
    }
   ],
   "source": [
    "# 문자열 자료를 변수에 할당하고, 값과 자료형을 출력해보기\n",
    "a = 'hello'     # str('hello')     # 'hello' 값으로 str 인스턴스 a 생성\n",
    "b = 'world'     # str('world')     # 'world' 값으로 str 인스턴스 b 생성\n",
    "\n",
    "print(a, type(a))\n",
    "print(b, type(b))"
   ]
  },
  {
   "cell_type": "code",
   "execution_count": 46,
   "id": "65002fd6-ca93-482a-bf63-88d949a88f84",
   "metadata": {},
   "outputs": [
    {
     "name": "stdout",
     "output_type": "stream",
     "text": [
      "My name\n",
      "is Jung <class 'str'>\n"
     ]
    }
   ],
   "source": [
    "# 여러 줄의 문자열 값으로 str 인스턴스 c 생성\n",
    "c = '''My name\n",
    "is Jung'''\n",
    "\n",
    "print(c, type(c))"
   ]
  },
  {
   "cell_type": "code",
   "execution_count": 54,
   "id": "54cb6935-d103-4f96-89f3-1fac82b46868",
   "metadata": {},
   "outputs": [
    {
     "name": "stdout",
     "output_type": "stream",
     "text": [
      "'python'\n"
     ]
    }
   ],
   "source": [
    "# 문자열 내부의 문자열 표현\n",
    "d = \"'python'\"\n",
    "\n",
    "print(d)"
   ]
  },
  {
   "cell_type": "code",
   "execution_count": 56,
   "id": "60a3d430-ecbb-4a26-a988-e5a059b1687c",
   "metadata": {},
   "outputs": [
    {
     "name": "stdout",
     "output_type": "stream",
     "text": [
      "\"python\"\n"
     ]
    }
   ],
   "source": [
    "# 문자열 내부의 문자열 표현\n",
    "e = '\"python\"'\n",
    "\n",
    "print(e)"
   ]
  },
  {
   "cell_type": "code",
   "execution_count": 58,
   "id": "03633db2-32dc-4398-9e0d-d36a285e5945",
   "metadata": {},
   "outputs": [
    {
     "name": "stdout",
     "output_type": "stream",
     "text": [
      "d o n\n"
     ]
    }
   ],
   "source": [
    "# 시퀀스형 자료(순서를 가지고 나열된 형태)\n",
    "f = 'dongyang'\n",
    "\n",
    "print(f[0], f[1], f[2])"
   ]
  },
  {
   "cell_type": "code",
   "execution_count": 60,
   "id": "b4f69781-5546-4baf-9bfe-f8d38c90035a",
   "metadata": {},
   "outputs": [
    {
     "name": "stdout",
     "output_type": "stream",
     "text": [
      "c\n",
      "o\n",
      "m\n",
      "p\n",
      "u\n",
      "t\n",
      "e\n",
      "r\n"
     ]
    }
   ],
   "source": [
    "# 시퀀스형 자(순서를 가지 나열된 형태)\n",
    "# 제어문을 활용하여 한 글자씩 출력하기\n",
    "g = 'computer'\n",
    "\n",
    "for char in g :\n",
    "    print(char)"
   ]
  },
  {
   "cell_type": "code",
   "execution_count": 62,
   "id": "2c7fc7f0-9aab-4c52-9b6b-c4c08d4edd89",
   "metadata": {},
   "outputs": [
    {
     "name": "stdout",
     "output_type": "stream",
     "text": [
      "a\n"
     ]
    }
   ],
   "source": [
    "# 파이썬에서는 한 글자의 문자도 문자열로 취급함\n",
    "h = 'a'\n",
    "\n",
    "print(h[0])"
   ]
  },
  {
   "cell_type": "markdown",
   "id": "7123df20-3936-46f2-a7e4-793043e6860d",
   "metadata": {},
   "source": [
    "### 2.4 시퀀스 자료형 - 리스트(list)\n",
    "> []로 감싸 변경 가능(mutable)한 순차 자료형  \n",
    "> 순서가 있음 : 첨자로 참조할 수 있음  \n",
    "> 요소 추가/제거 가능  "
   ]
  },
  {
   "cell_type": "code",
   "execution_count": 3,
   "id": "6f9e7c92-4628-45ee-95aa-a33441b8afa2",
   "metadata": {},
   "outputs": [
    {
     "name": "stdout",
     "output_type": "stream",
     "text": [
      "[10, 20, 30] <class 'list'>\n"
     ]
    }
   ],
   "source": [
    "# 리스트 자료를 변수에 할당하고, 값과 자료형을 출력해보기\n",
    "a = [10, 20, 30]     # list[10, 20, 30]     # [10, 20, 30] 값으로 list 인스턴스 a 생성\n",
    "\n",
    "print(a, type(a))"
   ]
  },
  {
   "cell_type": "code",
   "execution_count": 5,
   "id": "517b6ea5-7fd3-4ade-9927-be8c6487abe1",
   "metadata": {},
   "outputs": [
    {
     "name": "stdout",
     "output_type": "stream",
     "text": [
      "[1, 3.92, False, 'dongyang'] <class 'list'>\n"
     ]
    }
   ],
   "source": [
    "# 리스트 자료 항목으 다양한 자료형 사용 가능\n",
    "b = [1, 3.92, 3 > 5, 'dongyang']     # list([10, 3.92, 3 > 5, 'dongyang'])\n",
    "\n",
    "print(b, type(b))"
   ]
  },
  {
   "cell_type": "code",
   "execution_count": 9,
   "id": "81b524bc-3b0b-44c3-883f-286b4810f568",
   "metadata": {},
   "outputs": [
    {
     "name": "stdout",
     "output_type": "stream",
     "text": [
      "1 3.92 False dongyang\n"
     ]
    }
   ],
   "source": [
    "# 시퀀스형 자료(순서를 가지고 나열된 형태)\n",
    "c = [1, 3.92, 3 > 5, 'dongyang']\n",
    "\n",
    "print(c[0], c[1], c[2], c[3])"
   ]
  },
  {
   "cell_type": "code",
   "execution_count": 11,
   "id": "b779659c-5ba9-477c-81f2-4a8531d9e00f",
   "metadata": {},
   "outputs": [
    {
     "name": "stdout",
     "output_type": "stream",
     "text": [
      "1\n",
      "3.92\n",
      "False\n",
      "dongyang\n"
     ]
    }
   ],
   "source": [
    "# 시퀀스형 자료(순서를 가지고 나열된 형태)\n",
    "# 제어문을 활용하여 한 항목씩 출력하기\n",
    "\n",
    "d = [1, 3.92, 3 > 5, 'dongyang']\n",
    "\n",
    "for item in d :\n",
    "    print(item)"
   ]
  },
  {
   "cell_type": "code",
   "execution_count": 13,
   "id": "1e8cb950-a766-470f-977d-541db35b4c0b",
   "metadata": {},
   "outputs": [
    {
     "name": "stdout",
     "output_type": "stream",
     "text": [
      "변경 전 :  [10, 'python', 'java']\n",
      "변경 후 :  ['C#', 'python', 'java']\n"
     ]
    }
   ],
   "source": [
    "# 리스트 변수 값은 수정 가능함(mutable)\n",
    "e = [10, 'python', 'java']     # list([10, 'python', 'java])\n",
    "print('변경 전 : ', e)\n",
    "\n",
    "e[0] = 'C#'\n",
    "print('변경 후 : ', e)"
   ]
  },
  {
   "cell_type": "markdown",
   "id": "81c083e7-830b-4aef-afc6-228f8a88a41b",
   "metadata": {},
   "source": [
    "### 2.5 시퀀스 자료형 - 튜플(tuple)\n",
    "> ()로 감싸며 변경 불가능(immutable)  \n",
    "> 수정이 불가능하지만, 빠른 속도와 해싱이 가능  "
   ]
  },
  {
   "cell_type": "code",
   "execution_count": 16,
   "id": "cb752c5f-fd76-46e7-b297-27f5fa7f4ce6",
   "metadata": {},
   "outputs": [
    {
     "name": "stdout",
     "output_type": "stream",
     "text": [
      "(10, 20, 30) <class 'tuple'>\n"
     ]
    }
   ],
   "source": [
    "# 튜플 자료를 변수에 할당하고, 값과 자료형을 출력해보기\n",
    "a = (10, 20, 30)     # tuple((10, 20, 30))     # (10, 20, 30) 값으로 tuple 인스턴스 a 생성\n",
    "\n",
    "print(a, type(a))"
   ]
  },
  {
   "cell_type": "code",
   "execution_count": 20,
   "id": "b69c9b54-ac1a-4228-9568-e3ab0c2d6b86",
   "metadata": {},
   "outputs": [
    {
     "name": "stdout",
     "output_type": "stream",
     "text": [
      "(10, 20, 30) <class 'tuple'>\n"
     ]
    }
   ],
   "source": [
    "# 튜플에서는 괄호를 생략할 수 있음\n",
    "b = 10, 20, 30     # 10, 20, 30 값으로 tuple 인스턴스 b 생성\n",
    "\n",
    "print(b, type(b))"
   ]
  },
  {
   "cell_type": "code",
   "execution_count": 22,
   "id": "616233fe-7d6b-4e3d-a3b8-a1863774af8b",
   "metadata": {},
   "outputs": [
    {
     "name": "stdout",
     "output_type": "stream",
     "text": [
      "(10, False, 'computer') <class 'tuple'>\n"
     ]
    }
   ],
   "source": [
    "# 튜플 자료 항목으로 다양한 자료형 사용 가능\n",
    "c = (10, 3 > 5, 'computer')     # (10, 3 > 5, 'computer') 값으로 인스턴스 c 생성\n",
    "\n",
    "print(c, type(c))"
   ]
  },
  {
   "cell_type": "code",
   "execution_count": 28,
   "id": "7e6af2a8-a465-4e8b-a0a4-88f44809257d",
   "metadata": {},
   "outputs": [
    {
     "name": "stdout",
     "output_type": "stream",
     "text": [
      "10 False computer\n"
     ]
    }
   ],
   "source": [
    "# 시퀀스형 자료(순서를 가지고 나열된 형태)\n",
    "c = (10, 3 > 5, 'computer')\n",
    "\n",
    "print(c[0], c[1], c[2])"
   ]
  },
  {
   "cell_type": "code",
   "execution_count": 30,
   "id": "32f205be-4070-41e0-9118-df82569936e9",
   "metadata": {},
   "outputs": [
    {
     "name": "stdout",
     "output_type": "stream",
     "text": [
      "10\n",
      "False\n",
      "computer\n"
     ]
    }
   ],
   "source": [
    "# 시퀀스형 자료(순서를 가지고 나열된 형태)\n",
    "# 제어문을 활용하 한 항목씩 출력하기\n",
    "c = (10, 3 > 5, 'computer')\n",
    "\n",
    "for item in c :\n",
    "    print(item)"
   ]
  },
  {
   "cell_type": "code",
   "execution_count": 32,
   "id": "c004cba7-1442-468c-915a-7d4cf8c585f7",
   "metadata": {},
   "outputs": [
    {
     "name": "stdout",
     "output_type": "stream",
     "text": [
      "변경 전 :  (10, False, 'computer')\n"
     ]
    },
    {
     "ename": "TypeError",
     "evalue": "'tuple' object does not support item assignment",
     "output_type": "error",
     "traceback": [
      "\u001b[0;31m---------------------------------------------------------------------------\u001b[0m",
      "\u001b[0;31mTypeError\u001b[0m                                 Traceback (most recent call last)",
      "Cell \u001b[0;32mIn[32], line 7\u001b[0m\n\u001b[1;32m      4\u001b[0m \u001b[38;5;28mprint\u001b[39m(\u001b[38;5;124m'\u001b[39m\u001b[38;5;124m변경 전 : \u001b[39m\u001b[38;5;124m'\u001b[39m, c)\n\u001b[1;32m      6\u001b[0m \u001b[38;5;66;03m# 변경시 오류 발생\u001b[39;00m\n\u001b[0;32m----> 7\u001b[0m c[\u001b[38;5;241m0\u001b[39m] \u001b[38;5;241m=\u001b[39m \u001b[38;5;124m'\u001b[39m\u001b[38;5;124msoftware\u001b[39m\u001b[38;5;124m'\u001b[39m\n\u001b[1;32m      8\u001b[0m \u001b[38;5;28mprint\u001b[39m(\u001b[38;5;124m'\u001b[39m\u001b[38;5;124m변경 후 : \u001b[39m\u001b[38;5;124m'\u001b[39m, c)\n",
      "\u001b[0;31mTypeError\u001b[0m: 'tuple' object does not support item assignment"
     ]
    }
   ],
   "source": [
    "# 튜플 변수 값은 수정 불가능함(immutable)\n",
    "# 튜플은 리스트 자료형보다 처리 속도 빠름\n",
    "c = (10, 3 > 5, 'computer')\n",
    "print('변경 전 : ', c)\n",
    "\n",
    "# 변경시 오류 발생\n",
    "c[0] = 'software'\n",
    "print('변경 후 : ', c)"
   ]
  },
  {
   "cell_type": "markdown",
   "id": "0b9bfbc4-07d7-486c-ae26-58aa35675fc7",
   "metadata": {},
   "source": [
    "### 2.6 매핑 자료형 - 딕(dict)\n",
    "> {key : value} 형태로 데이터를 저장  \n",
    "> 순서가 없음 : 첨자 참조할 수 없음, 키 값을 참조  \n",
    "> 키를 통한 빠른 데이터 검색 가능  "
   ]
  },
  {
   "cell_type": "code",
   "execution_count": 36,
   "id": "51350214-2d89-4129-9be0-2d8312b29295",
   "metadata": {},
   "outputs": [
    {
     "name": "stdout",
     "output_type": "stream",
     "text": [
      "{'라면': 1200, '음료수': 1500, '과자': 800} <class 'dict'>\n"
     ]
    }
   ],
   "source": [
    "# dict 자료를 변수 할당하고, 값고 자료형을 출력해보기\n",
    "mart = {'라면' : 1200, '음료수' : 1500, '과자' : 800}     # mart = dict({'라면' : 1200, '음료수' : 1500, '과자' : 800})\n",
    "\n",
    "print(mart, type(mart))"
   ]
  },
  {
   "cell_type": "code",
   "execution_count": 38,
   "id": "3f324df3-d33d-40a7-8e6f-ac23be6e45b5",
   "metadata": {},
   "outputs": [
    {
     "name": "stdout",
     "output_type": "stream",
     "text": [
      "1500 800\n"
     ]
    }
   ],
   "source": [
    "# 키로 값을 참조할 수 있음\n",
    "mart = {'라면' : 1200, '음료수' : 1500, '과자' : 800}\n",
    "\n",
    "print(mart['음료수'], mart['과자'])"
   ]
  },
  {
   "cell_type": "code",
   "execution_count": 40,
   "id": "e595944f-6dd4-402d-bd24-40478c5e171b",
   "metadata": {},
   "outputs": [
    {
     "name": "stdout",
     "output_type": "stream",
     "text": [
      "{'라면': 1200, '음료수': 5000, '과자': 800}\n"
     ]
    }
   ],
   "source": [
    "# 키로 값을 변경할 수 있음(mutable)\n",
    "mart = {'라면' : 1200, '음료수' : 1500, '과자' : 800}\n",
    "\n",
    "mart['음료수'] = 5000\n",
    "print(mart)"
   ]
  },
  {
   "cell_type": "code",
   "execution_count": 42,
   "id": "8dc76bd8-3e15-4a2e-8991-87edbfbfade0",
   "metadata": {},
   "outputs": [
    {
     "name": "stdout",
     "output_type": "stream",
     "text": [
      "키와 값 추가 전 :  {'라면': 1200, '음료수': 1500, '과자': 800}\n",
      "키와 값 추 후 :  {'라면': 1200, '음료수': 1500, '과자': 800, '삼각김밥': 1700}\n"
     ]
    }
   ],
   "source": [
    "# 새로운 키와 값을 추가할 수 있음(mutable)\n",
    "mart = {'라면' : 1200, '음료수' : 1500, '과자' : 800}\n",
    "print('키와 값 추가 전 : ', mart)\n",
    "\n",
    "mart['삼각김밥'] = 1700\n",
    "print('키와 값 추 후 : ', mart)"
   ]
  },
  {
   "cell_type": "code",
   "execution_count": 46,
   "id": "368fcabb-1940-4155-8d7e-0e4ec77c81e6",
   "metadata": {},
   "outputs": [
    {
     "name": "stdout",
     "output_type": "stream",
     "text": [
      "dict_keys(['라면', '음료수', '과자'])\n",
      "dict_values([1200, 1500, 800])\n",
      "dict_items([('라면', 1200), ('음료수', 1500), ('과자', 800)])\n"
     ]
    }
   ],
   "source": [
    "# 키의 목록, 값의 목록, 각 항목의 목록을 참조할 수 있음\n",
    "mart = {'라면' : 1200, '음료수' : 1500, '과자' : 800}\n",
    "\n",
    "print(mart.keys())\n",
    "print(mart.values())\n",
    "print(mart.items())"
   ]
  },
  {
   "cell_type": "code",
   "execution_count": 48,
   "id": "1dfa8883-abea-4242-9981-805b081a6ea3",
   "metadata": {},
   "outputs": [
    {
     "name": "stdout",
     "output_type": "stream",
     "text": [
      "라면\n",
      "음료수\n",
      "과자\n"
     ]
    }
   ],
   "source": [
    "# 제어문을 활용하 키 목록 출력하기\n",
    "mart = {'라면' : 1200, '음료수' : 1500, '과자' : 800}\n",
    "\n",
    "for key in mart.keys() :\n",
    "    print(key)"
   ]
  },
  {
   "cell_type": "code",
   "execution_count": 50,
   "id": "1814e224-8463-4f38-b952-82ce7a86e9b6",
   "metadata": {},
   "outputs": [
    {
     "name": "stdout",
     "output_type": "stream",
     "text": [
      "1200\n",
      "1500\n",
      "800\n"
     ]
    }
   ],
   "source": [
    "# 제어문을 활용하여 값 목록 출력하기\n",
    "mart = {'라면' : 1200, '음료수' : 1500, '과자' : 800}\n",
    "\n",
    "for v in mart.values() :\n",
    "    print(v)"
   ]
  },
  {
   "cell_type": "code",
   "execution_count": 52,
   "id": "3e2b166b-441d-41a4-af12-4eb4c1c4972f",
   "metadata": {},
   "outputs": [
    {
     "name": "stdout",
     "output_type": "stream",
     "text": [
      "라면 1200\n",
      "음료수 1500\n",
      "과자 800\n"
     ]
    }
   ],
   "source": [
    "# 제어문을 활용하여 항목 목록 출력하기\n",
    "mart = {'라면' : 1200, '음료수' : 1500, '과자' : 800}\n",
    "\n",
    "for 항목, 값 in mart.items() :\n",
    "    print(항목, 값)"
   ]
  },
  {
   "cell_type": "code",
   "execution_count": 62,
   "id": "cf7ac5a7-0e4a-4701-b751-e3f9aef4e698",
   "metadata": {},
   "outputs": [
    {
     "name": "stdout",
     "output_type": "stream",
     "text": [
      "키와 값 추가 전 :  {'라면': 1200, '음료수': 1500, '과자': 800}\n",
      "키와 값 추가 후 :  {'라면': 1200, '음료수': 1500, '과자': 800, ('삼각김밥', '단무지'): 1700}\n"
     ]
    }
   ],
   "source": [
    "# dict 자료형에서는 키는 불변 객체(immutable)만 사용 가능 - 튜플, 숫자, 문자열\n",
    "mart = {'라면' : 1200, '음료수' : 1500, '과자' : 800}\n",
    "print('키와 값 추가 전 : ', mart)\n",
    "\n",
    "# 튜플 키 추가 가능\n",
    "mart[('삼각김밥', '단무지')] = 1700\n",
    "print('키와 값 추가 후 : ', mart)"
   ]
  },
  {
   "cell_type": "code",
   "execution_count": 64,
   "id": "d4b06d37-6251-487a-b46a-dc473ba5250e",
   "metadata": {},
   "outputs": [
    {
     "name": "stdout",
     "output_type": "stream",
     "text": [
      "키와 값 추가 전 :  {'라면': 1200, '음료수': 1500, '과자': 800}\n"
     ]
    },
    {
     "ename": "TypeError",
     "evalue": "unhashable type: 'list'",
     "output_type": "error",
     "traceback": [
      "\u001b[0;31m---------------------------------------------------------------------------\u001b[0m",
      "\u001b[0;31mTypeError\u001b[0m                                 Traceback (most recent call last)",
      "Cell \u001b[0;32mIn[64], line 6\u001b[0m\n\u001b[1;32m      3\u001b[0m \u001b[38;5;28mprint\u001b[39m(\u001b[38;5;124m'\u001b[39m\u001b[38;5;124m키와 값 추가 전 : \u001b[39m\u001b[38;5;124m'\u001b[39m, mart)\n\u001b[1;32m      5\u001b[0m \u001b[38;5;66;03m# 리스트 키 추가 불가능 => 오류 발생\u001b[39;00m\n\u001b[0;32m----> 6\u001b[0m mart[[\u001b[38;5;124m'\u001b[39m\u001b[38;5;124m삼각김밥\u001b[39m\u001b[38;5;124m'\u001b[39m, \u001b[38;5;124m'\u001b[39m\u001b[38;5;124m단무지\u001b[39m\u001b[38;5;124m'\u001b[39m]] \u001b[38;5;241m=\u001b[39m \u001b[38;5;241m1700\u001b[39m\n\u001b[1;32m      7\u001b[0m \u001b[38;5;28mprint\u001b[39m(\u001b[38;5;124m'\u001b[39m\u001b[38;5;124m키와 값 추가 후 : \u001b[39m\u001b[38;5;124m'\u001b[39m, mart)\n",
      "\u001b[0;31mTypeError\u001b[0m: unhashable type: 'list'"
     ]
    }
   ],
   "source": [
    "# dict 자료형에서 키는 불변 객체(immutable)만 사용 가능 - 튜플, 숫자, 문자열\n",
    "mart = {'라면' : 1200, '음료수' : 1500, '과자' : 800}\n",
    "print('키와 값 추가 전 : ', mart)\n",
    "\n",
    "# 리스트 키 추가 불가능 => 오류 발생\n",
    "mart[['삼각김밥', '단무지']] = 1700\n",
    "print('키와 값 추가 후 : ', mart)"
   ]
  },
  {
   "cell_type": "markdown",
   "id": "ccb2a3c3-f033-4572-8680-87750fd58813",
   "metadata": {},
   "source": [
    "### 2.7 집합형 자료형 - set\n",
    "> {}로 감싸며 중복을 허용하지 않는 자료형   \n",
    "> 교집합, 합집합 등의 집합 연산 가능  \n",
    "> 변경이 가능한(mutable) 집합 : 요소 추가, 삭제 가능  \n",
    "> 다만 set의 원소는 수정 불가 항목(immutable)인 int, float, str, 튜플은 추가 가능  \n",
    "> 수정 가능 항목(mutable)인 list, dict은 추가 불가능  "
   ]
  },
  {
   "cell_type": "code",
   "execution_count": 68,
   "id": "e7a9fb5e-7d90-430b-9dd3-634765010be9",
   "metadata": {},
   "outputs": [
    {
     "name": "stdout",
     "output_type": "stream",
     "text": [
      "{'오렌지', '사과', '배'} <class 'set'>\n"
     ]
    }
   ],
   "source": [
    "# set 자료를 변수에 할당하고, 값과 자료형을 출력해보기\n",
    "# 중복 저장하 않음\n",
    "basket = {'사과', '오렌지', '사과', '배'}     # basket = set({'사과', '오렌지', '사과', '배'})\n",
    "print(basket, type(basket))"
   ]
  },
  {
   "cell_type": "code",
   "execution_count": 70,
   "id": "daad0d61-1835-450c-93da-5d915058d505",
   "metadata": {},
   "outputs": [
    {
     "ename": "TypeError",
     "evalue": "'set' object is not subscriptable",
     "output_type": "error",
     "traceback": [
      "\u001b[0;31m---------------------------------------------------------------------------\u001b[0m",
      "\u001b[0;31mTypeError\u001b[0m                                 Traceback (most recent call last)",
      "Cell \u001b[0;32mIn[70], line 4\u001b[0m\n\u001b[1;32m      1\u001b[0m \u001b[38;5;66;03m# 순서가 없음 : 첨자 참조 불가능\u001b[39;00m\n\u001b[1;32m      2\u001b[0m \u001b[38;5;66;03m# 오류 발생\u001b[39;00m\n\u001b[1;32m      3\u001b[0m basket \u001b[38;5;241m=\u001b[39m {\u001b[38;5;124m'\u001b[39m\u001b[38;5;124m사과\u001b[39m\u001b[38;5;124m'\u001b[39m, \u001b[38;5;124m'\u001b[39m\u001b[38;5;124m오렌지\u001b[39m\u001b[38;5;124m'\u001b[39m, \u001b[38;5;124m'\u001b[39m\u001b[38;5;124m배\u001b[39m\u001b[38;5;124m'\u001b[39m}\n\u001b[0;32m----> 4\u001b[0m \u001b[38;5;28mprint\u001b[39m(basket[\u001b[38;5;241m0\u001b[39m])\n",
      "\u001b[0;31mTypeError\u001b[0m: 'set' object is not subscriptable"
     ]
    }
   ],
   "source": [
    "# 순서가 없음 : 첨자 참조 불가능\n",
    "# 오류 발생\n",
    "basket = {'사과', '오렌지', '배'}\n",
    "print(basket[0])"
   ]
  },
  {
   "cell_type": "code",
   "execution_count": 74,
   "id": "d4b68f37-1e64-4b11-93af-dbed53159249",
   "metadata": {},
   "outputs": [
    {
     "name": "stdout",
     "output_type": "stream",
     "text": [
      "항목 추가 전 : {'오렌지', '사과', '배'}\n",
      "항목 추가 후 : {'오렌지', '사과', '배', '딸기'}\n"
     ]
    }
   ],
   "source": [
    "# set에 항목 추가\n",
    "basket = {'사과', '오렌지', '배'}\n",
    "print(f'항목 추가 전 : {basket}')\n",
    "\n",
    "basket.add('딸기')\n",
    "print(f'항목 추가 후 : {basket}')"
   ]
  },
  {
   "cell_type": "code",
   "execution_count": 78,
   "id": "df4c0f2a-ba39-4a6c-9025-005ff2103a4a",
   "metadata": {},
   "outputs": [
    {
     "name": "stdout",
     "output_type": "stream",
     "text": [
      "항목 추가 전 : {'오렌지', '사과', '배'}\n",
      "항목 추가 후 : {'오렌지', '사과', '배', ('딸기', '바나나')}\n"
     ]
    }
   ],
   "source": [
    "# set에 항목으로 수정 불가 항목(immutable)인 int, float, str, 튜플은 추가 가능\n",
    "basket = {'사과', '오렌지', '배'}\n",
    "print(f'항목 추가 전 : {basket}')\n",
    "\n",
    "# set에 수정 불가능 항목 튜플 추가\n",
    "basket.add(('딸기', '바나나'))\n",
    "print(f'항목 추가 후 : {basket}')"
   ]
  },
  {
   "cell_type": "code",
   "execution_count": 80,
   "id": "aaba7854-a032-495c-a998-ff057edf4c04",
   "metadata": {},
   "outputs": [
    {
     "name": "stdout",
     "output_type": "stream",
     "text": [
      "항목 추가 전 : {'오렌지', '사과', '배'}\n"
     ]
    },
    {
     "ename": "TypeError",
     "evalue": "unhashable type: 'list'",
     "output_type": "error",
     "traceback": [
      "\u001b[0;31m---------------------------------------------------------------------------\u001b[0m",
      "\u001b[0;31mTypeError\u001b[0m                                 Traceback (most recent call last)",
      "Cell \u001b[0;32mIn[80], line 7\u001b[0m\n\u001b[1;32m      3\u001b[0m \u001b[38;5;28mprint\u001b[39m(\u001b[38;5;124mf\u001b[39m\u001b[38;5;124m'\u001b[39m\u001b[38;5;124m항목 추가 전 : \u001b[39m\u001b[38;5;132;01m{\u001b[39;00mbasket\u001b[38;5;132;01m}\u001b[39;00m\u001b[38;5;124m'\u001b[39m)\n\u001b[1;32m      5\u001b[0m \u001b[38;5;66;03m# set에 수정 가능 항목 리스트 추가\u001b[39;00m\n\u001b[1;32m      6\u001b[0m \u001b[38;5;66;03m# 오류 발생\u001b[39;00m\n\u001b[0;32m----> 7\u001b[0m basket\u001b[38;5;241m.\u001b[39madd([\u001b[38;5;124m'\u001b[39m\u001b[38;5;124m딸기\u001b[39m\u001b[38;5;124m'\u001b[39m, \u001b[38;5;124m'\u001b[39m\u001b[38;5;124m바나나\u001b[39m\u001b[38;5;124m'\u001b[39m])\n\u001b[1;32m      8\u001b[0m \u001b[38;5;28mprint\u001b[39m(\u001b[38;5;124mf\u001b[39m\u001b[38;5;124m'\u001b[39m\u001b[38;5;124m항목 추가 후 : \u001b[39m\u001b[38;5;132;01m{\u001b[39;00mbasket\u001b[38;5;132;01m}\u001b[39;00m\u001b[38;5;124m'\u001b[39m)\n",
      "\u001b[0;31mTypeError\u001b[0m: unhashable type: 'list'"
     ]
    }
   ],
   "source": [
    "# set에 항목으로 수정 가능 항목(mutable)인 list, dict은 추가 불가능\n",
    "basket = {'사과', '오렌지', '배'}\n",
    "print(f'항목 추가 전 : {basket}')\n",
    "\n",
    "# set에 수정 가능 항목 리스트 추가\n",
    "# 오류 발생\n",
    "basket.add(['딸기', '바나나'])\n",
    "print(f'항목 추가 후 : {basket}')"
   ]
  },
  {
   "cell_type": "code",
   "execution_count": 84,
   "id": "32d67ac7-c94b-468e-a4b3-6f78b3b6e001",
   "metadata": {},
   "outputs": [
    {
     "name": "stdout",
     "output_type": "stream",
     "text": [
      "{1, 2, 3, 4, 5, 6}\n",
      "{3, 4}\n",
      "{1, 2}\n",
      "{1, 2, 5, 6}\n"
     ]
    }
   ],
   "source": [
    "A = {1, 2, 3, 4}\n",
    "B = {3, 4, 5, 6}\n",
    "\n",
    "print(A | B)     # {1, 2, 3, 4, 5, 6} (합집합)\n",
    "print(A & B)     # {3, 4} (교집합)\n",
    "print(A - B)     # {1, 2} (차집합)\n",
    "print(A ^ B)     # {1, 2, 5, 6} (대칭 차집합)"
   ]
  },
  {
   "cell_type": "code",
   "execution_count": null,
   "id": "6152e52c-0c9b-4bc2-a648-9573c6af423c",
   "metadata": {},
   "outputs": [],
   "source": []
  }
 ],
 "metadata": {
  "kernelspec": {
   "display_name": "Python [conda env:base] *",
   "language": "python",
   "name": "conda-base-py"
  },
  "language_info": {
   "codemirror_mode": {
    "name": "ipython",
    "version": 3
   },
   "file_extension": ".py",
   "mimetype": "text/x-python",
   "name": "python",
   "nbconvert_exporter": "python",
   "pygments_lexer": "ipython3",
   "version": "3.12.7"
  }
 },
 "nbformat": 4,
 "nbformat_minor": 5
}
