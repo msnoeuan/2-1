{
 "cells": [
  {
   "cell_type": "markdown",
   "id": "c155f1cb-1929-4280-8698-fa2e44faf70b",
   "metadata": {},
   "source": [
    "## Lecture 1 : 표준 입력과 표준 출력\n",
    "### 1. 자료 입력 input()과 변환함수 int(), float()\n",
    "- input() 키보드의 입력을 반환하는 함수\n",
    "- int(), float() : 수의 형태를 정수나 실수로 변환하는 내장 함수"
   ]
  },
  {
   "cell_type": "code",
   "execution_count": 1,
   "id": "fceabbc7-6d0b-4fd5-91e0-71eacc6954a8",
   "metadata": {},
   "outputs": [
    {
     "name": "stdin",
     "output_type": "stream",
     "text": [
      "실수 가로 길이 입력 >>  3\n",
      "정수로 세로 길이 입력 >>  5\n"
     ]
    },
    {
     "name": "stdout",
     "output_type": "stream",
     "text": [
      "삼각형의 넓이는 :  7.5\n",
      "사각형의 넓이는 :  15.0\n"
     ]
    }
   ],
   "source": [
    "### 2.8 코딩(p.81)\n",
    "\n",
    "# 표준 입력\n",
    "width = float(input(\"실수 가로 길이 입력 >> \" ))\n",
    "height = float(input(\"정수로 세로 길이 입력 >> \"))\n",
    "\n",
    "# 계산 및 출력\n",
    "area = height * width\n",
    "print(\"삼각형의 넓이는 : \", area / 2)\n",
    "print(\"사각형의 넓이는 : \", area)"
   ]
  },
  {
   "cell_type": "code",
   "execution_count": 3,
   "id": "9012f554-259a-492d-a8e8-c7a3db15a907",
   "metadata": {},
   "outputs": [
    {
     "name": "stdin",
     "output_type": "stream",
     "text": [
      "실수로 가로 길이 입력 >>  4\n"
     ]
    },
    {
     "name": "stdout",
     "output_type": "stream",
     "text": [
      "4 <class 'str'>\n"
     ]
    }
   ],
   "source": [
    "width = input(\"실수로 가로 길이 입력 >> \")\n",
    "\n",
    "print(width, type(width))"
   ]
  },
  {
   "cell_type": "code",
   "execution_count": 5,
   "id": "cf96849f-6706-40ea-af73-804029fc6fb1",
   "metadata": {},
   "outputs": [
    {
     "name": "stdin",
     "output_type": "stream",
     "text": [
      "실수로 가로 길이 입력 >>  3\n",
      "정수로 세로 길이 입력 >>  6\n"
     ]
    },
    {
     "name": "stdout",
     "output_type": "stream",
     "text": [
      "<class 'float'> <class 'int'> <class 'float'>\n"
     ]
    }
   ],
   "source": [
    "width = float(input(\"실수로 가로 길이 입력 >> \"))\n",
    "height = int(input(\"정수로 세로 길이 입력 >> \"))\n",
    "area = height * width\n",
    "\n",
    "print(type(width), type(height), type(area))\n",
    "# Python에서는 정수(int)와 실수(float)가 연산될 때, 자동으로 더 큰 범위(정확도)의 타입인 float으로 변환됨"
   ]
  },
  {
   "cell_type": "markdown",
   "id": "77cc384e-fe79-4095-b6f3-3e0c9ff5dc4b",
   "metadata": {},
   "source": [
    "### 2. 출력을 위한 문자열 format\n",
    "- str.format()\n",
    "- f-string\n",
    "- % format"
   ]
  },
  {
   "cell_type": "code",
   "execution_count": 1,
   "id": "7ff8e3e9-fe7e-45fb-a559-af4d1884252f",
   "metadata": {},
   "outputs": [
    {
     "name": "stdout",
     "output_type": "stream",
     "text": [
      "가로 : 3, 세로 : 6, 면적 : 18\n"
     ]
    }
   ],
   "source": [
    "### 2-9 코딩(p.83)\n",
    "\n",
    "# 변수 가로와 세로 저장\n",
    "width, height = 3, 6\n",
    "\n",
    "# str.format() - {}에 인자 값을 대체\n",
    "print('가로 : {}, 세로 : {}, 면적 : {}'.format(width, height, width * height))"
   ]
  },
  {
   "cell_type": "code",
   "execution_count": 3,
   "id": "508de072-1c4a-46ea-a8ef-b9d2356d0ef4",
   "metadata": {},
   "outputs": [
    {
     "name": "stdout",
     "output_type": "stream",
     "text": [
      "가로 : 3, 세로 : 6, 면적 : 18\n",
      "가로 : 3, 세로 : 6, 면적 : 18\n"
     ]
    }
   ],
   "source": [
    "### 2-9 코딩(p.83)\n",
    "\n",
    "# 변수 가로와 세로 저장\n",
    "width, height = 3, 6\n",
    "\n",
    "# str.format() - {}에 키워드로 인자 지정\n",
    "print('가로 : {}, 세로 : {}, 면적 : {area}'.format(width, height, area = width * height))\n",
    "print('가로 : {}, 세로 : {h}, 면적 : {area}'.format(width, h = height, area = width * height))"
   ]
  },
  {
   "cell_type": "code",
   "execution_count": 5,
   "id": "7482db1e-76df-4b10-b426-344d3d56c4d7",
   "metadata": {},
   "outputs": [
    {
     "name": "stdout",
     "output_type": "stream",
     "text": [
      "가로 : 3, 세로 : 6, 면적 : 18\n"
     ]
    }
   ],
   "source": [
    "### 2-9 코딩(p.83)\n",
    "\n",
    "# f-string\n",
    "width, height = 3, 6\n",
    "print(f'가로 : {width}, 세로 : {height}, 면적 : {width * height}')"
   ]
  },
  {
   "cell_type": "code",
   "execution_count": 7,
   "id": "49ac7067-f07d-45c8-9bbf-b145e67ca6d5",
   "metadata": {},
   "outputs": [
    {
     "name": "stdout",
     "output_type": "stream",
     "text": [
      "가로 : 3, 세로 : 6.300000, 면적 : 18.900000\n"
     ]
    }
   ],
   "source": [
    "### 2-9 코딩(p.83)\n",
    "\n",
    "# % format\n",
    "width, height = 3, 6.3\n",
    "print('가로 : %d, 세로 : %f, 면적 : %f' % (width, height, width * height))"
   ]
  },
  {
   "cell_type": "markdown",
   "id": "178d98ea-4e77-4571-b6dc-6737d525d30f",
   "metadata": {},
   "source": [
    "### 3. 상세 형식 지정자"
   ]
  },
  {
   "cell_type": "code",
   "execution_count": 11,
   "id": "e8b3551b-d185-406e-9853-762f72057337",
   "metadata": {},
   "outputs": [
    {
     "name": "stdout",
     "output_type": "stream",
     "text": [
      "math.pi : 3.1416 math.e : 2.71828\n"
     ]
    }
   ],
   "source": [
    "### 2-10 코딩\n",
    "\n",
    "# 원주율 pi를 사용하기 위해 모듈 math 불러오기\n",
    "import math\n",
    "\n",
    "# 모듈 math의 원주율 pi와 자연수(오일러 수) e 출력\n",
    "print('math.pi : {:.4f} math.e : {:.5f}'.format(math.pi, math.e))"
   ]
  },
  {
   "cell_type": "markdown",
   "id": "b9c3e246-5961-46a2-a073-866a5c8ebd28",
   "metadata": {},
   "source": [
    "## LAB : 다음 문제를 프로그램 하시오\n",
    "\n",
    "### 문제 1:(p. 93) 표준 입력으로 거리 마일(mile)을 입력 받은 후 킬로미터로 변환하여 출력하는 프로그램을 작성하시오.\n",
    "- 1 마일(mile)은 1.6km  \n",
    "  마일을 입력하시오 >> 80  \n",
    "  80.0 마일은 128.7472 킬로미터입니다.  "
   ]
  },
  {
   "cell_type": "code",
   "execution_count": 5,
   "id": "fd4ae3d0-8c72-4dd6-972f-a1cf08cd7452",
   "metadata": {},
   "outputs": [
    {
     "name": "stdin",
     "output_type": "stream",
     "text": [
      "마일을 입력하시오 >> 80\n"
     ]
    },
    {
     "name": "stdout",
     "output_type": "stream",
     "text": [
      "80.0 마일은  128.0000 킬로미터입니다.\n"
     ]
    }
   ],
   "source": [
    "mile = float(input('마일을 입력하시오 >>'))\n",
    "km = mile * 1.6\n",
    "print(f'{mile} 마일은 {km : .4f} 킬로미터입니다.')"
   ]
  },
  {
   "cell_type": "code",
   "execution_count": null,
   "id": "846f2a99-d0f3-4b27-b272-1d7fcf53138c",
   "metadata": {},
   "outputs": [],
   "source": []
  }
 ],
 "metadata": {
  "kernelspec": {
   "display_name": "Python [conda env:base] *",
   "language": "python",
   "name": "conda-base-py"
  },
  "language_info": {
   "codemirror_mode": {
    "name": "ipython",
    "version": 3
   },
   "file_extension": ".py",
   "mimetype": "text/x-python",
   "name": "python",
   "nbconvert_exporter": "python",
   "pygments_lexer": "ipython3",
   "version": "3.12.7"
  }
 },
 "nbformat": 4,
 "nbformat_minor": 5
}
