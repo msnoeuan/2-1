{
 "cells": [
  {
   "cell_type": "markdown",
   "id": "682ed694-5c85-4db3-b133-7d43784bfa07",
   "metadata": {},
   "source": [
    "## Lecture 1 : 변수와 object\n",
    "1. 변수(variable) : 메모리에 할당된(실행중) object에 부착된 라벨(Label)\n",
    "- 변수를 통해서 object 참조 가능\n",
    "- object에 변수에 부착되지 않으면, 해당 object는 참조할 수 없고 garvage collectuin으로 회수됨\n",
    "- object 생성은 생성자로 생성\n",
    "- 변수를 생성한 object에 부착하는 것은 assignment문을 통해 실행됨\n",
    "\n",
    "2. object : 메모리에 할당되어 실행 중인 인스턴스\n",
    "- 3개의 특성 : Value, Identity, Type\n",
    "    - Value : 객체의 양\n",
    "    - Identity : object의 고유값(ID), CPython의 경우 할당된 메모리 주소 값으로 구현됨, id(object) 함수로 확인 가능\n",
    "    - Type : 해당 object가 derived from된 상위 class, type(object) 함수로 확인 가능"
   ]
  },
  {
   "cell_type": "code",
   "execution_count": 12,
   "id": "6fdf61fe-4995-472d-9f23-67ad40bcbcd2",
   "metadata": {},
   "outputs": [
    {
     "name": "stdout",
     "output_type": "stream",
     "text": [
      "7 4380745680 <class 'int'>\n"
     ]
    }
   ],
   "source": [
    "# int 자료 값 7로 object(instance)를 생성하고, 변수 num 부착\n",
    "num = int(7)\n",
    "\n",
    "# 변수 num에 부착된 object(instance)의 값, id, class 출력\n",
    "print(num, id(num), type(num))"
   ]
  },
  {
   "cell_type": "markdown",
   "id": "f265dbc9-39fe-4e8e-b129-6ad5529e6ddc",
   "metadata": {},
   "source": [
    "### id가 바뀌는 이유는?\n",
    "- Python에서 int는 불변(immutable) 객체이기 때문에 값이 변경되면 새로운 객체가 생성됨  \n",
    "- 이전에 가리키던 객체는 더 이상 참조하는 변수가 없으므로 Python의 가비지 컬렉터가 필요에 따라 자동으로 정리  "
   ]
  },
  {
   "cell_type": "code",
   "execution_count": 17,
   "id": "70113e49-0e09-4315-ae74-63922a49e42c",
   "metadata": {},
   "outputs": [
    {
     "name": "stdout",
     "output_type": "stream",
     "text": [
      "4380745680\n",
      "4380745712\n"
     ]
    }
   ],
   "source": [
    "# int 자료 값 7로 object(instance)를 생성하고, 변수 num 부착\n",
    "num = int(7)\n",
    "print(id(num))\n",
    "\n",
    "# int 자료 값 7 + 1로 object(instance)를 생성하고, 변수 num 부착\n",
    "num = num + 1\n",
    "print(id(num))"
   ]
  },
  {
   "cell_type": "code",
   "execution_count": 23,
   "id": "e82e246a-0ae3-401e-8d1c-ba88dbb6d1d9",
   "metadata": {},
   "outputs": [
    {
     "name": "stdout",
     "output_type": "stream",
     "text": [
      "4380745776 4380745776\n",
      "4380745808 4380745776\n"
     ]
    }
   ],
   "source": [
    "a = b = 10\n",
    "print(id(a), id(b))     # 같은 객체 참조\n",
    "\n",
    "a = a + 1     # 새로운 객체 생성\n",
    "print(id(a), id(b))"
   ]
  },
  {
   "cell_type": "markdown",
   "id": "287c9532-45d5-44a9-b922-62e707addb3c",
   "metadata": {},
   "source": [
    "## Lecture 2 : 가변성(mutable)과 불변성(immutable)\n",
    "1. 가변성(mutable) : 변수를 통해 object의 상태나 값을 변경할 수 있는 object\n",
    "2. 불변성(immutable) : 변수를 통해 object의 상태나 값을 변경할 수 없는 object\n",
    "- 숫자(int, float)의 값의 변경은 새로운 object가 생성되고 변수를 부착함으로 기존 object 변경이 불가한 객체임"
   ]
  },
  {
   "cell_type": "markdown",
   "id": "2c14a493-43f9-4f11-a2a7-945ba48613a5",
   "metadata": {},
   "source": [
    "### 1. 불변(immutable) 객체 : 숫자(int, float, complex), 문자(str), 논리(bool), tuple\n",
    "- 객체가 생성된 후, 변경되거나 수정될 수 없음\n",
    "- 액세스가 빠르고 변경 비용이 많이 들며, 이는 복사본을 생성해야 하기 때문"
   ]
  },
  {
   "cell_type": "code",
   "execution_count": 31,
   "id": "fcc7ce36-083b-4906-8e06-eba9cf45ffc5",
   "metadata": {},
   "outputs": [
    {
     "name": "stdout",
     "output_type": "stream",
     "text": [
      "4380745776\n",
      "4380745808\n"
     ]
    }
   ],
   "source": [
    "# 불변성(immutable) - 10값을 갖는 int 객체(a) 변경할 수 없음(참조 불가)\n",
    "a = 10\n",
    "print(id(a))\n",
    "a = a + 1\n",
    "print(id(a))"
   ]
  },
  {
   "cell_type": "code",
   "execution_count": 35,
   "id": "6e830e95-e108-41e5-851b-a1f11354c516",
   "metadata": {},
   "outputs": [
    {
     "name": "stdout",
     "output_type": "stream",
     "text": [
      "10 10 4380745776 4380745776\n",
      "11 10 4380745808 4380745776\n"
     ]
    }
   ],
   "source": [
    "# 불변성(immutable)\n",
    "a = b = 10\n",
    "print(a, b, id(a), id(b))\n",
    "a = a + 1\n",
    "print(a, b, id(a), id(b))"
   ]
  },
  {
   "cell_type": "markdown",
   "id": "8d998455-c998-4dfb-bbfa-f114bbd62334",
   "metadata": {},
   "source": [
    "### str과 str[0]의 id가 다른 이유\n",
    "- 문자열이 리스트처럼 저장되는 것이 아니라 각 문자가 독립적인 객체로 존재하기 때문\n",
    "- \"hello\" 자체는 하나의 객체지만, 각 문자가 독립된 str 객체로 존재"
   ]
  },
  {
   "cell_type": "code",
   "execution_count": 55,
   "id": "8ca0862e-868d-4686-ba7e-4d8250bd22c7",
   "metadata": {},
   "outputs": [
    {
     "name": "stdout",
     "output_type": "stream",
     "text": [
      "4569928240 4380808424 <class 'str'>\n"
     ]
    },
    {
     "ename": "TypeError",
     "evalue": "'str' object does not support item assignment",
     "output_type": "error",
     "traceback": [
      "\u001b[0;31m---------------------------------------------------------------------------\u001b[0m",
      "\u001b[0;31mTypeError\u001b[0m                                 Traceback (most recent call last)",
      "Cell \u001b[0;32mIn[55], line 5\u001b[0m\n\u001b[1;32m      3\u001b[0m \u001b[38;5;28mprint\u001b[39m(\u001b[38;5;28mid\u001b[39m(\u001b[38;5;28mstr\u001b[39m), \u001b[38;5;28mid\u001b[39m(\u001b[38;5;28mstr\u001b[39m[\u001b[38;5;241m0\u001b[39m]), \u001b[38;5;28mtype\u001b[39m(\u001b[38;5;28mstr\u001b[39m))\n\u001b[1;32m      4\u001b[0m \u001b[38;5;66;03m# 오류\u001b[39;00m\n\u001b[0;32m----> 5\u001b[0m \u001b[38;5;28mstr\u001b[39m[\u001b[38;5;241m0\u001b[39m] \u001b[38;5;241m=\u001b[39m \u001b[38;5;124m'\u001b[39m\u001b[38;5;124ma\u001b[39m\u001b[38;5;124m'\u001b[39m\n\u001b[1;32m      7\u001b[0m str_value \u001b[38;5;241m=\u001b[39m \u001b[38;5;124m\"\u001b[39m\u001b[38;5;124mhello\u001b[39m\u001b[38;5;124m\"\u001b[39m\n\u001b[1;32m      8\u001b[0m new_str \u001b[38;5;241m=\u001b[39m str_value[:\u001b[38;5;241m2\u001b[39m] \u001b[38;5;241m+\u001b[39m \u001b[38;5;124m\"\u001b[39m\u001b[38;5;124mK\u001b[39m\u001b[38;5;124m\"\u001b[39m \u001b[38;5;241m+\u001b[39m str_value[\u001b[38;5;241m3\u001b[39m:]\n",
      "\u001b[0;31mTypeError\u001b[0m: 'str' object does not support item assignment"
     ]
    }
   ],
   "source": [
    "# str - 불변성(immutable)\n",
    "str = \"hello\"\n",
    "print(id(str), id(str[0]), type(str))\n",
    "# 오류\n",
    "str[0] = 'a'\n",
    "\n",
    "str_value = \"hello\"\n",
    "new_str = str_value[:2] + \"K\" + str_value[3:]\n",
    "print(new_str)     # 결과 : \"heKlo\""
   ]
  },
  {
   "cell_type": "code",
   "execution_count": 57,
   "id": "37e3cc4d-cea8-4173-8ed9-e444a5210c66",
   "metadata": {},
   "outputs": [
    {
     "name": "stdout",
     "output_type": "stream",
     "text": [
      "hello 4569928240\n",
      "HELLO 5441827776\n"
     ]
    }
   ],
   "source": [
    "# str - 불변성(immutable)\n",
    "str = \"hello\"\n",
    "print(str, id(str))\n",
    "str = str.upper()\n",
    "print(str, id(str))"
   ]
  },
  {
   "cell_type": "code",
   "execution_count": 61,
   "id": "9c56edd6-857f-4d73-a106-ce0a802b6866",
   "metadata": {},
   "outputs": [
    {
     "name": "stdout",
     "output_type": "stream",
     "text": [
      "(0, 1, 2, 3) 5481186944 4380745456\n"
     ]
    },
    {
     "ename": "TypeError",
     "evalue": "'tuple' object does not support item assignment",
     "output_type": "error",
     "traceback": [
      "\u001b[0;31m---------------------------------------------------------------------------\u001b[0m",
      "\u001b[0;31mTypeError\u001b[0m                                 Traceback (most recent call last)",
      "Cell \u001b[0;32mIn[61], line 5\u001b[0m\n\u001b[1;32m      3\u001b[0m tpl \u001b[38;5;241m=\u001b[39m (\u001b[38;5;241m0\u001b[39m, \u001b[38;5;241m1\u001b[39m, \u001b[38;5;241m2\u001b[39m, \u001b[38;5;241m3\u001b[39m)\n\u001b[1;32m      4\u001b[0m \u001b[38;5;28mprint\u001b[39m(tpl, \u001b[38;5;28mid\u001b[39m(tpl), \u001b[38;5;28mid\u001b[39m(tpl[\u001b[38;5;241m0\u001b[39m]))\n\u001b[0;32m----> 5\u001b[0m tpl[\u001b[38;5;241m0\u001b[39m] \u001b[38;5;241m=\u001b[39m \u001b[38;5;241m5\u001b[39m\n",
      "\u001b[0;31mTypeError\u001b[0m: 'tuple' object does not support item assignment"
     ]
    }
   ],
   "source": [
    "# tuple - 불변성(immutable)\n",
    "# 오류 발생\n",
    "tpl = (0, 1, 2, 3)\n",
    "print(tpl, id(tpl), id(tpl[0]))\n",
    "tpl[0] = 5"
   ]
  },
  {
   "cell_type": "markdown",
   "id": "b63eb85f-325e-44fd-8017-795a1c90098c",
   "metadata": {},
   "source": [
    "### 2. 가변(mutable) 객체 : list, dict, set\n",
    "- 객체가 생성된 후, 변경되거나 수정될 수 있음\n",
    "- 변경 가능한 객체는 변경하기 쉬움"
   ]
  },
  {
   "cell_type": "code",
   "execution_count": 68,
   "id": "fe2bf908-2073-459c-b8a0-f24bc014c060",
   "metadata": {},
   "outputs": [
    {
     "name": "stdout",
     "output_type": "stream",
     "text": [
      "[500, 600, 700] 5481616512 5481076176\n",
      "[5, 600, 700] 5481616512 4380745616\n",
      "[5, 600, 700, 800] 5481616512 4380745616\n"
     ]
    }
   ],
   "source": [
    "# list - 가변성(mutable)\n",
    "lst = [500, 600, 700]\n",
    "print(lst, id(lst), id(lst[0]))\n",
    "lst[0] = 5\n",
    "print(lst, id(lst), id(lst[0]))\n",
    "\n",
    "lst.append(800)\n",
    "print(lst, id(lst), id(lst[0]))"
   ]
  },
  {
   "cell_type": "markdown",
   "id": "9f98faf6-6c79-4ccb-bf81-e7855c704e73",
   "metadata": {},
   "source": [
    "### my_lst와 new_lst의 id가 같은 이유\n",
    "- list는 가변 객체이기 때문에, 내용은 변경되더라도 객체의 주소는 유지됨"
   ]
  },
  {
   "cell_type": "code",
   "execution_count": 8,
   "id": "4f2af8e2-e8c7-4379-b666-ffa74280e70f",
   "metadata": {},
   "outputs": [
    {
     "name": "stdout",
     "output_type": "stream",
     "text": [
      "[800, 600, 700] 4436813312\n",
      "[800, 600, 700] 4436813312\n"
     ]
    }
   ],
   "source": [
    "# list - 가변성(mutable)\n",
    "my_lst = [500, 600, 700]\n",
    "new_lst = my_lst\n",
    "new_lst[0]= 800\n",
    "\n",
    "print(my_lst, id(my_lst))\n",
    "print(new_lst, id(new_lst))"
   ]
  },
  {
   "cell_type": "code",
   "execution_count": 6,
   "id": "b4c0785b-43e3-47cb-badb-0c1cfdb98173",
   "metadata": {},
   "outputs": [
    {
     "name": "stdout",
     "output_type": "stream",
     "text": [
      "{'name': 'Ram', 'age': 37}\n",
      "{'name': 'Ram', 'age': 37}\n"
     ]
    }
   ],
   "source": [
    "# dict - 가변성(mutable)\n",
    "my_dict = {'name' : 'Ram', 'age' : 25}\n",
    "new_dict = my_dict\n",
    "new_dict['age'] = 37\n",
    "\n",
    "print(my_dict)\n",
    "print(new_dict)"
   ]
  },
  {
   "cell_type": "code",
   "execution_count": null,
   "id": "c4ef1a04-5c42-4a24-83b2-7b6728c20cc0",
   "metadata": {},
   "outputs": [],
   "source": []
  }
 ],
 "metadata": {
  "kernelspec": {
   "display_name": "Python [conda env:base] *",
   "language": "python",
   "name": "conda-base-py"
  },
  "language_info": {
   "codemirror_mode": {
    "name": "ipython",
    "version": 3
   },
   "file_extension": ".py",
   "mimetype": "text/x-python",
   "name": "python",
   "nbconvert_exporter": "python",
   "pygments_lexer": "ipython3",
   "version": "3.12.7"
  }
 },
 "nbformat": 4,
 "nbformat_minor": 5
}
